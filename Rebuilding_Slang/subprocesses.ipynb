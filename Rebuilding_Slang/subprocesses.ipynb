{
 "cells": [
  {
   "cell_type": "code",
   "execution_count": 1,
   "metadata": {},
   "outputs": [
    {
     "data": {
      "text/plain": [
       "CompletedProcess(args=['python', 'submit_mnist_experiment.py'], returncode=1)"
      ]
     },
     "execution_count": 1,
     "metadata": {},
     "output_type": "execute_result"
    }
   ],
   "source": [
    "import subprocess\n",
    "\n",
    "subprocess.run([\"python\", \"submit_mnist_experiment.py\"])\n",
    "# subprocess.run([\"python\", \"make_table_3.py\"])\n"
   ]
  },
  {
   "cell_type": "code",
   "execution_count": 10,
   "metadata": {},
   "outputs": [
    {
     "name": "stdout",
     "output_type": "stream",
     "text": [
      "python d:\\Maths_Y4\\Project\\Bayesian-Neural-Network-Project\\Rebuilding Slang\\run_experiment.py --name=\"slang_mnist_experiment\" --variant=\"L_1\" --method=\"SLANG_COMPLETE\" --cv=0\n",
      "python d:\\Maths_Y4\\Project\\Bayesian-Neural-Network-Project\\Rebuilding Slang\\run_experiment.py --name=\"slang_mnist_experiment\" --variant=\"L_2\" --method=\"SLANG_COMPLETE\" --cv=0\n",
      "python d:\\Maths_Y4\\Project\\Bayesian-Neural-Network-Project\\Rebuilding Slang\\run_experiment.py --name=\"slang_mnist_experiment\" --variant=\"L_4\" --method=\"SLANG_COMPLETE\" --cv=0\n",
      "python d:\\Maths_Y4\\Project\\Bayesian-Neural-Network-Project\\Rebuilding Slang\\run_experiment.py --name=\"slang_mnist_experiment\" --variant=\"L_8\" --method=\"SLANG_COMPLETE\" --cv=0\n",
      "python d:\\Maths_Y4\\Project\\Bayesian-Neural-Network-Project\\Rebuilding Slang\\run_experiment.py --name=\"slang_mnist_experiment\" --variant=\"L_16\" --method=\"SLANG_COMPLETE\" --cv=0\n",
      "python d:\\Maths_Y4\\Project\\Bayesian-Neural-Network-Project\\Rebuilding Slang\\run_experiment.py --name=\"slang_mnist_experiment\" --variant=\"L_32\" --method=\"SLANG_COMPLETE\" --cv=0\n",
      "Done submitting jobs!\n",
      "\n",
      "'pwd' is not recognized as an internal or external command,\n",
      "operable program or batch file.\n",
      "python: can't open file 'd:\\Maths_Y4\\Project\\Bayesian-Neural-Network-Project\\Rebuilding': [Errno 2] No such file or directory\n",
      "python: can't open file 'd:\\Maths_Y4\\Project\\Bayesian-Neural-Network-Project\\Rebuilding': [Errno 2] No such file or directory\n",
      "python: can't open file 'd:\\Maths_Y4\\Project\\Bayesian-Neural-Network-Project\\Rebuilding': [Errno 2] No such file or directory\n",
      "python: can't open file 'd:\\Maths_Y4\\Project\\Bayesian-Neural-Network-Project\\Rebuilding': [Errno 2] No such file or directory\n",
      "python: can't open file 'd:\\Maths_Y4\\Project\\Bayesian-Neural-Network-Project\\Rebuilding': [Errno 2] No such file or directory\n",
      "python: can't open file 'd:\\Maths_Y4\\Project\\Bayesian-Neural-Network-Project\\Rebuilding': [Errno 2] No such file or directory\n",
      "\n"
     ]
    }
   ],
   "source": [
    "import subprocess\n",
    "\n",
    "result = subprocess.run([\"python\", \"submit_mnist_experiment.py\"], text=True, capture_output=True)\n",
    "print(result.stdout)\n",
    "print(result.stderr)\n"
   ]
  },
  {
   "cell_type": "code",
   "execution_count": null,
   "metadata": {},
   "outputs": [],
   "source": []
  },
  {
   "cell_type": "code",
   "execution_count": null,
   "metadata": {},
   "outputs": [],
   "source": []
  }
 ],
 "metadata": {
  "kernelspec": {
   "display_name": "Python 3",
   "language": "python",
   "name": "python3"
  },
  "language_info": {
   "codemirror_mode": {
    "name": "ipython",
    "version": 3
   },
   "file_extension": ".py",
   "mimetype": "text/x-python",
   "name": "python",
   "nbconvert_exporter": "python",
   "pygments_lexer": "ipython3",
   "version": "3.9.0"
  }
 },
 "nbformat": 4,
 "nbformat_minor": 2
}
