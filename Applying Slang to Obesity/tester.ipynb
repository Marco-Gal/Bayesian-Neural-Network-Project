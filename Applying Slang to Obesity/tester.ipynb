{
 "cells": [
  {
   "cell_type": "code",
   "execution_count": 33,
   "metadata": {},
   "outputs": [],
   "source": [
    "import subprocess\n",
    "# result = subprocess.run([\"python\", \"submit_mnist_experiment.py\"], text=True, capture_output=True)\n",
    "# print(result.stdout)\n",
    "# print(result.stder~r)\n",
    "\n",
    "\n"
   ]
  },
  {
   "cell_type": "code",
   "execution_count": null,
   "metadata": {},
   "outputs": [
    {
     "name": "stderr",
     "output_type": "stream",
     "text": [
      "Exception in thread Thread-68:\n",
      "Traceback (most recent call last):\n",
      "  File \"c:\\Users\\peter\\AppData\\Local\\Programs\\Python\\Python39\\lib\\threading.py\", line 950, in _bootstrap_inner\n",
      "    self.run()\n",
      "  File \"C:\\Users\\peter\\AppData\\Roaming\\Python\\Python39\\site-packages\\ipykernel\\ipkernel.py\", line 766, in run_closure\n",
      "    _threading_Thread_run(self)\n",
      "  File \"c:\\Users\\peter\\AppData\\Local\\Programs\\Python\\Python39\\lib\\threading.py\", line 888, in run\n",
      "    self._target(*self._args, **self._kwargs)\n",
      "  File \"c:\\Users\\peter\\AppData\\Local\\Programs\\Python\\Python39\\lib\\subprocess.py\", line 1475, in _readerthread\n",
      "    buffer.append(fh.read())\n",
      "  File \"c:\\Users\\peter\\AppData\\Local\\Programs\\Python\\Python39\\lib\\encodings\\cp1252.py\", line 23, in decode\n",
      "    return codecs.charmap_decode(input,self.errors,decoding_table)[0]\n",
      "UnicodeDecodeError: 'charmap' codec can't decode byte 0x8f in position 496: character maps to <undefined>\n"
     ]
    },
    {
     "ename": "IndexError",
     "evalue": "list index out of range",
     "output_type": "error",
     "traceback": [
      "\u001b[1;31m---------------------------------------------------------------------------\u001b[0m",
      "\u001b[1;31mIndexError\u001b[0m                                Traceback (most recent call last)",
      "Cell \u001b[1;32mIn[61], line 9\u001b[0m\n\u001b[0;32m      6\u001b[0m env[\u001b[38;5;124m\"\u001b[39m\u001b[38;5;124mPYTHONIOENCODING\u001b[39m\u001b[38;5;124m\"\u001b[39m] \u001b[38;5;241m=\u001b[39m \u001b[38;5;124m\"\u001b[39m\u001b[38;5;124mutf-8\u001b[39m\u001b[38;5;124m\"\u001b[39m\n\u001b[0;32m      8\u001b[0m \u001b[38;5;66;03m# Run the subprocess with the modified environment\u001b[39;00m\n\u001b[1;32m----> 9\u001b[0m result \u001b[38;5;241m=\u001b[39m \u001b[43msubprocess\u001b[49m\u001b[38;5;241;43m.\u001b[39;49m\u001b[43mrun\u001b[49m\u001b[43m(\u001b[49m\n\u001b[0;32m     10\u001b[0m \u001b[43m    \u001b[49m\u001b[43m[\u001b[49m\u001b[38;5;124;43m\"\u001b[39;49m\u001b[38;5;124;43mpython\u001b[39;49m\u001b[38;5;124;43m\"\u001b[39;49m\u001b[43m,\u001b[49m\u001b[43m \u001b[49m\u001b[38;5;124;43m\"\u001b[39;49m\u001b[38;5;124;43msubmit_mnist_experiment.py\u001b[39;49m\u001b[38;5;124;43m\"\u001b[39;49m\u001b[43m]\u001b[49m\u001b[43m,\u001b[49m\n\u001b[0;32m     11\u001b[0m \u001b[43m    \u001b[49m\u001b[43mtext\u001b[49m\u001b[38;5;241;43m=\u001b[39;49m\u001b[38;5;28;43;01mTrue\u001b[39;49;00m\u001b[43m,\u001b[49m\n\u001b[0;32m     12\u001b[0m \u001b[43m    \u001b[49m\u001b[43mcapture_output\u001b[49m\u001b[38;5;241;43m=\u001b[39;49m\u001b[38;5;28;43;01mTrue\u001b[39;49;00m\u001b[43m,\u001b[49m\n\u001b[0;32m     13\u001b[0m \u001b[43m    \u001b[49m\u001b[43menv\u001b[49m\u001b[38;5;241;43m=\u001b[39;49m\u001b[43menv\u001b[49m\u001b[43m  \u001b[49m\u001b[38;5;66;43;03m# Pass the modified environment\u001b[39;49;00m\n\u001b[0;32m     14\u001b[0m \u001b[43m)\u001b[49m\n\u001b[0;32m     16\u001b[0m \u001b[38;5;66;03m# Print the output and error (if any)\u001b[39;00m\n\u001b[0;32m     17\u001b[0m \u001b[38;5;28mprint\u001b[39m(result\u001b[38;5;241m.\u001b[39mstdout)\n",
      "File \u001b[1;32mc:\\Users\\peter\\AppData\\Local\\Programs\\Python\\Python39\\lib\\subprocess.py:503\u001b[0m, in \u001b[0;36mrun\u001b[1;34m(input, capture_output, timeout, check, *popenargs, **kwargs)\u001b[0m\n\u001b[0;32m    501\u001b[0m \u001b[38;5;28;01mwith\u001b[39;00m Popen(\u001b[38;5;241m*\u001b[39mpopenargs, \u001b[38;5;241m*\u001b[39m\u001b[38;5;241m*\u001b[39mkwargs) \u001b[38;5;28;01mas\u001b[39;00m process:\n\u001b[0;32m    502\u001b[0m     \u001b[38;5;28;01mtry\u001b[39;00m:\n\u001b[1;32m--> 503\u001b[0m         stdout, stderr \u001b[38;5;241m=\u001b[39m \u001b[43mprocess\u001b[49m\u001b[38;5;241;43m.\u001b[39;49m\u001b[43mcommunicate\u001b[49m\u001b[43m(\u001b[49m\u001b[38;5;28;43minput\u001b[39;49m\u001b[43m,\u001b[49m\u001b[43m \u001b[49m\u001b[43mtimeout\u001b[49m\u001b[38;5;241;43m=\u001b[39;49m\u001b[43mtimeout\u001b[49m\u001b[43m)\u001b[49m\n\u001b[0;32m    504\u001b[0m     \u001b[38;5;28;01mexcept\u001b[39;00m TimeoutExpired \u001b[38;5;28;01mas\u001b[39;00m exc:\n\u001b[0;32m    505\u001b[0m         process\u001b[38;5;241m.\u001b[39mkill()\n",
      "File \u001b[1;32mc:\\Users\\peter\\AppData\\Local\\Programs\\Python\\Python39\\lib\\subprocess.py:1130\u001b[0m, in \u001b[0;36mPopen.communicate\u001b[1;34m(self, input, timeout)\u001b[0m\n\u001b[0;32m   1127\u001b[0m     endtime \u001b[38;5;241m=\u001b[39m \u001b[38;5;28;01mNone\u001b[39;00m\n\u001b[0;32m   1129\u001b[0m \u001b[38;5;28;01mtry\u001b[39;00m:\n\u001b[1;32m-> 1130\u001b[0m     stdout, stderr \u001b[38;5;241m=\u001b[39m \u001b[38;5;28;43mself\u001b[39;49m\u001b[38;5;241;43m.\u001b[39;49m\u001b[43m_communicate\u001b[49m\u001b[43m(\u001b[49m\u001b[38;5;28;43minput\u001b[39;49m\u001b[43m,\u001b[49m\u001b[43m \u001b[49m\u001b[43mendtime\u001b[49m\u001b[43m,\u001b[49m\u001b[43m \u001b[49m\u001b[43mtimeout\u001b[49m\u001b[43m)\u001b[49m\n\u001b[0;32m   1131\u001b[0m \u001b[38;5;28;01mexcept\u001b[39;00m \u001b[38;5;167;01mKeyboardInterrupt\u001b[39;00m:\n\u001b[0;32m   1132\u001b[0m     \u001b[38;5;66;03m# https://bugs.python.org/issue25942\u001b[39;00m\n\u001b[0;32m   1133\u001b[0m     \u001b[38;5;66;03m# See the detailed comment in .wait().\u001b[39;00m\n\u001b[0;32m   1134\u001b[0m     \u001b[38;5;28;01mif\u001b[39;00m timeout \u001b[38;5;129;01mis\u001b[39;00m \u001b[38;5;129;01mnot\u001b[39;00m \u001b[38;5;28;01mNone\u001b[39;00m:\n",
      "File \u001b[1;32mc:\\Users\\peter\\AppData\\Local\\Programs\\Python\\Python39\\lib\\subprocess.py:1525\u001b[0m, in \u001b[0;36mPopen._communicate\u001b[1;34m(self, input, endtime, orig_timeout)\u001b[0m\n\u001b[0;32m   1523\u001b[0m \u001b[38;5;66;03m# All data exchanged.  Translate lists into strings.\u001b[39;00m\n\u001b[0;32m   1524\u001b[0m \u001b[38;5;28;01mif\u001b[39;00m stdout \u001b[38;5;129;01mis\u001b[39;00m \u001b[38;5;129;01mnot\u001b[39;00m \u001b[38;5;28;01mNone\u001b[39;00m:\n\u001b[1;32m-> 1525\u001b[0m     stdout \u001b[38;5;241m=\u001b[39m \u001b[43mstdout\u001b[49m\u001b[43m[\u001b[49m\u001b[38;5;241;43m0\u001b[39;49m\u001b[43m]\u001b[49m\n\u001b[0;32m   1526\u001b[0m \u001b[38;5;28;01mif\u001b[39;00m stderr \u001b[38;5;129;01mis\u001b[39;00m \u001b[38;5;129;01mnot\u001b[39;00m \u001b[38;5;28;01mNone\u001b[39;00m:\n\u001b[0;32m   1527\u001b[0m     stderr \u001b[38;5;241m=\u001b[39m stderr[\u001b[38;5;241m0\u001b[39m]\n",
      "\u001b[1;31mIndexError\u001b[0m: list index out of range"
     ]
    }
   ],
   "source": [
    "import os\n",
    "import subprocess\n",
    "\n",
    "# Set the environment variable to use UTF-8 encoding\n",
    "env = os.environ.copy()\n",
    "env[\"PYTHONIOENCODING\"] = \"utf-8\"\n",
    "\n",
    "# Run the subprocess with the modified environment\n",
    "result = subprocess.run(\n",
    "    [\"python\", \"submit_mnist_experiment.py\"],\n",
    "    text=True,\n",
    "    capture_output=True, errors= 'ignore',\n",
    "    env=env  # Pass the modified environment\n",
    ")\n",
    "\n",
    "# Print the output and error (if any)\n",
    "print(result.stdout)\n",
    "print(result.stderr)"
   ]
  },
  {
   "cell_type": "code",
   "execution_count": 59,
   "metadata": {},
   "outputs": [],
   "source": [
    "result = subprocess.run([\"python\", \"submit_mnist_experiment.py\"], text=True, capture_output=True,errors ='ignore',encoding=\"utf-8\")#,errors=\"ignore\")\n",
    "# subprocess.run([\"python\", \"make_table_3.py\"])"
   ]
  },
  {
   "cell_type": "code",
   "execution_count": 60,
   "metadata": {},
   "outputs": [
    {
     "name": "stdout",
     "output_type": "stream",
     "text": [
      "INFO:artemis:========== Running Experiment: slang_complete.slang_mnist_experiment.L_1 ==========\n",
      "Traceback (most recent call last):\n",
      "  File \"c:\\Users\\peter\\AppData\\Local\\Programs\\Python\\Python39\\lib\\site-packages\\torchvision\\datasets\\utils.py\", line 32, in _urlretrieve\n",
      "    pbar.update(len(chunk))\n",
      "  File \"c:\\Users\\peter\\AppData\\Local\\Programs\\Python\\Python39\\lib\\site-packages\\tqdm\\std.py\", line 1242, in update\n",
      "    self.refresh(lock_args=self.lock_args)\n",
      "  File \"c:\\Users\\peter\\AppData\\Local\\Programs\\Python\\Python39\\lib\\site-packages\\tqdm\\std.py\", line 1347, in refresh\n",
      "    self.display()\n",
      "  File \"c:\\Users\\peter\\AppData\\Local\\Programs\\Python\\Python39\\lib\\site-packages\\tqdm\\std.py\", line 1495, in display\n",
      "    self.sp(self.__str__() if msg is None else msg)\n",
      "  File \"c:\\Users\\peter\\AppData\\Local\\Programs\\Python\\Python39\\lib\\site-packages\\tqdm\\std.py\", line 459, in print_status\n",
      "    fp_write('\\r' + s + (' ' * max(last_len[0] - len_s, 0)))\n",
      "  File \"c:\\Users\\peter\\AppData\\Local\\Programs\\Python\\Python39\\lib\\site-packages\\tqdm\\std.py\", line 452, in fp_write\n",
      "    fp.write(str(s))\n",
      "  File \"c:\\Users\\peter\\AppData\\Local\\Programs\\Python\\Python39\\lib\\site-packages\\tqdm\\utils.py\", line 196, in inner\n",
      "    return func(*args, **kwargs)\n",
      "  File \"c:\\Users\\peter\\AppData\\Local\\Programs\\Python\\Python39\\lib\\site-packages\\artemis\\general\\display.py\", line 202, in write\n",
      "    self.log.write(message)\n",
      "  File \"c:\\Users\\peter\\AppData\\Local\\Programs\\Python\\Python39\\lib\\encodings\\cp1252.py\", line 19, in encode\n",
      "    return codecs.charmap_encode(input,self.errors,encoding_table)[0]\n",
      "UnicodeEncodeError: 'charmap' codec can't encode character '\\u258f' in position 6: character maps to <undefined>\n",
      "\n",
      "During handling of the above exception, another exception occurred:\n",
      "\n",
      "Traceback (most recent call last):\n",
      "  File \"d:\\Maths_Y4\\Project\\Bayesian-Neural-Network-Project\\Rebuilding_Slang\\run_experiment.py\", line 35, in <module>\n",
      "    experiments.slang_complete.get_variant(args.name).get_variant(args.variant).run()\n",
      "  File \"c:\\Users\\peter\\AppData\\Local\\Programs\\Python\\Python39\\lib\\site-packages\\artemis\\experiments\\experiments.py\", line 107, in run\n",
      "    exp_rec = run_and_record(\n",
      "  File \"c:\\Users\\peter\\AppData\\Local\\Programs\\Python\\Python39\\lib\\site-packages\\artemis\\experiments\\experiment_record.py\", line 669, in run_and_record\n",
      "    result = function()\n",
      "  File \"d:\\Maths_Y4\\Project\\Bayesian-Neural-Network-Project\\Rebuilding_Slang\\slang_mnist_complete.py\", line 77, in slang_complete\n",
      "    data = Dataset(data_set=val_data_set, data_folder=DEFAULT_DATA_FOLDER)\n",
      "  File \"d:\\Maths_Y4\\Project\\Bayesian-Neural-Network-Project\\Rebuilding_Slang\\lib\\datasets.py\", line 46, in __init__\n",
      "    full_train_set = dset.MNIST(root = data_folder,\n",
      "  File \"c:\\Users\\peter\\AppData\\Local\\Programs\\Python\\Python39\\lib\\site-packages\\torchvision\\datasets\\mnist.py\", line 100, in __init__\n",
      "    self.download()\n",
      "  File \"c:\\Users\\peter\\AppData\\Local\\Programs\\Python\\Python39\\lib\\site-packages\\torchvision\\datasets\\mnist.py\", line 188, in download\n",
      "    download_and_extract_archive(url, download_root=self.raw_folder, filename=filename, md5=md5)\n",
      "  File \"c:\\Users\\peter\\AppData\\Local\\Programs\\Python\\Python39\\lib\\site-packages\\torchvision\\datasets\\utils.py\", line 391, in download_and_extract_archive\n",
      "    download_url(url, download_root, filename, md5)\n",
      "  File \"c:\\Users\\peter\\AppData\\Local\\Programs\\Python\\Python39\\lib\\site-packages\\torchvision\\datasets\\utils.py\", line 130, in download_url\n",
      "    _urlretrieve(url, fpath)\n",
      "  File \"c:\\Users\\peter\\AppData\\Local\\Programs\\Python\\Python39\\lib\\site-packages\\torchvision\\datasets\\utils.py\", line 32, in _urlretrieve\n",
      "    pbar.update(len(chunk))\n",
      "  File \"c:\\Users\\peter\\AppData\\Local\\Programs\\Python\\Python39\\lib\\site-packages\\tqdm\\std.py\", line 1140, in __exit__\n",
      "    self.close()\n",
      "  File \"c:\\Users\\peter\\AppData\\Local\\Programs\\Python\\Python39\\lib\\site-packages\\tqdm\\std.py\", line 1302, in close\n",
      "    self.display(pos=0)\n",
      "  File \"c:\\Users\\peter\\AppData\\Local\\Programs\\Python\\Python39\\lib\\site-packages\\tqdm\\std.py\", line 1495, in display\n",
      "    self.sp(self.__str__() if msg is None else msg)\n",
      "  File \"c:\\Users\\peter\\AppData\\Local\\Programs\\Python\\Python39\\lib\\site-packages\\tqdm\\std.py\", line 459, in print_status\n",
      "    fp_write('\\r' + s + (' ' * max(last_len[0] - len_s, 0)))\n",
      "  File \"c:\\Users\\peter\\AppData\\Local\\Programs\\Python\\Python39\\lib\\site-packages\\tqdm\\std.py\", line 452, in fp_write\n",
      "    fp.write(str(s))\n",
      "  File \"c:\\Users\\peter\\AppData\\Local\\Programs\\Python\\Python39\\lib\\site-packages\\tqdm\\utils.py\", line 196, in inner\n",
      "    return func(*args, **kwargs)\n",
      "  File \"c:\\Users\\peter\\AppData\\Local\\Programs\\Python\\Python39\\lib\\site-packages\\artemis\\general\\display.py\", line 202, in write\n",
      "    self.log.write(message)\n",
      "  File \"c:\\Users\\peter\\AppData\\Local\\Programs\\Python\\Python39\\lib\\encodings\\cp1252.py\", line 19, in encode\n",
      "    return codecs.charmap_encode(input,self.errors,encoding_table)[0]\n",
      "UnicodeEncodeError: 'charmap' codec can't encode character '\\u258f' in position 6: character maps to <undefined>\n",
      "\n"
     ]
    }
   ],
   "source": [
    "# print(result.stdout)\n",
    "print(result.stderr)"
   ]
  },
  {
   "cell_type": "code",
   "execution_count": null,
   "metadata": {},
   "outputs": [],
   "source": [
    "# result2 = subprocess.run([\"python\", \"make_table_3.py\"],capture_output=True)"
   ]
  },
  {
   "cell_type": "code",
   "execution_count": 54,
   "metadata": {},
   "outputs": [
    {
     "data": {
      "text/plain": [
       "'UTF-8'"
      ]
     },
     "execution_count": 54,
     "metadata": {},
     "output_type": "execute_result"
    }
   ],
   "source": [
    "import sys\n",
    "sys.stdout.encoding"
   ]
  },
  {
   "cell_type": "code",
   "execution_count": null,
   "metadata": {},
   "outputs": [],
   "source": [
    "# # Save stdout and stderr to files\n",
    "# with open('output.txt', 'w') as f:\n",
    "#     f.write(\"Standard Output:\\n\")\n",
    "#     f.write(result.stdout)\n",
    "\n",
    "# with open('error.txt', 'w') as f:\n",
    "#     f.write(\"Standard Error:\\n\")\n",
    "#     f.write(result.stderr)"
   ]
  },
  {
   "cell_type": "code",
   "execution_count": null,
   "metadata": {},
   "outputs": [],
   "source": [
    "# with open('training_output.txt', 'w') as f:\n",
    "#     f.write(\"Arguments:\\n\")\n",
    "#     f.write(f\"{result.args}\\n\\n\")\n",
    "\n",
    "#     f.write(\"Return Code:\\n\")\n",
    "#     f.write(f\"{result.returncode}\\n\\n\")\n",
    "\n",
    "#     f.write(\"Standard Output:\\n\")\n",
    "#     f.write(result.stdout)\n",
    "\n",
    "#     f.write(\"\\nStandard Error:\\n\")\n",
    "#     f.write(result.stderr)"
   ]
  },
  {
   "cell_type": "code",
   "execution_count": 51,
   "metadata": {},
   "outputs": [
    {
     "data": {
      "text/plain": [
       "CompletedProcess(args=['python', 'submit_mnist_experiment.py'], returncode=0, stdout='d:\\\\Maths_Y4\\\\Project\\\\Bayesian-Neural-Network-Project\\\\Rebuilding_Slang\\npython d:\\\\Maths_Y4\\\\Project\\\\Bayesian-Neural-Network-Project\\\\Rebuilding_Slang\\\\run_experiment.py --name=\"slang_mnist_experiment\" --variant=\"L_2\" --method=\"SLANG_COMPLETE\" --cv=0\\nargs: Namespace(name=\\'slang_mnist_experiment\\', variant=\\'L_2\\', method=\\'SLANG_COMPLETE\\', cv=0)\\n\\n  0%|          | 0.00/9.91M [00:00<?, ?B/s]\\n  0%|          | 32.8k/9.91M [00:00<00:31, 313kB/s]\\n  1%|          | 98.3k/9.91M [00:00<00:20, 477kB/s]\\n  2%|â–         | 197k/9.91M [00:00<00:14, 687kB/s] \\n  2%|â–         | 197k/9.91M [00:00<00:15, 614kB/s] Job python d:\\\\Maths_Y4\\\\Project\\\\Bayesian-Neural-Network-Project\\\\Rebuilding_Slang\\\\run_experiment.py --name=\"slang_mnist_experiment\" --variant=\"L_2\" --method=\"SLANG_COMPLETE\" --cv=0 failed to submit\\nDone submitting jobs!\\n', stderr='INFO:artemis:========== Running Experiment: slang_complete.slang_mnist_experiment.L_2 ==========\\nTraceback (most recent call last):\\n  File \"c:\\\\Users\\\\peter\\\\AppData\\\\Local\\\\Programs\\\\Python\\\\Python39\\\\lib\\\\site-packages\\\\torchvision\\\\datasets\\\\utils.py\", line 32, in _urlretrieve\\n    pbar.update(len(chunk))\\n  File \"c:\\\\Users\\\\peter\\\\AppData\\\\Local\\\\Programs\\\\Python\\\\Python39\\\\lib\\\\site-packages\\\\tqdm\\\\std.py\", line 1242, in update\\n    self.refresh(lock_args=self.lock_args)\\n  File \"c:\\\\Users\\\\peter\\\\AppData\\\\Local\\\\Programs\\\\Python\\\\Python39\\\\lib\\\\site-packages\\\\tqdm\\\\std.py\", line 1347, in refresh\\n    self.display()\\n  File \"c:\\\\Users\\\\peter\\\\AppData\\\\Local\\\\Programs\\\\Python\\\\Python39\\\\lib\\\\site-packages\\\\tqdm\\\\std.py\", line 1495, in display\\n    self.sp(self.__str__() if msg is None else msg)\\n  File \"c:\\\\Users\\\\peter\\\\AppData\\\\Local\\\\Programs\\\\Python\\\\Python39\\\\lib\\\\site-packages\\\\tqdm\\\\std.py\", line 459, in print_status\\n    fp_write(\\'\\\\r\\' + s + (\\' \\' * max(last_len[0] - len_s, 0)))\\n  File \"c:\\\\Users\\\\peter\\\\AppData\\\\Local\\\\Programs\\\\Python\\\\Python39\\\\lib\\\\site-packages\\\\tqdm\\\\std.py\", line 452, in fp_write\\n    fp.write(str(s))\\n  File \"c:\\\\Users\\\\peter\\\\AppData\\\\Local\\\\Programs\\\\Python\\\\Python39\\\\lib\\\\site-packages\\\\tqdm\\\\utils.py\", line 196, in inner\\n    return func(*args, **kwargs)\\n  File \"c:\\\\Users\\\\peter\\\\AppData\\\\Local\\\\Programs\\\\Python\\\\Python39\\\\lib\\\\site-packages\\\\artemis\\\\general\\\\display.py\", line 202, in write\\n    self.log.write(message)\\n  File \"c:\\\\Users\\\\peter\\\\AppData\\\\Local\\\\Programs\\\\Python\\\\Python39\\\\lib\\\\encodings\\\\cp1252.py\", line 19, in encode\\n    return codecs.charmap_encode(input,self.errors,encoding_table)[0]\\nUnicodeEncodeError: \\'charmap\\' codec can\\'t encode character \\'\\\\u258f\\' in position 6: character maps to <undefined>\\n\\nDuring handling of the above exception, another exception occurred:\\n\\nTraceback (most recent call last):\\n  File \"d:\\\\Maths_Y4\\\\Project\\\\Bayesian-Neural-Network-Project\\\\Rebuilding_Slang\\\\run_experiment.py\", line 35, in <module>\\n    experiments.slang_complete.get_variant(args.name).get_variant(args.variant).run()\\n  File \"c:\\\\Users\\\\peter\\\\AppData\\\\Local\\\\Programs\\\\Python\\\\Python39\\\\lib\\\\site-packages\\\\artemis\\\\experiments\\\\experiments.py\", line 107, in run\\n    exp_rec = run_and_record(\\n  File \"c:\\\\Users\\\\peter\\\\AppData\\\\Local\\\\Programs\\\\Python\\\\Python39\\\\lib\\\\site-packages\\\\artemis\\\\experiments\\\\experiment_record.py\", line 669, in run_and_record\\n    result = function()\\n  File \"d:\\\\Maths_Y4\\\\Project\\\\Bayesian-Neural-Network-Project\\\\Rebuilding_Slang\\\\slang_mnist_complete.py\", line 77, in slang_complete\\n    data = Dataset(data_set=val_data_set, data_folder=DEFAULT_DATA_FOLDER)\\n  File \"d:\\\\Maths_Y4\\\\Project\\\\Bayesian-Neural-Network-Project\\\\Rebuilding_Slang\\\\lib\\\\datasets.py\", line 46, in __init__\\n    full_train_set = dset.MNIST(root = data_folder,\\n  File \"c:\\\\Users\\\\peter\\\\AppData\\\\Local\\\\Programs\\\\Python\\\\Python39\\\\lib\\\\site-packages\\\\torchvision\\\\datasets\\\\mnist.py\", line 100, in __init__\\n    self.download()\\n  File \"c:\\\\Users\\\\peter\\\\AppData\\\\Local\\\\Programs\\\\Python\\\\Python39\\\\lib\\\\site-packages\\\\torchvision\\\\datasets\\\\mnist.py\", line 188, in download\\n    download_and_extract_archive(url, download_root=self.raw_folder, filename=filename, md5=md5)\\n  File \"c:\\\\Users\\\\peter\\\\AppData\\\\Local\\\\Programs\\\\Python\\\\Python39\\\\lib\\\\site-packages\\\\torchvision\\\\datasets\\\\utils.py\", line 391, in download_and_extract_archive\\n    download_url(url, download_root, filename, md5)\\n  File \"c:\\\\Users\\\\peter\\\\AppData\\\\Local\\\\Programs\\\\Python\\\\Python39\\\\lib\\\\site-packages\\\\torchvision\\\\datasets\\\\utils.py\", line 130, in download_url\\n    _urlretrieve(url, fpath)\\n  File \"c:\\\\Users\\\\peter\\\\AppData\\\\Local\\\\Programs\\\\Python\\\\Python39\\\\lib\\\\site-packages\\\\torchvision\\\\datasets\\\\utils.py\", line 32, in _urlretrieve\\n    pbar.update(len(chunk))\\n  File \"c:\\\\Users\\\\peter\\\\AppData\\\\Local\\\\Programs\\\\Python\\\\Python39\\\\lib\\\\site-packages\\\\tqdm\\\\std.py\", line 1140, in __exit__\\n    self.close()\\n  File \"c:\\\\Users\\\\peter\\\\AppData\\\\Local\\\\Programs\\\\Python\\\\Python39\\\\lib\\\\site-packages\\\\tqdm\\\\std.py\", line 1302, in close\\n    self.display(pos=0)\\n  File \"c:\\\\Users\\\\peter\\\\AppData\\\\Local\\\\Programs\\\\Python\\\\Python39\\\\lib\\\\site-packages\\\\tqdm\\\\std.py\", line 1495, in display\\n    self.sp(self.__str__() if msg is None else msg)\\n  File \"c:\\\\Users\\\\peter\\\\AppData\\\\Local\\\\Programs\\\\Python\\\\Python39\\\\lib\\\\site-packages\\\\tqdm\\\\std.py\", line 459, in print_status\\n    fp_write(\\'\\\\r\\' + s + (\\' \\' * max(last_len[0] - len_s, 0)))\\n  File \"c:\\\\Users\\\\peter\\\\AppData\\\\Local\\\\Programs\\\\Python\\\\Python39\\\\lib\\\\site-packages\\\\tqdm\\\\std.py\", line 452, in fp_write\\n    fp.write(str(s))\\n  File \"c:\\\\Users\\\\peter\\\\AppData\\\\Local\\\\Programs\\\\Python\\\\Python39\\\\lib\\\\site-packages\\\\tqdm\\\\utils.py\", line 196, in inner\\n    return func(*args, **kwargs)\\n  File \"c:\\\\Users\\\\peter\\\\AppData\\\\Local\\\\Programs\\\\Python\\\\Python39\\\\lib\\\\site-packages\\\\artemis\\\\general\\\\display.py\", line 202, in write\\n    self.log.write(message)\\n  File \"c:\\\\Users\\\\peter\\\\AppData\\\\Local\\\\Programs\\\\Python\\\\Python39\\\\lib\\\\encodings\\\\cp1252.py\", line 19, in encode\\n    return codecs.charmap_encode(input,self.errors,encoding_table)[0]\\nUnicodeEncodeError: \\'charmap\\' codec can\\'t encode character \\'\\\\u258f\\' in position 6: character maps to <undefined>\\n')"
      ]
     },
     "execution_count": 51,
     "metadata": {},
     "output_type": "execute_result"
    }
   ],
   "source": [
    "result"
   ]
  },
  {
   "cell_type": "code",
   "execution_count": null,
   "metadata": {},
   "outputs": [],
   "source": []
  }
 ],
 "metadata": {
  "kernelspec": {
   "display_name": "Python 3",
   "language": "python",
   "name": "python3"
  },
  "language_info": {
   "codemirror_mode": {
    "name": "ipython",
    "version": 3
   },
   "file_extension": ".py",
   "mimetype": "text/x-python",
   "name": "python",
   "nbconvert_exporter": "python",
   "pygments_lexer": "ipython3",
   "version": "3.9.0"
  }
 },
 "nbformat": 4,
 "nbformat_minor": 2
}
