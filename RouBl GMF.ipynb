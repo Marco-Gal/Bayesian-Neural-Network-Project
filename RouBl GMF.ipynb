{
 "cells": [
  {
   "cell_type": "markdown",
   "metadata": {},
   "source": [
    "## This is my attempt at implementing the RouBl algorithm using layer-wise updates"
   ]
  },
  {
   "cell_type": "markdown",
   "metadata": {},
   "source": []
  },
  {
   "cell_type": "code",
   "execution_count": 2,
   "metadata": {},
   "outputs": [],
   "source": [
    "%matplotlib inline\n",
    "\n",
    "import numpy as np\n",
    "import math\n",
    "import matplotlib\n",
    "import matplotlib.pyplot as plt\n",
    "\n",
    "import torch\n",
    "import torch.nn as nn\n",
    "\n",
    "import torch.nn.functional as F\n",
    "import torch.distributions as dist\n",
    "from torch.utils.data import Dataset, DataLoader\n",
    "from sklearn.model_selection import train_test_split\n",
    "import tensorflow as tf\n",
    "import tensorflow_probability as tfp\n",
    "\n",
    "from tqdm import tqdm"
   ]
  },
  {
   "cell_type": "code",
   "execution_count": null,
   "metadata": {},
   "outputs": [],
   "source": []
  },
  {
   "cell_type": "code",
   "execution_count": 3,
   "metadata": {},
   "outputs": [],
   "source": [
    "class FullCovGaussianLayer(nn.Module):\n",
    "    \"\"\"Represents a full covariance Gaussian distribution over each layer of the network.\"\"\"\n",
    "\n",
    "    def __init__(self, input_dim, output_dim):\n",
    "        super(FullCovGaussianLayer, self).__init__()\n",
    "        self.input_dim = input_dim\n",
    "        self.output_dim = output_dim\n",
    "        self.num_params = input_dim * output_dim + output_dim\n",
    "        # Prior parameters p(theta)\n",
    "        # prior_std = 0.8 ### we can later add this as a parameter\n",
    "        prior_std = 1.1 ### we can later add this as a parameter\n",
    "\n",
    "        mu_prior = torch.ones(input_dim * output_dim + output_dim)/20 # prior mean for all weights and biases\n",
    "        cov_chol_prior = torch.eye(input_dim * output_dim + output_dim,input_dim * output_dim + output_dim) * prior_std\n",
    "\n",
    "        self.register_buffer('prior_mean', mu_prior)\n",
    "        self.register_buffer('prior_weight_cov_chol', cov_chol_prior)\n",
    "        self.register_buffer('prior_cov_inv', 1/prior_std**2 * torch.eye(input_dim * output_dim + output_dim,input_dim * output_dim + output_dim))  \n",
    "\n",
    "        # initialise the trainable variational parameters for q distribution, setting them equal to the prior\n",
    "        self.mean = mu_prior\n",
    "        self.cov_chol = cov_chol_prior\n",
    "\n",
    "        # initialise lambda (not sure where this is used)\n",
    "        cov_chol_inv = torch.linalg.inv(self.cov_chol)\n",
    "        self.lambda_1 = cov_chol_inv @ cov_chol_inv.t() @ self.mean\n",
    "\n",
    "\n",
    "        # KL divergence KL[q||p] between two Gaussians\n",
    "    def kl_divergence(self):\n",
    "        q = dist.MultivariateNormal(self.mean, scale_tril=self.cov_chol)\n",
    "        p = dist.MultivariateNormal(self.prior_mean, scale_tril=self.prior_cov_chol)\n",
    "        kl = dist.kl_divergence(q, p).sum()\n",
    "        return kl\n",
    "    \n",
    "    ## Maybe this instead wants to be in the network class and get passed to forward for each layer...might be neater\n",
    "    def sample_params(self):\n",
    "        # Sample from q distribution and ensure requires_grad=True\n",
    "        sample = self.mean + self.cov_chol @ torch.randn_like(self.mean)\n",
    "        sample = sample.detach().requires_grad_(True)  # Ensure gradients can be computed\n",
    "        return sample\n",
    "\n",
    "    def forward(self, input, sampled_params):\n",
    "        \"\"\"Propagates x through this layer by sampling weights from the posterior\"\"\"\n",
    "        # assert (len(input.shape) == 3), \"x should be shape (num_samples, batch_size, input_dim).\"\n",
    "        # assert input.shape[-1] == self.input_dim\n",
    "\n",
    "        # num_samples = x.shape[0]\n",
    "\n",
    "        weights = sampled_params[:self.input_dim * self.output_dim].view(self.output_dim, self.input_dim)\n",
    "        biases = sampled_params[self.input_dim * self.output_dim:]\n",
    "        return F.linear(input, weights, biases)\n",
    "        # # rsample carries out reparameterisation trick for us   \n",
    "        # weights = self.q_w().rsample((num_samples,))  # (num_samples, input_dim, output_dim).\n",
    "        # biases = self.q_b().rsample((num_samples,)).unsqueeze(1)  # (num_samples, batch_size, output_dim)\n",
    "        # return x @ weights + biases # (num_samples, batch_size, output_dim).\n"
   ]
  },
  {
   "cell_type": "code",
   "execution_count": 4,
   "metadata": {},
   "outputs": [],
   "source": [
    "class FullCovBNN(nn.Module):\n",
    "    \"\"\"BNN with layer-wise block diagonal covariance Gaussian distributions.\"\"\"\n",
    "\n",
    "    def __init__(\n",
    "        self,\n",
    "        input_dim,\n",
    "        hidden_dims,\n",
    "        output_dim,\n",
    "        activation = nn.LeakyReLU(negative_slope=0.1),\n",
    "        noise_std=1.0,\n",
    "    ):\n",
    "        super(FullCovBNN, self).__init__()\n",
    "        self.input_dim = input_dim\n",
    "        self.hidden_dims = hidden_dims\n",
    "        self.output_dim = output_dim\n",
    "        self.activation = activation\n",
    "        self.log_noise_var = torch.log(torch.tensor(noise_std**2))\n",
    "    \n",
    "        self.network = nn.ModuleList()\n",
    "\n",
    "        for i in range(len(hidden_dims) + 1):\n",
    "            if i == 0:\n",
    "                self.network.append(FullCovGaussianLayer(self.input_dim, self.hidden_dims[i]))\n",
    "                self.network.append(self.activation)\n",
    "            elif i == len(hidden_dims):\n",
    "                self.network.append(\n",
    "                    FullCovGaussianLayer(self.hidden_dims[i - 1], self.output_dim)\n",
    "                )\n",
    "            else:\n",
    "                self.network.append(\n",
    "                    FullCovGaussianLayer(self.hidden_dims[i - 1], self.hidden_dims[i])\n",
    "                )\n",
    "                self.network.append(self.activation)\n",
    "    \n",
    "    def sample_network_params(self):\n",
    "        \"\"\"\n",
    "        Sample parameters for each layer and store them in a dictionary.\n",
    "        \"\"\"\n",
    "        sampled_params = {}\n",
    "        for i, layer in enumerate(self.network):\n",
    "            if isinstance(layer, FullCovGaussianLayer):\n",
    "                # Sample params for this layer and store them\n",
    "                sampled_params[i//2] = layer.sample_params()\n",
    "        return sampled_params\n",
    "\n",
    "\n",
    "\n",
    "    def forward(self, input, sampled_params):\n",
    "        \"\"\"Propagate the inputs through the network using num_samples weights.\n",
    "\n",
    "        Args:\n",
    "            x (torch.tensor): Inputs to the network.\n",
    "            num_samples (int, optional): Number of samples to use. Defaults to 1.\n",
    "        \"\"\"\n",
    "\n",
    "        # Expand dimensions of x to (num_samples, batch_size, input_dim).\n",
    "        # Propagate x through the network with sampled parameters\n",
    "        for i, layer in enumerate(self.network):\n",
    "            if isinstance(layer, FullCovGaussianLayer):\n",
    "                # Get the corresponding sampled parameters for this layer\n",
    "                sampled_param = sampled_params[i//2]  # Divide by 2 because activations are interspersed\n",
    "                # Pass input x and the sampled parameters to the layer\n",
    "                input = layer(input, sampled_param)\n",
    "            else:\n",
    "                # Apply activation function\n",
    "                input = layer(input)  # Since it's an activation function, just apply it directly\n",
    "\n",
    "        return input\n",
    "\n",
    "\n",
    "    def ll(self, y_obs, y_pred, num_samples=1):\n",
    "        \"\"\"Computes the log likelihood of the outputs of self.forward(x)\"\"\"\n",
    "        l = torch.distributions.normal.Normal(y_pred, torch.sqrt(torch.exp(self.log_noise_var)))\n",
    "        \n",
    "        # take mean over num_samples dim, sum over batch_size dim\n",
    "        # note that after taking mean, batch_size becomes dim 0\n",
    "        return l.log_prob(y_obs.unsqueeze(0).repeat(num_samples, 1, 1)).mean(0).sum(0).squeeze()\n",
    "\n",
    "    def kl(self):\n",
    "        \"\"\"Computes the KL divergence between the approximate posterior and the prior for the network.\"\"\"\n",
    "        return sum([layer.kl() for layer in self.network if isinstance(layer, FullCovGaussianLayer)])\n",
    "\n",
    "    def loss(self, x, y, num_samples=1):\n",
    "        \"\"\"Computes the ELBO and returns its negative\"\"\"\n",
    "\n",
    "        y_pred = self.forward(x, num_samples=num_samples)\n",
    "        \n",
    "        exp_ll = self.ll(y, y_pred, num_samples=num_samples)\n",
    "        kl = self.kl()\n",
    "\n",
    "        return kl - exp_ll, exp_ll, kl\n"
   ]
  },
  {
   "cell_type": "code",
   "execution_count": 5,
   "metadata": {},
   "outputs": [],
   "source": [
    "net = FullCovBNN(1, [2, 2], 1, noise_std=0.15)\n"
   ]
  },
  {
   "cell_type": "code",
   "execution_count": 6,
   "metadata": {},
   "outputs": [
    {
     "data": {
      "text/plain": [
       "FullCovBNN(\n",
       "  (activation): LeakyReLU(negative_slope=0.1)\n",
       "  (network): ModuleList(\n",
       "    (0): FullCovGaussianLayer()\n",
       "    (1): LeakyReLU(negative_slope=0.1)\n",
       "    (2): FullCovGaussianLayer()\n",
       "    (3): LeakyReLU(negative_slope=0.1)\n",
       "    (4): FullCovGaussianLayer()\n",
       "  )\n",
       ")"
      ]
     },
     "execution_count": 6,
     "metadata": {},
     "output_type": "execute_result"
    }
   ],
   "source": [
    "net"
   ]
  },
  {
   "cell_type": "code",
   "execution_count": 7,
   "metadata": {},
   "outputs": [
    {
     "data": {
      "text/plain": [
       "tensor([ 5.2113e-02, -9.1367e-01, -4.5751e-01, -1.0745e-03,  1.0914e+00,\n",
       "         5.2586e-01,  1.4289e+00,  4.6537e-01,  9.2438e-01, -1.3796e-01,\n",
       "        -1.1849e+00, -7.9627e-01,  2.9394e-01], grad_fn=<CatBackward0>)"
      ]
     },
     "execution_count": 7,
     "metadata": {},
     "output_type": "execute_result"
    }
   ],
   "source": [
    "sampled_params = net.sample_network_params()  # Sample from q distribution with gradient tracking\n",
    "sample = torch.cat(list(sampled_params.values()))\n",
    "sample"
   ]
  },
  {
   "cell_type": "code",
   "execution_count": 8,
   "metadata": {},
   "outputs": [
    {
     "data": {
      "text/plain": [
       "{0: tensor([ 0.0521, -0.9137, -0.4575, -0.0011], requires_grad=True),\n",
       " 1: tensor([ 1.0914,  0.5259,  1.4289,  0.4654,  0.9244, -0.1380],\n",
       "        requires_grad=True),\n",
       " 2: tensor([-1.1849, -0.7963,  0.2939], requires_grad=True)}"
      ]
     },
     "execution_count": 8,
     "metadata": {},
     "output_type": "execute_result"
    }
   ],
   "source": [
    "sampled_params"
   ]
  },
  {
   "cell_type": "code",
   "execution_count": 9,
   "metadata": {},
   "outputs": [
    {
     "ename": "NameError",
     "evalue": "name 'input_data' is not defined",
     "output_type": "error",
     "traceback": [
      "\u001b[0;31m---------------------------------------------------------------------------\u001b[0m",
      "\u001b[0;31mNameError\u001b[0m                                 Traceback (most recent call last)",
      "Cell \u001b[0;32mIn[9], line 1\u001b[0m\n\u001b[0;32m----> 1\u001b[0m net(\u001b[43minput_data\u001b[49m,sampled_params)\n",
      "\u001b[0;31mNameError\u001b[0m: name 'input_data' is not defined"
     ]
    }
   ],
   "source": [
    "net(input_data,sampled_params)"
   ]
  },
  {
   "cell_type": "code",
   "execution_count": 333,
   "metadata": {},
   "outputs": [
    {
     "data": {
      "text/plain": [
       "tensor([1.], requires_grad=True)"
      ]
     },
     "execution_count": 333,
     "metadata": {},
     "output_type": "execute_result"
    }
   ],
   "source": [
    "input_data"
   ]
  },
  {
   "cell_type": "code",
   "execution_count": 8,
   "metadata": {},
   "outputs": [],
   "source": [
    "input_data = torch.tensor(([1.0]), requires_grad=True)\n",
    "# output = net.forward(input_data, sampled_params)"
   ]
  },
  {
   "cell_type": "code",
   "execution_count": 339,
   "metadata": {},
   "outputs": [],
   "source": [
    "# output.backward()  # Backpropagate to calculate gradients\n",
    "output.backward(-1/(0.15**2) * (1.0 - output), retain_graph=True)\n"
   ]
  },
  {
   "cell_type": "code",
   "execution_count": 340,
   "metadata": {},
   "outputs": [
    {
     "data": {
      "text/plain": [
       "{0: tensor([ 42.4529, 574.1514,  42.4529, 574.1514]),\n",
       " 1: tensor([ -24.2870,  235.6505, -106.1963, 1030.3937,  112.7950,  493.2019]),\n",
       " 2: tensor([ -190.7764, -1685.7906,  -348.4113])}"
      ]
     },
     "execution_count": 340,
     "metadata": {},
     "output_type": "execute_result"
    }
   ],
   "source": [
    "sampled_gradients = {}\n",
    "\n",
    "for key, param in sampled_params.items():\n",
    "    sampled_gradients[key] = param.grad\n",
    "\n",
    "sampled_gradients\n"
   ]
  },
  {
   "cell_type": "code",
   "execution_count": 366,
   "metadata": {},
   "outputs": [
    {
     "name": "stdout",
     "output_type": "stream",
     "text": [
      "0 FullCovGaussianLayer()\n",
      "1 LeakyReLU(negative_slope=0.1)\n",
      "2 FullCovGaussianLayer()\n",
      "3 LeakyReLU(negative_slope=0.1)\n",
      "4 FullCovGaussianLayer()\n"
     ]
    }
   ],
   "source": [
    "for i, layer in enumerate(net.network):\n",
    "    print(i,layer)"
   ]
  },
  {
   "cell_type": "code",
   "execution_count": null,
   "metadata": {},
   "outputs": [],
   "source": [
    "output[i].backward(-1/(noise**2) * (targets[i] - output[i]), retain_graph=True)\n"
   ]
  },
  {
   "cell_type": "code",
   "execution_count": 167,
   "metadata": {},
   "outputs": [
    {
     "data": {
      "text/plain": [
       "{'layer_0': tensor([0., 0., 0., 0.]),\n",
       " 'layer_1': tensor([0., 0., 0., 0., 0., 0.]),\n",
       " 'layer_2': tensor([0., 0., 0.])}"
      ]
     },
     "execution_count": 167,
     "metadata": {},
     "output_type": "execute_result"
    }
   ],
   "source": [
    "gradients = {}\n",
    "for i, layer in enumerate(net.network):\n",
    "        if isinstance(layer, FullCovGaussianLayer):  # Check if the layer is a FullCovGaussianLayer    \n",
    "            # Initialize the gradient tensor for this layer (all zeros)\n",
    "            gradients[f'layer_{i//2}'] = torch.zeros(layer.num_params, requires_grad=False) \n",
    "gradients"
   ]
  },
  {
   "cell_type": "code",
   "execution_count": 168,
   "metadata": {},
   "outputs": [
    {
     "data": {
      "text/plain": [
       "tensor([0., 0., 0., 0.])"
      ]
     },
     "execution_count": 168,
     "metadata": {},
     "output_type": "execute_result"
    }
   ],
   "source": [
    "net.network[0].prior_mean"
   ]
  },
  {
   "cell_type": "code",
   "execution_count": 200,
   "metadata": {},
   "outputs": [],
   "source": [
    "def compute_param_gradients(net, input, targets, noise, K):\n",
    "    # Initialise gradients\n",
    "    gradients = {}\n",
    "\n",
    "    # Loop through the layers in the network to initialize gradients\n",
    "    for i, layer in enumerate(net.network):\n",
    "        if isinstance(layer, FullCovGaussianLayer):  # Check if the layer is a FullCovGaussianLayer    \n",
    "            # Initialize the gradient tensor for this layer (all zeros)\n",
    "            gradients[i//2] = torch.zeros(layer.num_params, requires_grad=False) \n",
    "    for l in range(K):\n",
    "        sampled_params = net.sample_network_params()  # Sample from q distribution with gradient tracking\n",
    "        for param in sampled_params.values():\n",
    "            if param.grad is not None:\n",
    "                param.grad.zero_()\n",
    "\n",
    "        output = net.forward(input, sampled_params)  # Forward pass\n",
    "\n",
    "        for key, param in sampled_params.items():\n",
    "            for i in range(output.shape[0]):\n",
    "                output[i].backward(-1/(noise**2) * (targets[i] - output[i]), retain_graph=True) ###why is this required? I feel like it shouldn't be\n",
    "            gradients[key] += param.grad\n",
    "            gradients[key] += net.network[key*2].prior_cov_inv @ (param - net.network[key*2].prior_mean) ##issue is that the key in a dict is a string, not a number. This is the current issue\n",
    "    for key in gradients:\n",
    "        gradients[key] /= K\n",
    "    return gradients"
   ]
  },
  {
   "cell_type": "code",
   "execution_count": null,
   "metadata": {},
   "outputs": [],
   "source": []
  },
  {
   "cell_type": "code",
   "execution_count": 201,
   "metadata": {},
   "outputs": [],
   "source": [
    "#####the next function has not yet been adapted to this scenario."
   ]
  },
  {
   "cell_type": "code",
   "execution_count": 202,
   "metadata": {},
   "outputs": [],
   "source": [
    "def update_variational_params_choldate(net, input, targets, noise, K):\n",
    "    gradients = compute_param_gradients(net, input, targets, noise, K) # I think this is ok but it's possible it's updating in the wrong direction\n",
    "    alpha = 0.001\n",
    "    gamma = 1\n",
    "    \n",
    "    alpha_prime = torch.tensor([1 / (1-alpha*gamma)])\n",
    "\n",
    "    with torch.no_grad():\n",
    "        for key, grad in gradients.items():\n",
    "            grad = grad.unsqueeze(1)\n",
    "            mu, chol = net.network[key*2].mean.unsqueeze(1), net.network[key*2].cov_chol\n",
    "        \n",
    "            lambda_1 = net.network[key*2].lambda_1.unsqueeze(1)\n",
    "            v = alpha_prime * chol @ (chol.t() @ grad) #sigma_tilde @ g\n",
    "\n",
    "            beta = - alpha / (1 + alpha * grad.t() @ v)\n",
    "            beta = beta.item()\n",
    "            chol = torch.sqrt(alpha_prime) * chol\n",
    "        \n",
    "            chol_tf = tf.convert_to_tensor(chol.numpy())\n",
    "            v_tf = tf.convert_to_tensor(v.numpy())\n",
    "            v_tf = tf.reshape(v_tf, [net.network[key*2].num_params])  # Shape (13,)\n",
    "\n",
    "            # chol_updated_tf = tfp.math.cholesky_update(np.sqrt(1.2)*chol_tf, np.sqrt(1.2)*v_tf, multiplier=beta)\n",
    "            chol_updated_tf = tfp.math.cholesky_update(chol_tf, v_tf, multiplier=beta)\n",
    "\n",
    "            chol_updated = torch.from_numpy(chol_updated_tf.numpy())\n",
    "\n",
    "        \n",
    "            nu = grad.t() @ mu\n",
    "            lambda_1 = (1 - alpha*gamma) * lambda_1 - alpha*(1 - nu) * grad\n",
    "\n",
    "            net.network[key*2].lambda_1 = lambda_1.flatten()\n",
    "            net.network[key*2].mean = chol_updated @ (chol_updated.t()@lambda_1).flatten() # might need to be true\n",
    "            net.network[key*2].cov_chol = chol_updated # same here\n"
   ]
  },
  {
   "cell_type": "markdown",
   "metadata": {},
   "source": []
  },
  {
   "cell_type": "code",
   "execution_count": 203,
   "metadata": {},
   "outputs": [
    {
     "data": {
      "image/png": "[encoded data removed]",
      "text/plain": [
       "<Figure size 640x480 with 1 Axes>"
      ]
     },
     "metadata": {},
     "output_type": "display_data"
    }
   ],
   "source": [
    "def unnormalised_ground_truth(x):\n",
    "    \"\"\"return the 'ground truth' output for a specific input location x\"\"\"\n",
    "    return 15*np.cos(0.1/(0.05*(x+1)+0.02)) + 3*np.exp(0.5*np.sin(((50*(x+1))**0.9-3)/5))/((50*(x+1)+0.01)**(-0.5)) -12.5*(x+1)**2\n",
    "\n",
    "def normalised_ground_truth(xs):\n",
    "    ys = unnormalised_ground_truth(xs)\n",
    "    m = ys.mean()\n",
    "    s = ys.std()\n",
    "    return (ys - m) / s\n",
    "\n",
    "def generate_dataset(size=100, noise=0.15, split=0.3):\n",
    "    xs = np.linspace(-1, 1, 1000)\n",
    "    ys = normalised_ground_truth(xs)\n",
    "    samp_ind = np.random.randint(0, 999, size)\n",
    "    x_samps = xs[samp_ind]\n",
    "    y_samps = ys[samp_ind] + np.random.normal(0, noise, size)\n",
    "    return train_test_split(x_samps, y_samps, test_size=split, random_state=13)\n",
    "\n",
    "\n",
    "xs = np.linspace(-1, 1, 1000)\n",
    "ys = normalised_ground_truth(xs)\n",
    "x_tr, x_te, y_tr, y_te = generate_dataset()\n",
    "\n",
    "plt.title(\"Regression Dataset: Ground Truth Samples with Gaussian Noise\")\n",
    "plt.plot(xs, ys)\n",
    "plt.scatter(x_tr, y_tr, label='Train', color='darkblue')\n",
    "plt.scatter(x_te, y_te, label='Test', color='red')\n",
    "plt.xlabel('Input variable')\n",
    "plt.ylabel('Output variable')\n",
    "plt.legend()\n",
    "plt.show()\n",
    "\n",
    "# transpose the pytorch tensor so it fits as expected later\n",
    "x_tr = torch.FloatTensor(x_tr).unsqueeze(-1)\n",
    "y_tr = torch.FloatTensor(y_tr).unsqueeze(-1)\n",
    "x_te = torch.FloatTensor(x_te).unsqueeze(-1)\n",
    "y_te = torch.FloatTensor(y_te).unsqueeze(-1)\n",
    "y_te += 5\n",
    "y_tr += 5\n",
    "ys += 5"
   ]
  },
  {
   "cell_type": "code",
   "execution_count": 204,
   "metadata": {},
   "outputs": [],
   "source": [
    "BNN = FullCovBNN(1, [4, 4], 1, noise_std=0.15)"
   ]
  },
  {
   "cell_type": "code",
   "execution_count": 228,
   "metadata": {},
   "outputs": [],
   "source": []
  },
  {
   "cell_type": "markdown",
   "metadata": {},
   "source": []
  },
  {
   "cell_type": "code",
   "execution_count": 205,
   "metadata": {},
   "outputs": [
    {
     "data": {
      "image/png": "[encoded data removed]",
      "text/plain": [
       "<Figure size 640x480 with 1 Axes>"
      ]
     },
     "metadata": {},
     "output_type": "display_data"
    }
   ],
   "source": [
    "def to_numpy(x):\n",
    "    return x.detach().cpu().numpy() # convert a torch tensor to a numpy array\n",
    "\n",
    "def plot_regression_results(x_tr, x_te, y_tr, y_te, xs, ys, net, n_samples=100):\n",
    "    n_test = xs.shape[0]\n",
    "    predictions = np.zeros((n_samples, n_test))\n",
    "\n",
    "    for i in range(n_samples):\n",
    "        params_sample = net.sample_network_params()\n",
    "        predictions[i,] = to_numpy(net.forward(torch.tensor(xs, dtype=torch.float32).unsqueeze(1), params_sample).flatten())\n",
    "\n",
    "    pred_mean = predictions.mean(0)\n",
    "    pred_std = predictions.std(0)\n",
    "\n",
    "    x_tr, x_te = to_numpy(x_tr).flatten(), to_numpy(x_te).flatten()\n",
    "    y_tr, y_te = to_numpy(y_tr).flatten(), to_numpy(y_te).flatten()\n",
    "\n",
    "    plt.plot(xs, pred_mean, color='blue', label='Predictive mean')\n",
    "    plt.fill_between(xs, pred_mean + 1.96*pred_std, pred_mean - 1.96*pred_std, color='blue', alpha=0.2, label='95% Confidence')\n",
    "    plt.plot(xs, ys)\n",
    "    plt.scatter(x_tr, y_tr, label='Train', color='darkblue')\n",
    "    plt.scatter(x_te, y_te, label='Test', color='red')\n",
    "    plt.xlabel('Input variable')\n",
    "    plt.ylabel('Output variable')\n",
    "    plt.legend()\n",
    "    plt.show()\n",
    "\n",
    "    \n",
    "    ############### continue plotting here ###############\n",
    "\n",
    "plot_regression_results(x_tr, x_te, y_tr, y_te, xs, ys, net=BNN, n_samples=100)"
   ]
  },
  {
   "cell_type": "code",
   "execution_count": 209,
   "metadata": {},
   "outputs": [
    {
     "name": "stdout",
     "output_type": "stream",
     "text": [
      "Epoch 1\n",
      "Epoch 2\n",
      "Epoch 3\n",
      "Epoch 4\n",
      "Epoch 5\n",
      "Epoch 6\n",
      "Epoch 7\n",
      "Epoch 8\n",
      "Epoch 9\n",
      "Epoch 10\n"
     ]
    },
    {
     "data": {
      "image/png": "[encoded data removed]",
      "text/plain": [
       "<Figure size 640x480 with 1 Axes>"
      ]
     },
     "metadata": {},
     "output_type": "display_data"
    }
   ],
   "source": [
    "n_epochs = 10\n",
    "\n",
    "for epoch in range(n_epochs):\n",
    "    print(f'Epoch {epoch+1}')\n",
    "    update_variational_params_choldate(BNN, x_tr, y_tr, 0.15, K=10)\n",
    "\n",
    "plot_regression_results(x_tr, x_te, y_tr, y_te, xs, ys, net=BNN, n_samples=100)"
   ]
  },
  {
   "cell_type": "code",
   "execution_count": null,
   "metadata": {},
   "outputs": [],
   "source": []
  },
  {
   "cell_type": "code",
   "execution_count": 28,
   "metadata": {},
   "outputs": [
    {
     "data": {
      "text/plain": [
       "tensor([0.1178], grad_fn=<ViewBackward0>)"
      ]
     },
     "execution_count": 28,
     "metadata": {},
     "output_type": "execute_result"
    }
   ],
   "source": [
    "sampled_params = BNN.sample_network_params()  # Sample from q distribution with gradient tracking\n",
    "input_data = torch.tensor(([0.25]))\n",
    "BNN.forward(input_data, sampled_params)#.unsqueeze(1)\n",
    "# input_data"
   ]
  },
  {
   "cell_type": "code",
   "execution_count": null,
   "metadata": {},
   "outputs": [],
   "source": []
  },
  {
   "cell_type": "markdown",
   "metadata": {},
   "source": []
  },
  {
   "cell_type": "code",
   "execution_count": 42,
   "metadata": {},
   "outputs": [
    {
     "data": {
      "text/plain": [
       "{0: tensor([-0.4314,  0.7981,  0.2185, -0.0696,  0.3849, -0.2569, -0.2812,  0.9494],\n",
       "        requires_grad=True),\n",
       " 1: tensor([-1.1288, -1.3501, -0.3738,  0.6754,  0.9665,  0.6331, -0.4795, -0.9847,\n",
       "         -0.0220,  1.7638,  0.1505, -0.6581, -0.7288,  0.4167, -0.6793, -0.5261,\n",
       "         -0.2236, -0.3685, -0.1031, -0.7528], requires_grad=True),\n",
       " 2: tensor([ 0.0214, -0.0405,  0.0410, -0.0468, -0.0125], requires_grad=True)}"
      ]
     },
     "execution_count": 42,
     "metadata": {},
     "output_type": "execute_result"
    }
   ],
   "source": [
    "sampled_params = BNN.sample_network_params()  # Sample from q distribution with gradient tracking\n",
    "sampled_params"
   ]
  },
  {
   "cell_type": "code",
   "execution_count": 15,
   "metadata": {},
   "outputs": [
    {
     "ename": "NameError",
     "evalue": "name 'input_data' is not defined",
     "output_type": "error",
     "traceback": [
      "\u001b[1;31m---------------------------------------------------------------------------\u001b[0m",
      "\u001b[1;31mNameError\u001b[0m                                 Traceback (most recent call last)",
      "Cell \u001b[1;32mIn[15], line 1\u001b[0m\n\u001b[1;32m----> 1\u001b[0m BNN\u001b[38;5;241m.\u001b[39mforward(\u001b[43minput_data\u001b[49m, sampled_params)\n",
      "\u001b[1;31mNameError\u001b[0m: name 'input_data' is not defined"
     ]
    }
   ],
   "source": [
    "BNN.forward(input_data, sampled_params)\n"
   ]
  },
  {
   "cell_type": "code",
   "execution_count": 158,
   "metadata": {},
   "outputs": [
    {
     "data": {
      "image/png": "[encoded data removed]",
      "text/plain": [
       "<Figure size 1200x500 with 3 Axes>"
      ]
     },
     "metadata": {},
     "output_type": "display_data"
    }
   ],
   "source": [
    "def plot_mean_and_covariance(BNN,layer):\n",
    "    # Convert mean vector and covariance matrix to NumPy\n",
    "    mean = to_numpy(BNN.network[layer].mean)\n",
    "    cov = to_numpy(BNN.network[layer].cov_chol @ BNN.network[layer].cov_chol.t())\n",
    "\n",
    "    # Create side-by-side subplots\n",
    "    fig, axs = plt.subplots(1, 2, figsize=(12, 5))\n",
    "\n",
    "    # Plot mean vector as a bar plot\n",
    "    axs[0].bar(range(len(mean)), mean, color='steelblue')\n",
    "    axs[0].set_title(\"Mean Vector\")\n",
    "    axs[0].set_xlabel(\"Index\")\n",
    "    axs[0].set_ylabel(\"Mean Value\")\n",
    "\n",
    "    # Plot covariance matrix as a heatmap\n",
    "    im = axs[1].imshow(cov, cmap='PuBuGn', aspect='auto')\n",
    "    axs[1].set_title(\"Covariance Matrix\")\n",
    "    axs[1].set_xlabel(\"Index\")\n",
    "    axs[1].set_ylabel(\"Index\")\n",
    "    fig.colorbar(im, ax=axs[1], label=\"Covariance Value\")\n",
    "\n",
    "    # Adjust layout and show the plot\n",
    "    plt.tight_layout()\n",
    "    plt.show()\n",
    "\n",
    "plot_mean_and_covariance(BNN,4)\n"
   ]
  },
  {
   "cell_type": "code",
   "execution_count": 97,
   "metadata": {},
   "outputs": [
    {
     "data": {
      "text/plain": [
       "tensor([[ 1.3232e-03,  0.0000e+00,  0.0000e+00,  0.0000e+00,  0.0000e+00],\n",
       "        [-7.2387e-04,  1.3393e-03,  0.0000e+00,  0.0000e+00,  0.0000e+00],\n",
       "        [ 1.7315e-04, -1.9289e-04,  1.5597e-03,  0.0000e+00,  0.0000e+00],\n",
       "        [-1.5431e-03, -8.2897e-04, -1.4425e-03,  9.0011e-04,  0.0000e+00],\n",
       "        [-2.7446e-05, -7.4505e-05, -3.5264e-05, -1.6292e-04,  1.4578e-04]])"
      ]
     },
     "execution_count": 97,
     "metadata": {},
     "output_type": "execute_result"
    }
   ],
   "source": [
    "BNN.network[4].cov_chol"
   ]
  },
  {
   "cell_type": "code",
   "execution_count": 40,
   "metadata": {},
   "outputs": [],
   "source": [
    "input_data = torch.tensor(([1.0]), requires_grad=True)\n",
    "target_data = torch.tensor(([2.0]), requires_grad=True)\n",
    "BNN = FullCovBNN(1, [2, 2], 1, noise_std=0.15)"
   ]
  },
  {
   "cell_type": "code",
   "execution_count": 41,
   "metadata": {},
   "outputs": [
    {
     "name": "stdout",
     "output_type": "stream",
     "text": [
      "sampled params:\n",
      "{0: tensor([ 0.3970,  0.9257,  1.4252, -0.6912], requires_grad=True), 1: tensor([ 0.6866,  0.0058, -0.6571,  0.2288,  0.0856, -0.5162],\n",
      "       requires_grad=True), 2: tensor([-1.1221, -0.5267,  0.2450], requires_grad=True)}\n",
      "gradients:\n",
      "{0: tensor([58.9237,  2.9135, 60.5303,  0.3870], grad_fn=<DivBackward0>), 1: tensor([325.0795,  41.6985,  14.1828,   2.3144, 177.9417,   7.5400],\n",
      "       grad_fn=<DivBackward0>), 2: tensor([-319.8368,   38.6331, -237.3079], grad_fn=<DivBackward0>)}\n"
     ]
    }
   ],
   "source": [
    "update_variational_params_choldate(BNN, input_data, target_data, 0.2, K=1)"
   ]
  },
  {
   "cell_type": "code",
   "execution_count": null,
   "metadata": {},
   "outputs": [],
   "source": []
  },
  {
   "cell_type": "code",
   "execution_count": null,
   "metadata": {},
   "outputs": [],
   "source": []
  },
  {
   "cell_type": "code",
   "execution_count": null,
   "metadata": {},
   "outputs": [],
   "source": []
  },
  {
   "cell_type": "code",
   "execution_count": 98,
   "metadata": {},
   "outputs": [],
   "source": []
  },
  {
   "cell_type": "code",
   "execution_count": null,
   "metadata": {},
   "outputs": [],
   "source": []
  },
  {
   "cell_type": "code",
   "execution_count": 66,
   "metadata": {},
   "outputs": [],
   "source": []
  },
  {
   "cell_type": "code",
   "execution_count": null,
   "metadata": {},
   "outputs": [],
   "source": []
  },
  {
   "cell_type": "code",
   "execution_count": null,
   "metadata": {},
   "outputs": [],
   "source": []
  },
  {
   "cell_type": "code",
   "execution_count": null,
   "metadata": {},
   "outputs": [],
   "source": []
  },
  {
   "cell_type": "code",
   "execution_count": null,
   "metadata": {},
   "outputs": [],
   "source": []
  },
  {
   "cell_type": "code",
   "execution_count": null,
   "metadata": {},
   "outputs": [],
   "source": []
  },
  {
   "cell_type": "code",
   "execution_count": null,
   "metadata": {},
   "outputs": [],
   "source": []
  },
  {
   "cell_type": "code",
   "execution_count": null,
   "metadata": {},
   "outputs": [],
   "source": []
  },
  {
   "cell_type": "code",
   "execution_count": null,
   "metadata": {},
   "outputs": [],
   "source": []
  },
  {
   "cell_type": "code",
   "execution_count": null,
   "metadata": {},
   "outputs": [],
   "source": []
  },
  {
   "cell_type": "code",
   "execution_count": null,
   "metadata": {},
   "outputs": [],
   "source": []
  },
  {
   "cell_type": "code",
   "execution_count": 205,
   "metadata": {},
   "outputs": [],
   "source": []
  },
  {
   "cell_type": "code",
   "execution_count": 206,
   "metadata": {},
   "outputs": [],
   "source": []
  },
  {
   "cell_type": "code",
   "execution_count": null,
   "metadata": {},
   "outputs": [],
   "source": []
  },
  {
   "cell_type": "code",
   "execution_count": 208,
   "metadata": {},
   "outputs": [],
   "source": []
  },
  {
   "cell_type": "code",
   "execution_count": null,
   "metadata": {},
   "outputs": [],
   "source": []
  },
  {
   "cell_type": "code",
   "execution_count": null,
   "metadata": {},
   "outputs": [],
   "source": []
  },
  {
   "cell_type": "code",
   "execution_count": null,
   "metadata": {},
   "outputs": [],
   "source": []
  },
  {
   "cell_type": "code",
   "execution_count": 159,
   "metadata": {},
   "outputs": [],
   "source": []
  },
  {
   "cell_type": "code",
   "execution_count": null,
   "metadata": {},
   "outputs": [],
   "source": []
  },
  {
   "cell_type": "code",
   "execution_count": 121,
   "metadata": {},
   "outputs": [],
   "source": []
  },
  {
   "cell_type": "code",
   "execution_count": null,
   "metadata": {},
   "outputs": [],
   "source": []
  },
  {
   "cell_type": "code",
   "execution_count": null,
   "metadata": {},
   "outputs": [],
   "source": []
  },
  {
   "cell_type": "code",
   "execution_count": null,
   "metadata": {},
   "outputs": [],
   "source": []
  },
  {
   "cell_type": "code",
   "execution_count": null,
   "metadata": {},
   "outputs": [],
   "source": []
  },
  {
   "cell_type": "code",
   "execution_count": null,
   "metadata": {},
   "outputs": [],
   "source": []
  },
  {
   "cell_type": "code",
   "execution_count": 166,
   "metadata": {},
   "outputs": [],
   "source": []
  },
  {
   "cell_type": "code",
   "execution_count": null,
   "metadata": {},
   "outputs": [],
   "source": []
  },
  {
   "cell_type": "code",
   "execution_count": null,
   "metadata": {},
   "outputs": [],
   "source": []
  },
  {
   "cell_type": "code",
   "execution_count": null,
   "metadata": {},
   "outputs": [],
   "source": []
  },
  {
   "cell_type": "code",
   "execution_count": null,
   "metadata": {},
   "outputs": [],
   "source": []
  },
  {
   "cell_type": "code",
   "execution_count": null,
   "metadata": {},
   "outputs": [],
   "source": []
  },
  {
   "cell_type": "code",
   "execution_count": null,
   "metadata": {},
   "outputs": [],
   "source": []
  }
 ],
 "metadata": {
  "kernelspec": {
   "display_name": ".venv",
   "language": "python",
   "name": "python3"
  },
  "language_info": {
   "codemirror_mode": {
    "name": "ipython",
    "version": 3
   },
   "file_extension": ".py",
   "mimetype": "text/x-python",
   "name": "python",
   "nbconvert_exporter": "python",
   "pygments_lexer": "ipython3",
   "version": "3.9.6"
  }
 },
 "nbformat": 4,
 "nbformat_minor": 2
}
