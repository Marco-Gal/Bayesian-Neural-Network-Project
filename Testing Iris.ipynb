{
 "cells": [
  {
   "cell_type": "code",
   "execution_count": 2,
   "metadata": {},
   "outputs": [],
   "source": [
    "import torch\n",
    "from sklearn.datasets import load_iris\n",
    "from sklearn.preprocessing import StandardScaler\n",
    "\n",
    "iris = load_iris()\n",
    "X = iris.data\n",
    "y = iris.target\n",
    "scaler = StandardScaler()\n",
    "X = scaler.fit_transform(X)\n",
    "\n",
    "# Convert to PyTorch tensors\n",
    "X_tensor = torch.tensor(X, dtype=torch.float32)\n",
    "y_tensor = torch.tensor(y, dtype=torch.long)"
   ]
  },
  {
   "cell_type": "code",
   "execution_count": 3,
   "metadata": {},
   "outputs": [],
   "source": [
    "import pandas as pd\n",
    "import numpy as np\n",
    "import torch\n",
    "from torch import nn\n",
    "import matplotlib.pyplot as plt\n",
    "from sklearn.model_selection import train_test_split\n",
    "from tqdm import tqdm"
   ]
  },
  {
   "cell_type": "code",
   "execution_count": null,
   "metadata": {},
   "outputs": [],
   "source": []
  },
  {
   "cell_type": "code",
   "execution_count": 4,
   "metadata": {},
   "outputs": [],
   "source": [
    "x_tr, x_te, y_tr, y_te = train_test_split(X_tensor, y_tensor, test_size=0.3, random_state=42)"
   ]
  },
  {
   "cell_type": "code",
   "execution_count": 45,
   "metadata": {},
   "outputs": [],
   "source": [
    "class FullCovGaussianLayer(nn.Module):\n",
    "    def __init__(\n",
    "        self, \n",
    "        input_dim, \n",
    "        output_dim, \n",
    "        prior_var = 0.8, \n",
    "        pre_trained_values = None   \n",
    "        ):\n",
    "        super(FullCovGaussianLayer, self).__init__()\n",
    "        self.input_dim = input_dim\n",
    "        self.output_dim = output_dim\n",
    "        # Prior parameters p(theta)\n",
    "\n",
    "        # If no prior parameters are given, set them to zero mean and given variance\n",
    "        if pre_trained_values is None:\n",
    "            self.mu_p = torch.zeros(input_dim * output_dim + output_dim)\n",
    "            self.chol_p = torch.eye(input_dim * output_dim + output_dim) * torch.sqrt(torch.tensor(prior_var))\n",
    "            \n",
    "        else:\n",
    "            # Extract pre-trained values\n",
    "            w_pre_mean = pre_trained_values[0]\n",
    "            w_pre_log_var = pre_trained_values[1]\n",
    "            b_pre_mean = pre_trained_values[2]\n",
    "            b_pre_log_var = pre_trained_values[3]\n",
    "\n",
    "            # Set priors to pre-trained values\n",
    "            self.mu_p = torch.cat([w_pre_mean, b_pre_mean], dim=0)\n",
    "            combined_log_vars = torch.cat([w_pre_log_var, b_pre_log_var], dim=0)\n",
    "            self.chol_p = torch.diag(torch.exp(combined_log_vars / 2))\n",
    "           \n",
    "\n",
    "         # Variational parameters q(theta)\n",
    "        self.mu_q = nn.Parameter(self.mu_p.clone(),requires_grad=True)\n",
    "        self.chol_q = nn.Parameter(self.chol_p.clone(),requires_grad=True)\n",
    "\n",
    "\n",
    "    def get_chol_q(self):\n",
    "        # Extract the lower triangular part of the parameter\n",
    "        L = torch.tril(self.chol_q, -1)        # Replace the diagonal with its softplus to ensure positivity\n",
    "        # L = torch.tanh(L_raw)  # Keeps values small, allows both signs\n",
    "\n",
    "        diag = torch.log1p(torch.exp(torch.diag(self.chol_q)))  # Softplus on original diagonal\n",
    "        return L + torch.diag(diag)\n",
    "\n",
    "    # the priors do not change so could be stored as attributes, but\n",
    "    # it feels cleaner to access them in the same way as the posteriors\n",
    "    def p(self):\n",
    "        \"\"\"Weight prior distribution\"\"\"\n",
    "        return torch.distributions.MultivariateNormal(self.mu_p, scale_tril=(self.chol_p* np.sqrt(2 / self.output_dim)))\n",
    "\n",
    "    # def q(self):\n",
    "    #     \"\"\"Variational weight posterior\"\"\"\n",
    "    #     return torch.distributions.MultivariateNormal(self.mu_q, scale_tril=self.chol_q)\n",
    "\n",
    "    def q(self):\n",
    "        \"\"\"Variational weight posterior with a valid Cholesky factor\"\"\"\n",
    "        valid_chol = self.get_chol_q()\n",
    "        return torch.distributions.MultivariateNormal(self.mu_q, scale_tril=valid_chol)  \n",
    "    \n",
    "      \n",
    "    # KL divergence KL[q||p] between two Gaussians\n",
    "    def kl_divergence(self):\n",
    "        return torch.distributions.kl_divergence(self.q(), self.p()).sum()\n",
    "    \n",
    "    def forward(self, x):\n",
    "        \"\"\"Propagates x through this layer by sampling weights from the posterior\"\"\"\n",
    "        assert (len(x.shape) == 3), \"x should be shape (num_samples, batch_size, input_dim).\"\n",
    "        assert x.shape[-1] == self.input_dim\n",
    "        num_samples = x.shape[0]\n",
    "\n",
    "        # Sample the parameters and detach them from the hyperparameters graph\n",
    "        param_sample = self.q().rsample((num_samples,))\n",
    "        weights = param_sample[:,:self.input_dim * self.output_dim]  # Shape: (num_samples, input_dim * output_dim)\n",
    "        weights = weights.view(num_samples, self.input_dim, self.output_dim)  # Reshape to (num_samples, input_dim, output_dim)\n",
    "\n",
    "        biases = param_sample[:,self.input_dim * self.output_dim:].unsqueeze(1)  # Shape: (output_dim, num_samples)\n",
    "\n",
    "        return x @ weights + biases, param_sample\n",
    "\n",
    "\n"
   ]
  },
  {
   "cell_type": "code",
   "execution_count": null,
   "metadata": {},
   "outputs": [],
   "source": [
    "class LayerCovBNN(nn.Module):\n",
    "    \"\"\"BNN with layer-wise block diagonal covariance Gaussian distributions.\"\"\"\n",
    "    def __init__(\n",
    "        self,\n",
    "        input_dim,\n",
    "        hidden_dims,\n",
    "        output_dim,\n",
    "        activation = nn.ReLU(),\n",
    "        noise_std=1.0,\n",
    "        prior_var = 0.8,\n",
    "        pre_trained_values = None\n",
    "    ):\n",
    "        super(LayerCovBNN, self).__init__()\n",
    "        self.input_dim = input_dim\n",
    "        self.hidden_dims = hidden_dims\n",
    "        self.output_dim = output_dim\n",
    "        self.activation = activation\n",
    "        self.noise_std = noise_std\n",
    "\n",
    "        self.network = nn.ModuleList()\n",
    "        for i in range(len(hidden_dims) + 1):\n",
    "            # If no pre trained parameters are given, set them to zero mean and given variance\n",
    "            if pre_trained_values is None:\n",
    "                if i == 0:\n",
    "                    self.network.append(FullCovGaussianLayer(self.input_dim, self.hidden_dims[i], prior_var = prior_var))\n",
    "                    self.network.append(self.activation)\n",
    "                elif i == len(hidden_dims):\n",
    "                    self.network.append(\n",
    "                        FullCovGaussianLayer(self.hidden_dims[i - 1], self.output_dim, prior_var = prior_var)\n",
    "                    )\n",
    "                    self.network.append(torch.nn.Softmax(dim=2))\n",
    "\n",
    "                else:\n",
    "                    self.network.append(\n",
    "                        FullCovGaussianLayer(self.hidden_dims[i - 1], self.hidden_dims[i], prior_var = prior_var)\n",
    "                    )\n",
    "                    self.network.append(self.activation) \n",
    "\n",
    "            # Set to pre trained values\n",
    "            else:\n",
    "                if i == 0:\n",
    "                    self.network.append(FullCovGaussianLayer(self.input_dim, self.hidden_dims[i], pre_trained_values = pre_trained_values[i]))\n",
    "                    self.network.append(self.activation)\n",
    "                elif i == len(hidden_dims):\n",
    "                    self.network.append(\n",
    "                        FullCovGaussianLayer(self.hidden_dims[i - 1], self.output_dim, pre_trained_values = pre_trained_values[i])\n",
    "                    )\n",
    "                else:\n",
    "                    self.network.append(\n",
    "                        FullCovGaussianLayer(self.hidden_dims[i - 1], self.hidden_dims[i], pre_trained_values = pre_trained_values[i])\n",
    "                    )\n",
    "                    self.network.append(self.activation)\n",
    "\n",
    "    def forward(self, x, num_samples=1):\n",
    "        \"\"\"Propagate the inputs through the network using num_samples weights.\n",
    "\n",
    "        Args:\n",
    "            x (torch.tensor): Inputs to the network.\n",
    "            num_samples (int, optional): Number of samples to use. Defaults to 1.\n",
    "        \"\"\"\n",
    "        assert len(x.shape) == 2, \"x.shape must be (batch_size, input_dim).\"\n",
    "        # Expand dimensions of x to (num_samples, batch_size, input_dim).\n",
    "        x = torch.unsqueeze(x, 0).repeat(num_samples, 1, 1)\n",
    "        param_samples = []\n",
    "        # Propagate x through network\n",
    "        for layer in self.network:\n",
    "            if isinstance(layer, FullCovGaussianLayer):\n",
    "                x, param_sample = layer(x)\n",
    "                param_samples.append(param_sample)\n",
    "            else:\n",
    "                x = layer(x)\n",
    "\n",
    "        assert len(x.shape) == 3, \"x.shape must be (num_samples, batch_size, output_dim)\"\n",
    "        assert x.shape[-1] == self.output_dim\n",
    "\n",
    "        return x, param_samples\n",
    "    \n",
    "    # def ll(self, y_obs, y_pred, num_samples=1):\n",
    "    #     \"\"\"Computes the log likelihood of the outputs of self.forward(x)\"\"\"\n",
    "    #     print(y_pred.shape)\n",
    "    #     print(y_obs.shape)\n",
    "    #     l = torch.distributions.Categorical(probs=y_pred)\n",
    "    #     return l.log_prob(y_obs).mean(0).sum(0).squeeze()\n",
    "    def ll(self, y_obs, y_pred, num_samples=1):\n",
    "        \"\"\"Computes the log likelihood for a categorical model.\n",
    "        \n",
    "        y_pred: Tensor of shape (num_samples, n_points, output_size)\n",
    "        y_obs: Tensor of shape (n_points,)\n",
    "        \"\"\"\n",
    "        # Explicitly expand y_obs to (num_samples, n_points)\n",
    "        y_obs_expanded = y_obs.unsqueeze(0).repeat(num_samples, 1)\n",
    "        \n",
    "        # Create the categorical distribution from predicted probabilities\n",
    "        l = torch.distributions.Categorical(probs=y_pred)\n",
    "        \n",
    "        # Compute log probability; shape: (num_samples, n_points)\n",
    "        log_prob = l.log_prob(y_obs_expanded)\n",
    "        \n",
    "        # Mean over num_samples, sum over n_points, then squeeze extra dimensions\n",
    "        return log_prob.mean(dim=0).sum().squeeze()\n",
    "\n",
    "    def kl(self):\n",
    "        \"\"\"Computes the KL divergence between the approximate posterior and the prior for the network.\"\"\"\n",
    "        return sum([layer.kl_divergence() for layer in self.network if isinstance(layer, FullCovGaussianLayer)])\n",
    "    \n",
    "    def q_log_prob(self, param_samples):\n",
    "        'computes the log probability under the variational posterior'\n",
    "        return sum([layer.q().log_prob(param_samples[i//2]).mean() for i, layer in enumerate(self.network) if isinstance(layer, FullCovGaussianLayer)])\n",
    "    \n",
    "    \n",
    "    def p_log_prob(self, param_samples):\n",
    "        'computes the log probability under the prior'\n",
    "        return sum([layer.p().log_prob(param_samples[i//2]).mean() for i, layer in enumerate(self.network) if isinstance(layer, FullCovGaussianLayer)])\n",
    "\n",
    "\n",
    "\n",
    "    def loss(self, x, y, num_samples=1):\n",
    "        \"\"\"Computes the ELBO and returns its negative\"\"\"\n",
    "\n",
    "        y_pred, param_samples = self.forward(x, num_samples=num_samples)\n",
    "        q_log_prob = self.q_log_prob(param_samples)\n",
    "        p_log_prob = self.p_log_prob(param_samples)\n",
    "        exp_ll = self.ll(y, y_pred, num_samples = num_samples)\n",
    "\n",
    "        exp_ll = self.ll(y, y_pred, num_samples=num_samples)\n",
    "        kl = self.kl()\n",
    "\n",
    "        return q_log_prob - p_log_prob - exp_ll, exp_ll, kl\n",
    "   "
   ]
  },
  {
   "cell_type": "code",
   "execution_count": 47,
   "metadata": {},
   "outputs": [
    {
     "name": "stdout",
     "output_type": "stream",
     "text": [
      "LayerCovBNN(\n",
      "  (activation): ReLU()\n",
      "  (network): ModuleList(\n",
      "    (0): FullCovGaussianLayer()\n",
      "    (1): ReLU()\n",
      "    (2): FullCovGaussianLayer()\n",
      "    (3): ReLU()\n",
      "    (4): FullCovGaussianLayer()\n",
      "    (5): Softmax(dim=2)\n",
      "  )\n",
      ")\n"
     ]
    }
   ],
   "source": [
    "bnn_model = LayerCovBNN(4, [4, 4], 3, noise_std=0.5)\n",
    "# find value of noise_std that works best by trial and error, but this is of course\n",
    "# inherently a bit contrived since we know we set input noise std to 0.15 in dataset generation\n",
    "print(bnn_model)\n",
    "\n",
    "opt = torch.optim.Adam(\n",
    "    bnn_model.parameters(),\n",
    "    lr = 1e-2\n",
    ")"
   ]
  },
  {
   "cell_type": "code",
   "execution_count": 48,
   "metadata": {},
   "outputs": [
    {
     "name": "stderr",
     "output_type": "stream",
     "text": [
      "  0%|          | 0/1000 [00:00<?, ?it/s]\n"
     ]
    },
    {
     "ename": "TypeError",
     "evalue": "q_log_prob() missing 1 required positional argument: 'param_samples'",
     "output_type": "error",
     "traceback": [
      "\u001b[1;31m---------------------------------------------------------------------------\u001b[0m",
      "\u001b[1;31mTypeError\u001b[0m                                 Traceback (most recent call last)",
      "Cell \u001b[1;32mIn[48], line 13\u001b[0m\n\u001b[0;32m     10\u001b[0m \u001b[38;5;28;01mfor\u001b[39;00m epoch \u001b[38;5;129;01min\u001b[39;00m tqdm(\u001b[38;5;28mrange\u001b[39m(\u001b[38;5;241m1000\u001b[39m)):  \u001b[38;5;66;03m# epochs\u001b[39;00m\n\u001b[0;32m     11\u001b[0m     opt\u001b[38;5;241m.\u001b[39mzero_grad()\n\u001b[1;32m---> 13\u001b[0m     l, ll, kl \u001b[38;5;241m=\u001b[39m \u001b[43mbnn_model\u001b[49m\u001b[38;5;241;43m.\u001b[39;49m\u001b[43mloss\u001b[49m\u001b[43m(\u001b[49m\u001b[43mx_tr\u001b[49m\u001b[43m,\u001b[49m\u001b[43m \u001b[49m\u001b[43my_tr\u001b[49m\u001b[43m,\u001b[49m\u001b[43m \u001b[49m\u001b[43mnum_samples\u001b[49m\u001b[43m \u001b[49m\u001b[38;5;241;43m=\u001b[39;49m\u001b[43m \u001b[49m\u001b[38;5;241;43m100\u001b[39;49m\u001b[43m)\u001b[49m\n\u001b[0;32m     14\u001b[0m     tr_loss_evo\u001b[38;5;241m.\u001b[39mappend(l\u001b[38;5;241m.\u001b[39mitem())\n\u001b[0;32m     15\u001b[0m     tr_ll_evo\u001b[38;5;241m.\u001b[39mappend(ll\u001b[38;5;241m.\u001b[39mitem())\n",
      "Cell \u001b[1;32mIn[46], line 121\u001b[0m, in \u001b[0;36mLayerCovBNN.loss\u001b[1;34m(self, x, y, num_samples)\u001b[0m\n\u001b[0;32m    118\u001b[0m \u001b[38;5;250m\u001b[39m\u001b[38;5;124;03m\"\"\"Computes the ELBO and returns its negative\"\"\"\u001b[39;00m\n\u001b[0;32m    120\u001b[0m y_pred, param_samples \u001b[38;5;241m=\u001b[39m \u001b[38;5;28mself\u001b[39m\u001b[38;5;241m.\u001b[39mforward(x, num_samples\u001b[38;5;241m=\u001b[39mnum_samples)\n\u001b[1;32m--> 121\u001b[0m q_log_prob \u001b[38;5;241m=\u001b[39m \u001b[38;5;28;43mself\u001b[39;49m\u001b[38;5;241;43m.\u001b[39;49m\u001b[43mq_log_prob\u001b[49m\u001b[43m(\u001b[49m\u001b[43m)\u001b[49m\n\u001b[0;32m    122\u001b[0m p_log_prob \u001b[38;5;241m=\u001b[39m \u001b[38;5;28mself\u001b[39m\u001b[38;5;241m.\u001b[39mp_log_prob()\n\u001b[0;32m    123\u001b[0m exp_ll \u001b[38;5;241m=\u001b[39m \u001b[38;5;28mself\u001b[39m\u001b[38;5;241m.\u001b[39mll(y, y_pred, num_samples \u001b[38;5;241m=\u001b[39m num_samples)\n",
      "\u001b[1;31mTypeError\u001b[0m: q_log_prob() missing 1 required positional argument: 'param_samples'"
     ]
    }
   ],
   "source": [
    "tr_loss_evo = []\n",
    "tr_ll_evo = []\n",
    "tr_kl_evo = []\n",
    "te_loss_evo = []\n",
    "\n",
    "tr_nll_loss_evo = []\n",
    "te_nll_loss_evo = []\n",
    "aux_loss = nn.NLLLoss()\n",
    "\n",
    "for epoch in tqdm(range(1000)):  # epochs\n",
    "    opt.zero_grad()\n",
    "\n",
    "    l, ll, kl = bnn_model.loss(x_tr, y_tr, num_samples = 100)\n",
    "    tr_loss_evo.append(l.item())\n",
    "    tr_ll_evo.append(ll.item())\n",
    "    tr_kl_evo.append(kl.item())\n",
    "    tr_nll_loss_evo.append(aux_loss(bnn_model(x_tr,num_samples=10).mean(0), y_tr).item())\n",
    "\n",
    "    te_loss_evo.append(bnn_model.loss(x_te, y_te)[0].item())\n",
    "    te_nll_loss_evo.append(aux_loss(bnn_model(x_te,num_samples=10).mean(0), y_te).item())\n",
    "\n",
    "    l.backward()\n",
    "    opt.step()\n",
    "\n",
    "plt.rcParams[\"figure.figsize\"] = (10, 4)\n",
    "\n",
    "plt.plot(tr_loss_evo, label='Train dataset loss')\n",
    "plt.plot(te_loss_evo, label='Test dataset loss')\n",
    "plt.ylabel('ELBO loss')\n",
    "plt.xlabel('epoch')\n",
    "plt.legend()\n",
    "plt.title('Loss Evolution')\n",
    "plt.show()\n",
    "\n",
    "plt.plot(tr_ll_evo, label='Train dataset log-like evo')\n",
    "plt.ylabel('expected log likelihood')\n",
    "plt.xlabel('epoch')\n",
    "plt.legend()\n",
    "plt.title('Expected Log Likelihood Evolution')\n",
    "plt.show()\n",
    "\n",
    "plt.plot(tr_kl_evo, label='Train dataset kl evo')\n",
    "plt.ylabel('kl')\n",
    "plt.xlabel('epoch')\n",
    "plt.legend()\n",
    "plt.title('KL Evolution')\n",
    "plt.show()\n",
    "\n",
    "plt.plot(tr_nll_loss_evo, label='Train dataset')\n",
    "plt.plot(te_nll_loss_evo, label='Test dataset')\n",
    "plt.ylabel('NLL')\n",
    "plt.xlabel('epoch')\n",
    "plt.legend()\n",
    "plt.title('NLL Evolution')\n",
    "plt.show()"
   ]
  },
  {
   "cell_type": "code",
   "execution_count": null,
   "metadata": {},
   "outputs": [],
   "source": []
  },
  {
   "cell_type": "code",
   "execution_count": 39,
   "metadata": {},
   "outputs": [
    {
     "data": {
      "text/plain": [
       "torch.Size([45, 3])"
      ]
     },
     "execution_count": 39,
     "metadata": {},
     "output_type": "execute_result"
    }
   ],
   "source": [
    "preds = bnn_model(x_te, num_samples=500)\n",
    "mean_preds = preds.mean(0)\n",
    "mean_preds.shape # might need numpy"
   ]
  },
  {
   "cell_type": "code",
   "execution_count": 40,
   "metadata": {},
   "outputs": [
    {
     "data": {
      "text/plain": [
       "tensor(0.4463, grad_fn=<NllLossBackward0>)"
      ]
     },
     "execution_count": 40,
     "metadata": {},
     "output_type": "execute_result"
    }
   ],
   "source": [
    "loss = nn.NLLLoss()\n",
    "loss(torch.log(mean_preds),y_te)"
   ]
  },
  {
   "cell_type": "code",
   "execution_count": 41,
   "metadata": {},
   "outputs": [
    {
     "name": "stdout",
     "output_type": "stream",
     "text": [
      "Accuracy on test set: 88.89%\n"
     ]
    }
   ],
   "source": [
    "predicted_labels = torch.argmax(mean_preds, dim=1)\n",
    "\n",
    "# Compare the predicted labels to the true labels\n",
    "correct_predictions = (predicted_labels == y_te)\n",
    "\n",
    "# Calculate the accuracy\n",
    "accuracy = correct_predictions.float().mean()\n",
    "\n",
    "# Print the accuracy\n",
    "print(f'Accuracy on test set: {accuracy.item() * 100:.2f}%')"
   ]
  },
  {
   "cell_type": "code",
   "execution_count": 19,
   "metadata": {},
   "outputs": [],
   "source": [
    "mean_preds = mean_preds.detach().numpy()"
   ]
  },
  {
   "cell_type": "code",
   "execution_count": 13,
   "metadata": {},
   "outputs": [
    {
     "data": {
      "text/plain": [
       "tensor([1, 2, 1, 1, 1, 1, 1, 1, 1, 1, 1, 2, 1, 2, 2, 1, 1, 1, 1, 1, 2, 1, 2, 1,\n",
       "        2, 1, 1, 2, 1, 2, 2, 2, 1, 2, 2, 1, 1, 2, 2, 2, 1, 1, 1, 2, 2])"
      ]
     },
     "execution_count": 13,
     "metadata": {},
     "output_type": "execute_result"
    }
   ],
   "source": [
    "torch.argmax(mean_preds,dim=1)"
   ]
  },
  {
   "cell_type": "code",
   "execution_count": 20,
   "metadata": {},
   "outputs": [],
   "source": [
    "df = pd.DataFrame(\n",
    "    mean_preds,  # Each column will be one of the 7 confidence values\n",
    "    columns=[f'confidence_{i}' for i in range(mean_preds.shape[1])]\n",
    ")\n",
    "df['true_label'] = y_te  # Add the true labels\n",
    "df.to_csv('obesity_preds.csv', index=False)"
   ]
  },
  {
   "cell_type": "code",
   "execution_count": 21,
   "metadata": {},
   "outputs": [],
   "source": [
    "df = pd.read_csv('obesity_preds.csv')\n",
    "plot_name = 'calibration_data'\n"
   ]
  },
  {
   "cell_type": "code",
   "execution_count": 22,
   "metadata": {},
   "outputs": [],
   "source": [
    "df_melted = df.melt(id_vars=[\"true_label\"], \n",
    "                    value_vars=[\"confidence_0\", \"confidence_1\", \"confidence_2\", \"confidence_3\", \n",
    "                                \"confidence_4\", \"confidence_5\", \"confidence_6\"], \n",
    "                    var_name=\"pred_label\", value_name=\"confidence\")\n",
    "\n",
    "# Extract the numerical part of the pred_label\n",
    "df_melted[\"pred_label\"] = df_melted[\"pred_label\"].str.extract(\"(\\d+)\").astype(int)\n",
    "\n",
    "# Reorder the columns to match the desired format\n",
    "df_final = df_melted[[\"pred_label\", \"true_label\", \"confidence\"]]"
   ]
  },
  {
   "cell_type": "code",
   "execution_count": 23,
   "metadata": {},
   "outputs": [],
   "source": [
    "y_true = df_final.true_label.values\n",
    "y_pred = df_final.pred_label.values\n",
    "y_conf = df_final.confidence.values"
   ]
  },
  {
   "cell_type": "code",
   "execution_count": 24,
   "metadata": {},
   "outputs": [
    {
     "data": {
      "text/html": [
       "<div>\n",
       "<style scoped>\n",
       "    .dataframe tbody tr th:only-of-type {\n",
       "        vertical-align: middle;\n",
       "    }\n",
       "\n",
       "    .dataframe tbody tr th {\n",
       "        vertical-align: top;\n",
       "    }\n",
       "\n",
       "    .dataframe thead th {\n",
       "        text-align: right;\n",
       "    }\n",
       "</style>\n",
       "<table border=\"1\" class=\"dataframe\">\n",
       "  <thead>\n",
       "    <tr style=\"text-align: right;\">\n",
       "      <th></th>\n",
       "      <th>confidence_0</th>\n",
       "      <th>confidence_1</th>\n",
       "      <th>confidence_2</th>\n",
       "      <th>confidence_3</th>\n",
       "      <th>confidence_4</th>\n",
       "      <th>confidence_5</th>\n",
       "      <th>confidence_6</th>\n",
       "      <th>true_label</th>\n",
       "    </tr>\n",
       "  </thead>\n",
       "  <tbody>\n",
       "    <tr>\n",
       "      <th>0</th>\n",
       "      <td>0.141350</td>\n",
       "      <td>0.141310</td>\n",
       "      <td>0.144605</td>\n",
       "      <td>0.144944</td>\n",
       "      <td>0.145298</td>\n",
       "      <td>0.141027</td>\n",
       "      <td>0.141465</td>\n",
       "      <td>0</td>\n",
       "    </tr>\n",
       "    <tr>\n",
       "      <th>1</th>\n",
       "      <td>0.141116</td>\n",
       "      <td>0.140836</td>\n",
       "      <td>0.145175</td>\n",
       "      <td>0.145329</td>\n",
       "      <td>0.145781</td>\n",
       "      <td>0.140685</td>\n",
       "      <td>0.141078</td>\n",
       "      <td>4</td>\n",
       "    </tr>\n",
       "    <tr>\n",
       "      <th>2</th>\n",
       "      <td>0.141331</td>\n",
       "      <td>0.141261</td>\n",
       "      <td>0.144651</td>\n",
       "      <td>0.144987</td>\n",
       "      <td>0.145344</td>\n",
       "      <td>0.140997</td>\n",
       "      <td>0.141431</td>\n",
       "      <td>0</td>\n",
       "    </tr>\n",
       "    <tr>\n",
       "      <th>3</th>\n",
       "      <td>0.141391</td>\n",
       "      <td>0.141397</td>\n",
       "      <td>0.144499</td>\n",
       "      <td>0.144889</td>\n",
       "      <td>0.145212</td>\n",
       "      <td>0.141082</td>\n",
       "      <td>0.141530</td>\n",
       "      <td>0</td>\n",
       "    </tr>\n",
       "    <tr>\n",
       "      <th>4</th>\n",
       "      <td>0.141267</td>\n",
       "      <td>0.141147</td>\n",
       "      <td>0.144800</td>\n",
       "      <td>0.145077</td>\n",
       "      <td>0.145460</td>\n",
       "      <td>0.140914</td>\n",
       "      <td>0.141335</td>\n",
       "      <td>1</td>\n",
       "    </tr>\n",
       "    <tr>\n",
       "      <th>...</th>\n",
       "      <td>...</td>\n",
       "      <td>...</td>\n",
       "      <td>...</td>\n",
       "      <td>...</td>\n",
       "      <td>...</td>\n",
       "      <td>...</td>\n",
       "      <td>...</td>\n",
       "      <td>...</td>\n",
       "    </tr>\n",
       "    <tr>\n",
       "      <th>629</th>\n",
       "      <td>0.141298</td>\n",
       "      <td>0.141202</td>\n",
       "      <td>0.144725</td>\n",
       "      <td>0.145035</td>\n",
       "      <td>0.145402</td>\n",
       "      <td>0.140956</td>\n",
       "      <td>0.141382</td>\n",
       "      <td>5</td>\n",
       "    </tr>\n",
       "    <tr>\n",
       "      <th>630</th>\n",
       "      <td>0.141375</td>\n",
       "      <td>0.141362</td>\n",
       "      <td>0.144545</td>\n",
       "      <td>0.144909</td>\n",
       "      <td>0.145243</td>\n",
       "      <td>0.141064</td>\n",
       "      <td>0.141502</td>\n",
       "      <td>0</td>\n",
       "    </tr>\n",
       "    <tr>\n",
       "      <th>631</th>\n",
       "      <td>0.141298</td>\n",
       "      <td>0.141207</td>\n",
       "      <td>0.144726</td>\n",
       "      <td>0.145036</td>\n",
       "      <td>0.145397</td>\n",
       "      <td>0.140956</td>\n",
       "      <td>0.141381</td>\n",
       "      <td>5</td>\n",
       "    </tr>\n",
       "    <tr>\n",
       "      <th>632</th>\n",
       "      <td>0.141360</td>\n",
       "      <td>0.141324</td>\n",
       "      <td>0.144580</td>\n",
       "      <td>0.144934</td>\n",
       "      <td>0.145290</td>\n",
       "      <td>0.141032</td>\n",
       "      <td>0.141479</td>\n",
       "      <td>5</td>\n",
       "    </tr>\n",
       "    <tr>\n",
       "      <th>633</th>\n",
       "      <td>0.141069</td>\n",
       "      <td>0.140757</td>\n",
       "      <td>0.145282</td>\n",
       "      <td>0.145392</td>\n",
       "      <td>0.145866</td>\n",
       "      <td>0.140627</td>\n",
       "      <td>0.141006</td>\n",
       "      <td>3</td>\n",
       "    </tr>\n",
       "  </tbody>\n",
       "</table>\n",
       "<p>634 rows × 8 columns</p>\n",
       "</div>"
      ],
      "text/plain": [
       "     confidence_0  confidence_1  confidence_2  confidence_3  confidence_4  \\\n",
       "0        0.141350      0.141310      0.144605      0.144944      0.145298   \n",
       "1        0.141116      0.140836      0.145175      0.145329      0.145781   \n",
       "2        0.141331      0.141261      0.144651      0.144987      0.145344   \n",
       "3        0.141391      0.141397      0.144499      0.144889      0.145212   \n",
       "4        0.141267      0.141147      0.144800      0.145077      0.145460   \n",
       "..            ...           ...           ...           ...           ...   \n",
       "629      0.141298      0.141202      0.144725      0.145035      0.145402   \n",
       "630      0.141375      0.141362      0.144545      0.144909      0.145243   \n",
       "631      0.141298      0.141207      0.144726      0.145036      0.145397   \n",
       "632      0.141360      0.141324      0.144580      0.144934      0.145290   \n",
       "633      0.141069      0.140757      0.145282      0.145392      0.145866   \n",
       "\n",
       "     confidence_5  confidence_6  true_label  \n",
       "0        0.141027      0.141465           0  \n",
       "1        0.140685      0.141078           4  \n",
       "2        0.140997      0.141431           0  \n",
       "3        0.141082      0.141530           0  \n",
       "4        0.140914      0.141335           1  \n",
       "..            ...           ...         ...  \n",
       "629      0.140956      0.141382           5  \n",
       "630      0.141064      0.141502           0  \n",
       "631      0.140956      0.141381           5  \n",
       "632      0.141032      0.141479           5  \n",
       "633      0.140627      0.141006           3  \n",
       "\n",
       "[634 rows x 8 columns]"
      ]
     },
     "execution_count": 24,
     "metadata": {},
     "output_type": "execute_result"
    }
   ],
   "source": [
    "df"
   ]
  },
  {
   "cell_type": "code",
   "execution_count": 25,
   "metadata": {},
   "outputs": [],
   "source": [
    "# Override matplotlib default styling.\n",
    "# plt.style.use(\"seaborn\")\n",
    "\n",
    "plt.rc(\"font\", size=12)\n",
    "plt.rc(\"axes\", labelsize=12)\n",
    "plt.rc(\"xtick\", labelsize=12)\n",
    "plt.rc(\"ytick\", labelsize=12)\n",
    "plt.rc(\"legend\", fontsize=12)\n",
    "\n",
    "plt.rc(\"axes\", titlesize=16)\n",
    "plt.rc(\"figure\", titlesize=16)"
   ]
  },
  {
   "cell_type": "code",
   "execution_count": 26,
   "metadata": {},
   "outputs": [],
   "source": [
    "def compute_calibration(true_labels, pred_labels, confidences, num_bins=10):\n",
    "    \"\"\"Collects predictions into bins used to draw a reliability diagram.\n",
    "\n",
    "    Arguments:\n",
    "        true_labels: the true labels for the test examples\n",
    "        pred_labels: the predicted labels for the test examples\n",
    "        confidences: the predicted confidences for the test examples\n",
    "        num_bins: number of bins\n",
    "\n",
    "    The true_labels, pred_labels, confidences arguments must be NumPy arrays;\n",
    "    pred_labels and true_labels may contain numeric or string labels.\n",
    "\n",
    "    For a multi-class model, the predicted label and confidence should be those\n",
    "    of the highest scoring class.\n",
    "\n",
    "    Returns a dictionary containing the following NumPy arrays:\n",
    "        accuracies: the average accuracy for each bin\n",
    "        confidences: the average confidence for each bin\n",
    "        counts: the number of examples in each bin\n",
    "        bins: the confidence thresholds for each bin\n",
    "        avg_accuracy: the accuracy over the entire test set\n",
    "        avg_confidence: the average confidence over the entire test set\n",
    "        expected_calibration_error: a weighted average of all calibration gaps\n",
    "        max_calibration_error: the largest calibration gap across all bins\n",
    "    \"\"\"\n",
    "    assert(len(confidences) == len(pred_labels))\n",
    "    assert(len(confidences) == len(true_labels))\n",
    "    assert(num_bins > 0)\n",
    "\n",
    "    bin_size = 1.0 / num_bins\n",
    "    bins = np.linspace(0.0, 1.0, num_bins + 1)\n",
    "    indices = np.digitize(confidences, bins, right=True)\n",
    "\n",
    "    bin_accuracies = np.zeros(num_bins, dtype=np.float64)\n",
    "    bin_confidences = np.zeros(num_bins, dtype=np.float64)\n",
    "    bin_counts = np.zeros(num_bins, dtype=int)\n",
    "\n",
    "    for b in range(num_bins):\n",
    "        selected = np.where(indices == b + 1)[0]\n",
    "        if len(selected) > 0:\n",
    "            bin_accuracies[b] = np.mean(true_labels[selected] == pred_labels[selected])\n",
    "            bin_confidences[b] = np.mean(confidences[selected])\n",
    "            bin_counts[b] = len(selected)\n",
    "\n",
    "    avg_acc = np.sum(bin_accuracies * bin_counts) / np.sum(bin_counts)\n",
    "    avg_conf = np.sum(bin_confidences * bin_counts) / np.sum(bin_counts)\n",
    "\n",
    "    gaps = np.abs(bin_accuracies - bin_confidences)\n",
    "    ece = np.sum(gaps * bin_counts) / np.sum(bin_counts)\n",
    "    mce = np.max(gaps)\n",
    "\n",
    "    return { \"accuracies\": bin_accuracies, \n",
    "             \"confidences\": bin_confidences, \n",
    "             \"counts\": bin_counts, \n",
    "             \"bins\": bins,\n",
    "             \"avg_accuracy\": avg_acc,\n",
    "             \"avg_confidence\": avg_conf,\n",
    "             \"expected_calibration_error\": ece,\n",
    "             \"max_calibration_error\": mce }"
   ]
  },
  {
   "cell_type": "code",
   "execution_count": 27,
   "metadata": {},
   "outputs": [],
   "source": [
    "def reliability_diagram(true_labels, pred_labels, confidences, num_bins=10,\n",
    "                        draw_ece=True, draw_bin_importance=False, \n",
    "                        draw_averages=True, title=\"Reliability Diagram\", \n",
    "                        figsize=(6, 6), dpi=72, return_fig=False):\n",
    "    \"\"\"Draws a reliability diagram and confidence histogram in a single plot.\n",
    "    \n",
    "    First, the model's predictions are divided up into bins based on their\n",
    "    confidence scores.\n",
    "\n",
    "    The reliability diagram shows the gap between average accuracy and average \n",
    "    confidence in each bin. These are the red bars.\n",
    "\n",
    "    The black line is the accuracy, the other end of the bar is the confidence.\n",
    "\n",
    "    Ideally, there is no gap and the black line is on the dotted diagonal.\n",
    "    In that case, the model is properly calibrated and we can interpret the\n",
    "    confidence scores as probabilities.\n",
    "\n",
    "    The confidence histogram visualizes how many examples are in each bin. \n",
    "    This is useful for judging how much each bin contributes to the calibration\n",
    "    error.\n",
    "\n",
    "    The confidence histogram also shows the overall accuracy and confidence. \n",
    "    The closer these two lines are together, the better the calibration.\n",
    "    \n",
    "    The ECE or Expected Calibration Error is a summary statistic that gives the\n",
    "    difference in expectation between confidence and accuracy. In other words,\n",
    "    it's a weighted average of the gaps across all bins. A lower ECE is better.\n",
    "\n",
    "    Arguments:\n",
    "        true_labels: the true labels for the test examples\n",
    "        pred_labels: the predicted labels for the test examples\n",
    "        confidences: the predicted confidences for the test examples\n",
    "        num_bins: number of bins\n",
    "        draw_ece: whether to include the Expected Calibration Error\n",
    "        draw_bin_importance: whether to represent how much each bin contributes\n",
    "            to the total accuracy: False, \"alpha\", \"widths\"\n",
    "        draw_averages: whether to draw the overall accuracy and confidence in\n",
    "            the confidence histogram\n",
    "        title: optional title for the plot\n",
    "        figsize: setting for matplotlib; height is ignored\n",
    "        dpi: setting for matplotlib\n",
    "        return_fig: if True, returns the matplotlib Figure object\n",
    "    \"\"\"\n",
    "    bin_data = compute_calibration(true_labels, pred_labels, confidences, num_bins)\n",
    "    return _reliability_diagram_combined(bin_data, draw_ece, draw_bin_importance,\n",
    "                                         draw_averages, title, figsize=figsize, \n",
    "                                         dpi=dpi, return_fig=return_fig)\n"
   ]
  },
  {
   "cell_type": "code",
   "execution_count": 28,
   "metadata": {},
   "outputs": [],
   "source": [
    "def _reliability_diagram_combined(bin_data, \n",
    "                                  draw_ece, draw_bin_importance, draw_averages, \n",
    "                                  title, figsize, dpi, return_fig):\n",
    "    \"\"\"Draws a reliability diagram and confidence histogram using the output\n",
    "    from compute_calibration().\"\"\"\n",
    "    figsize = (figsize[0], figsize[0] * 1.4)\n",
    "\n",
    "    fig, ax = plt.subplots(nrows=2, ncols=1, sharex=True, figsize=figsize, dpi=dpi, \n",
    "                           gridspec_kw={\"height_ratios\": [4, 1]})\n",
    "\n",
    "    plt.tight_layout()\n",
    "    plt.subplots_adjust(hspace=-0.1)\n",
    "\n",
    "    _reliability_diagram_subplot(ax[0], bin_data, draw_ece, draw_bin_importance, \n",
    "                                 title=title, xlabel=\"\")\n",
    "\n",
    "    # Draw the confidence histogram upside down.\n",
    "    orig_counts = bin_data[\"counts\"]\n",
    "    bin_data[\"counts\"] = -bin_data[\"counts\"]\n",
    "    _confidence_histogram_subplot(ax[1], bin_data, draw_averages, title=\"\")\n",
    "    bin_data[\"counts\"] = orig_counts\n",
    "\n",
    "    # Also negate the ticks for the upside-down histogram.\n",
    "    new_ticks = np.abs(ax[1].get_yticks()).astype(int)\n",
    "    ax[1].set_yticklabels(new_ticks)    \n",
    "\n",
    "    plt.show()\n",
    "\n",
    "    if return_fig: return fig"
   ]
  },
  {
   "cell_type": "code",
   "execution_count": 29,
   "metadata": {},
   "outputs": [],
   "source": [
    "def _reliability_diagram_subplot(ax, bin_data, \n",
    "                                 draw_ece=True, \n",
    "                                 draw_bin_importance=False,\n",
    "                                 title=\"Reliability Diagram\", \n",
    "                                 xlabel=\"Confidence\", \n",
    "                                 ylabel=\"Expected Accuracy\"):\n",
    "    \"\"\"Draws a reliability diagram into a subplot.\"\"\"\n",
    "    accuracies = bin_data[\"accuracies\"]\n",
    "    confidences = bin_data[\"confidences\"]\n",
    "    counts = bin_data[\"counts\"]\n",
    "    bins = bin_data[\"bins\"]\n",
    "\n",
    "    bin_size = 1.0 / len(counts)\n",
    "    positions = bins[:-1] + bin_size/2.0\n",
    "\n",
    "    widths = bin_size\n",
    "    alphas = 0.3\n",
    "    min_count = np.min(counts)\n",
    "    max_count = np.max(counts)\n",
    "    normalized_counts = (counts - min_count) / (max_count - min_count)\n",
    "\n",
    "    if draw_bin_importance == \"alpha\":\n",
    "        alphas = 0.2 + 0.8*normalized_counts\n",
    "    elif draw_bin_importance == \"width\":\n",
    "        widths = 0.1*bin_size + 0.9*bin_size*normalized_counts\n",
    "\n",
    "    colors = np.zeros((len(counts), 4))\n",
    "    colors[:, 0] = 240 / 255.\n",
    "    colors[:, 1] = 60 / 255.\n",
    "    colors[:, 2] = 60 / 255.\n",
    "    colors[:, 3] = alphas\n",
    "\n",
    "    gap_plt = ax.bar(positions, np.abs(accuracies - confidences), \n",
    "                     bottom=np.minimum(accuracies, confidences), width=widths,\n",
    "                     edgecolor=colors, color=colors, linewidth=1, label=\"Gap\")\n",
    "\n",
    "    acc_plt = ax.bar(positions, 0, bottom=accuracies, width=widths,\n",
    "                     edgecolor=\"black\", color=\"black\", alpha=1.0, linewidth=3,\n",
    "                     label=\"Accuracy\")\n",
    "\n",
    "    ax.set_aspect(\"equal\")\n",
    "    ax.plot([0,1], [0,1], linestyle = \"--\", color=\"gray\")\n",
    "    \n",
    "    if draw_ece:\n",
    "        ece = (bin_data[\"expected_calibration_error\"] * 100)\n",
    "        ax.text(0.98, 0.02, \"ECE=%.2f\" % ece, color=\"black\", \n",
    "                ha=\"right\", va=\"bottom\", transform=ax.transAxes)\n",
    "\n",
    "    ax.set_xlim(0, 1)\n",
    "    ax.set_ylim(0, 1)\n",
    "    #ax.set_xticks(bins)\n",
    "\n",
    "    ax.set_title(title)\n",
    "    ax.set_xlabel(xlabel)\n",
    "    ax.set_ylabel(ylabel)\n",
    "\n",
    "    ax.legend(handles=[gap_plt, acc_plt])\n"
   ]
  },
  {
   "cell_type": "code",
   "execution_count": 30,
   "metadata": {},
   "outputs": [],
   "source": [
    "\n",
    "def _confidence_histogram_subplot(ax, bin_data, \n",
    "                                  draw_averages=True,\n",
    "                                  title=\"Examples per bin\", \n",
    "                                  xlabel=\"Confidence\",\n",
    "                                  ylabel=\"Count\"):\n",
    "    \"\"\"Draws a confidence histogram into a subplot.\"\"\"\n",
    "    counts = bin_data[\"counts\"]\n",
    "    bins = bin_data[\"bins\"]\n",
    "\n",
    "    bin_size = 1.0 / len(counts)\n",
    "    positions = bins[:-1] + bin_size/2.0\n",
    "\n",
    "    ax.bar(positions, counts, width=bin_size * 0.9)\n",
    "   \n",
    "    ax.set_xlim(0, 1)\n",
    "    ax.set_title(title)\n",
    "    ax.set_xlabel(xlabel)\n",
    "    ax.set_ylabel(ylabel)\n",
    "\n",
    "    if draw_averages:\n",
    "        acc_plt = ax.axvline(x=bin_data[\"avg_accuracy\"], ls=\"solid\", lw=3, \n",
    "                             c=\"black\", label=\"Accuracy\")\n",
    "        conf_plt = ax.axvline(x=bin_data[\"avg_confidence\"], ls=\"dotted\", lw=3, \n",
    "                              c=\"#444\", label=\"Avg. confidence\")\n",
    "        ax.legend(handles=[acc_plt, conf_plt])"
   ]
  },
  {
   "cell_type": "code",
   "execution_count": 31,
   "metadata": {},
   "outputs": [
    {
     "name": "stderr",
     "output_type": "stream",
     "text": [
      "/var/folders/d5/bt4mpp9n3gngv4q0rms4ylwm0000gn/T/ipykernel_83082/1827701276.py:25: UserWarning: set_ticklabels() should only be used with a fixed number of ticks, i.e. after set_ticks() or using a FixedLocator.\n",
      "  ax[1].set_yticklabels(new_ticks)\n"
     ]
    },
    {
     "data": {
      "image/png": "[encoded data removed]",
      "text/plain": [
       "<Figure size 600x840 with 2 Axes>"
      ]
     },
     "metadata": {},
     "output_type": "display_data"
    }
   ],
   "source": [
    "title = \"\\n\".join(plot_name.split())\n",
    "\n",
    "fig = reliability_diagram(y_true, y_pred, y_conf, num_bins=10, draw_ece=True,\n",
    "                          draw_bin_importance=\"alpha\", draw_averages=True,\n",
    "                          title=title, figsize=(6, 6), dpi=100, \n",
    "                          return_fig=True)"
   ]
  },
  {
   "cell_type": "code",
   "execution_count": 32,
   "metadata": {},
   "outputs": [
    {
     "data": {
      "text/plain": [
       "{'accuracies': array([0.        , 0.14285714, 0.        , 0.        , 0.        ,\n",
       "        0.        , 0.        , 0.        , 0.        , 0.        ]),\n",
       " 'confidences': array([0.        , 0.14285714, 0.        , 0.        , 0.        ,\n",
       "        0.        , 0.        , 0.        , 0.        , 0.        ]),\n",
       " 'counts': array([   0, 4438,    0,    0,    0,    0,    0,    0,    0,    0]),\n",
       " 'bins': array([0. , 0.1, 0.2, 0.3, 0.4, 0.5, 0.6, 0.7, 0.8, 0.9, 1. ]),\n",
       " 'avg_accuracy': np.float64(0.14285714285714285),\n",
       " 'avg_confidence': np.float64(0.14285714287967552),\n",
       " 'expected_calibration_error': np.float64(2.2532670174157943e-11),\n",
       " 'max_calibration_error': np.float64(2.2532670174157943e-11)}"
      ]
     },
     "execution_count": 32,
     "metadata": {},
     "output_type": "execute_result"
    }
   ],
   "source": [
    "bin_data = compute_calibration(y_true, y_pred, y_conf, 10)\n",
    "bin_data"
   ]
  },
  {
   "cell_type": "code",
   "execution_count": 33,
   "metadata": {},
   "outputs": [
    {
     "data": {
      "text/plain": [
       "array([0.        , 0.14285714, 0.        , 0.        , 0.        ,\n",
       "       0.        , 0.        , 0.        , 0.        , 0.        ])"
      ]
     },
     "execution_count": 33,
     "metadata": {},
     "output_type": "execute_result"
    }
   ],
   "source": [
    "bin_confs = bin_data['confidences']\n",
    "bin_confs"
   ]
  },
  {
   "cell_type": "code",
   "execution_count": 34,
   "metadata": {},
   "outputs": [
    {
     "data": {
      "text/plain": [
       "array([0.        , 0.14285714, 0.        , 0.        , 0.        ,\n",
       "       0.        , 0.        , 0.        , 0.        , 0.        ])"
      ]
     },
     "execution_count": 34,
     "metadata": {},
     "output_type": "execute_result"
    }
   ],
   "source": [
    "bin_accs = bin_data['accuracies']\n",
    "bin_accs"
   ]
  },
  {
   "cell_type": "code",
   "execution_count": 35,
   "metadata": {},
   "outputs": [
    {
     "data": {
      "image/png": "[encoded data removed]",
      "text/plain": [
       "<Figure size 1000x400 with 1 Axes>"
      ]
     },
     "metadata": {},
     "output_type": "display_data"
    }
   ],
   "source": [
    "bin_vals = np.linspace(0, 1, 11)\n",
    "plt.plot(bin_vals[0:10], bin_accs, marker = \"x\")\n",
    "plt.xlim((0,1))\n",
    "plt.ylim((0,1))\n",
    "plt.xticks(np.linspace(0, 1, 11))\n",
    "plt.yticks(np.linspace(0, 1, 11))\n",
    "plt.grid(True)\n",
    "plt.xlabel(\"Confidence of prediction\")\n",
    "plt.ylabel(\"Accuracy of prediction\")\n",
    "plt.title(\"Average accuracy of bin vs lower end point of bin\")\n",
    "plt.show()\n",
    "\n",
    "\n",
    "#not convinced that plotting at end points of the bins is correct"
   ]
  },
  {
   "cell_type": "code",
   "execution_count": 36,
   "metadata": {},
   "outputs": [
    {
     "data": {
      "image/png": "[encoded data removed]",
      "text/plain": [
       "<Figure size 1000x400 with 1 Axes>"
      ]
     },
     "metadata": {},
     "output_type": "display_data"
    }
   ],
   "source": [
    "plt.plot(bin_confs, bin_accs, marker = \"x\", label = \"acc vs conf\")\n",
    "plt.plot(np.linspace(0, 1, 11), np.linspace(0, 1, 11), label = \"y=x\")\n",
    "plt.xlim((0,1))\n",
    "plt.ylim((0,1))\n",
    "plt.xticks(np.linspace(0, 1, 11))\n",
    "plt.yticks(np.linspace(0, 1, 11))\n",
    "plt.grid(True)\n",
    "plt.xlabel(\"Average confidence in the bin\")\n",
    "plt.ylabel(\"Average accuracy in the bin\")\n",
    "plt.legend()\n",
    "plt.title(\"Average accuracy of bin vs average confidence of bin\")\n",
    "plt.show()\n",
    "\n",
    "#plotting average accuracy against average confidence lets us compare to y=x"
   ]
  },
  {
   "cell_type": "code",
   "execution_count": 37,
   "metadata": {},
   "outputs": [
    {
     "data": {
      "text/plain": [
       "array([0.00000000e+00, 2.25326702e-11, 0.00000000e+00, 0.00000000e+00,\n",
       "       0.00000000e+00, 0.00000000e+00, 0.00000000e+00, 0.00000000e+00,\n",
       "       0.00000000e+00, 0.00000000e+00])"
      ]
     },
     "execution_count": 37,
     "metadata": {},
     "output_type": "execute_result"
    }
   ],
   "source": [
    "bin_errors = bin_confs - bin_accs\n",
    "bin_errors"
   ]
  },
  {
   "cell_type": "code",
   "execution_count": 38,
   "metadata": {},
   "outputs": [
    {
     "data": {
      "image/png": "[encoded data removed]",
      "text/plain": [
       "<Figure size 1000x400 with 1 Axes>"
      ]
     },
     "metadata": {},
     "output_type": "display_data"
    }
   ],
   "source": [
    "plt.plot(bin_confs, bin_errors, marker = \"x\")\n",
    "plt.plot(np.array((0,1)), np.array((0,0)), \"--\")\n",
    "plt.xlabel(\"Average confidence in the bin\")\n",
    "plt.ylabel(\"Average error in the bin\")\n",
    "plt.title(\"Error vs confidence in the bin\")\n",
    "plt.show()"
   ]
  },
  {
   "cell_type": "code",
   "execution_count": 14,
   "metadata": {},
   "outputs": [
    {
     "name": "stdout",
     "output_type": "stream",
     "text": [
      "Accuracy: 91.32492113564669%\n",
      "Percentage Error: 8.67507886435331%\n"
     ]
    }
   ],
   "source": [
    "max_preds = torch.argmax(mean_preds, dim=1)\n",
    "\n",
    "# Calculate the percentage of correct predictions\n",
    "correct_predictions = torch.sum(max_preds == y_te)\n",
    "percentage_correct = (correct_predictions.item() / len(y_te)) * 100\n",
    "\n",
    "print(f\"Accuracy: {percentage_correct}%\")\n",
    "print(f\"Percentage Error: {100 - percentage_correct}%\")"
   ]
  },
  {
   "cell_type": "code",
   "execution_count": null,
   "metadata": {},
   "outputs": [
    {
     "data": {
      "text/plain": [
       "tensor(0.4868, grad_fn=<NllLossBackward0>)"
      ]
     },
     "execution_count": 20,
     "metadata": {},
     "output_type": "execute_result"
    }
   ],
   "source": [
    "loss = nn.NLLLoss()\n",
    "loss(torch.log(mean_preds),y_te)"
   ]
  },
  {
   "cell_type": "code",
   "execution_count": null,
   "metadata": {},
   "outputs": [
    {
     "data": {
      "image/png": "[encoded data removed]",
      "text/plain": [
       "<Figure size 1000x400 with 1 Axes>"
      ]
     },
     "metadata": {},
     "output_type": "display_data"
    }
   ],
   "source": [
    "from sklearn.calibration import calibration_curve\n",
    "import matplotlib.pyplot as plt\n",
    "\n",
    "def plot_calibration_curve(y_conf, y_te):\n",
    "    # Compute calibration curve\n",
    "    prob_true, prob_pred = calibration_curve(y_te, y_conf , n_bins=10)\n",
    "\n",
    "    # Plot calibration curve\n",
    "    plt.plot(prob_pred, prob_true, marker='o', label='Calibration Curve')\n",
    "    plt.plot([0, 1], [0, 1], linestyle='--', label='Perfectly Calibrated')\n",
    "    plt.xlabel('Mean Predicted Probability')\n",
    "    plt.ylabel('Fraction of Positives')\n",
    "    plt.legend()\n",
    "    plt.show()\n",
    "\n",
    "# Example usage:\n",
    "# mean_preds is the output of your model (probabilities for each class)\n",
    "# y_te is the true labels\n",
    "plot_calibration_curve(y_conf,y_true==y_pred)"
   ]
  },
  {
   "cell_type": "code",
   "execution_count": null,
   "metadata": {},
   "outputs": [],
   "source": [
    "import pickle\n",
    "\n",
    "# Save the data to a file\n",
    "with open('calibration_data_mfvi.pkl', 'wb') as f:\n",
    "    pickle.dump((y_conf, y_true == y_pred), f)\n"
   ]
  },
  {
   "cell_type": "code",
   "execution_count": null,
   "metadata": {},
   "outputs": [
    {
     "name": "stdout",
     "output_type": "stream",
     "text": [
      "Adaptive Calibration Error: 0.5047484043985605\n"
     ]
    }
   ],
   "source": [
    "import torch\n",
    "import numpy as np\n",
    "\n",
    "def adaptive_calibration_error(mean_preds, y_te, num_bins=10):\n",
    "    \"\"\"\n",
    "    Compute the Adaptive Calibration Error (ACE) for a classification task.\n",
    "    \n",
    "    Parameters:\n",
    "    - mean_preds (torch.Tensor): Tensor of predicted probabilities with shape (N, C),\n",
    "                                  where N is the number of samples and C is the number of classes.\n",
    "    - y_te (torch.Tensor): Tensor of true labels with shape (N,) where N is the number of samples.\n",
    "    - num_bins (int): The number of bins to use for calibration. Default is 10.\n",
    "    \n",
    "    Returns:\n",
    "    - ace (float): The Adaptive Calibration Error (ACE).\n",
    "    \"\"\"\n",
    "    # Get predicted probabilities for the correct class\n",
    "    predicted_probs = mean_preds.gather(1, y_te.view(-1, 1))  # (N, 1) tensor of probabilities for the correct class\n",
    "    \n",
    "    # Flatten the tensor\n",
    "    predicted_probs = predicted_probs.view(-1)\n",
    "    \n",
    "    # Create bins for predicted probabilities\n",
    "    bins = torch.linspace(0, 1, num_bins + 1)\n",
    "    bin_indices = torch.bucketize(predicted_probs, bins) - 1  # Map probabilities to bin indices\n",
    "    \n",
    "    ace = 0\n",
    "    for bin_idx in range(num_bins):\n",
    "        # Get the indices of samples falling in this bin\n",
    "        bin_mask = bin_indices == bin_idx\n",
    "        bin_preds = predicted_probs[bin_mask]\n",
    "        bin_labels = y_te[bin_mask]\n",
    "        \n",
    "        if bin_preds.numel() == 0:\n",
    "            continue\n",
    "        \n",
    "        # Compute the observed accuracy within this bin\n",
    "        observed_accuracy = (bin_preds == bin_labels.float()).float().mean().item()\n",
    "        \n",
    "        # Compute the expected accuracy (mean of bin_preds)\n",
    "        expected_accuracy = bin_preds.mean().item()\n",
    "        \n",
    "        # Compute the absolute difference between observed and expected accuracy\n",
    "        ace += abs(observed_accuracy - expected_accuracy)\n",
    "    \n",
    "    ace /= num_bins  # Average over all bins\n",
    "    return ace\n",
    "\n",
    "\n",
    "\n",
    "# Compute ACE\n",
    "ace = adaptive_calibration_error(mean_preds, y_te)\n",
    "print(f\"Adaptive Calibration Error: {ace}\")\n"
   ]
  },
  {
   "cell_type": "code",
   "execution_count": null,
   "metadata": {},
   "outputs": [
    {
     "name": "stdout",
     "output_type": "stream",
     "text": [
      "Static Calibration Error: 0.39632403329014776\n"
     ]
    }
   ],
   "source": [
    "import torch\n",
    "import numpy as np\n",
    "\n",
    "def static_calibration_error(mean_preds, y_te, num_bins=10):\n",
    "    \"\"\"\n",
    "    Compute the Static Calibration Error (SCE) for a classification task.\n",
    "    \n",
    "    Parameters:\n",
    "    - mean_preds (torch.Tensor): Tensor of predicted probabilities with shape (N, C),\n",
    "                                  where N is the number of samples and C is the number of classes.\n",
    "    - y_te (torch.Tensor): Tensor of true labels with shape (N,) where N is the number of samples.\n",
    "    - num_bins (int): The number of bins to use for calibration. Default is 10.\n",
    "    \n",
    "    Returns:\n",
    "    - sce (float): The Static Calibration Error (SCE).\n",
    "    \"\"\"\n",
    "    # Get predicted probabilities for the correct class\n",
    "    predicted_probs = mean_preds.gather(1, y_te.view(-1, 1))  # (N, 1) tensor of probabilities for the correct class\n",
    "    \n",
    "    # Flatten the tensor\n",
    "    predicted_probs = predicted_probs.view(-1)\n",
    "    \n",
    "    # Create bins for predicted probabilities\n",
    "    bins = torch.linspace(0, 1, num_bins + 1)\n",
    "    bin_indices = torch.bucketize(predicted_probs, bins) - 1  # Map probabilities to bin indices\n",
    "    \n",
    "    sce = 0\n",
    "    for bin_idx in range(num_bins):\n",
    "        # Get the indices of samples falling in this bin\n",
    "        bin_mask = bin_indices == bin_idx\n",
    "        bin_preds = predicted_probs[bin_mask]\n",
    "        bin_labels = y_te[bin_mask]\n",
    "        \n",
    "        if bin_preds.numel() == 0:\n",
    "            continue\n",
    "        \n",
    "        # Compute the observed accuracy within this bin\n",
    "        observed_accuracy = (bin_preds == bin_labels.float()).float().mean().item()\n",
    "        \n",
    "        # Compute the expected accuracy (mean of bin_preds)\n",
    "        expected_accuracy = bin_preds.mean().item()\n",
    "        \n",
    "        # Compute the absolute difference between observed and expected accuracy\n",
    "        sce += abs(observed_accuracy - expected_accuracy)\n",
    "    \n",
    "    sce /= num_bins  # Average over all bins\n",
    "    return sce\n",
    "\n",
    "# Example usage\n",
    "# mean_preds is a tensor of shape (N, C), y_te is a tensor of shape (N,)\n",
    "# Example: 640 samples, 7 classes\n",
    "mean_preds = torch.randn(640, 7).softmax(dim=1)  # Example probabilities from a softmax output\n",
    "y_te = torch.randint(0, 7, (640,))  # Example true labels (integers from 0 to 6)\n",
    "\n",
    "# Compute SCE\n",
    "sce = static_calibration_error(mean_preds, y_te)\n",
    "print(f\"Static Calibration Error: {sce}\")\n"
   ]
  },
  {
   "cell_type": "code",
   "execution_count": null,
   "metadata": {},
   "outputs": [],
   "source": []
  }
 ],
 "metadata": {
  "kernelspec": {
   "display_name": "Python 3",
   "language": "python",
   "name": "python3"
  },
  "language_info": {
   "codemirror_mode": {
    "name": "ipython",
    "version": 3
   },
   "file_extension": ".py",
   "mimetype": "text/x-python",
   "name": "python",
   "nbconvert_exporter": "python",
   "pygments_lexer": "ipython3",
   "version": "3.9.0"
  }
 },
 "nbformat": 4,
 "nbformat_minor": 2
}
