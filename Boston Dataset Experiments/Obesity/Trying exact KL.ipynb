{
 "cells": [
  {
   "cell_type": "code",
   "execution_count": 1,
   "metadata": {},
   "outputs": [],
   "source": [
    "import numpy as np\n",
    "import torch\n",
    "import torch.nn as nn\n",
    "import matplotlib.pyplot as plt\n",
    "from sklearn.model_selection import train_test_split\n",
    "from tqdm import tqdm\n",
    "import torch.nn.functional as F"
   ]
  },
  {
   "cell_type": "code",
   "execution_count": 2,
   "metadata": {},
   "outputs": [],
   "source": [
    "plt.style.use('ggplot')\n",
    "plt.rcParams[\"figure.figsize\"] = (10, 4)"
   ]
  },
  {
   "cell_type": "code",
   "execution_count": 3,
   "metadata": {},
   "outputs": [
    {
     "name": "stdout",
     "output_type": "stream",
     "text": [
      "{'uci_id': 544, 'name': 'Estimation of Obesity Levels Based On Eating Habits and Physical Condition ', 'repository_url': 'https://archive.ics.uci.edu/dataset/544/estimation+of+obesity+levels+based+on+eating+habits+and+physical+condition', 'data_url': 'https://archive.ics.uci.edu/static/public/544/data.csv', 'abstract': 'This dataset include data for the estimation of obesity levels in individuals from the countries of Mexico, Peru and Colombia, based on their eating habits and physical condition. ', 'area': 'Health and Medicine', 'tasks': ['Classification', 'Regression', 'Clustering'], 'characteristics': ['Multivariate'], 'num_instances': 2111, 'num_features': 16, 'feature_types': ['Integer'], 'demographics': ['Gender', 'Age'], 'target_col': ['NObeyesdad'], 'index_col': None, 'has_missing_values': 'no', 'missing_values_symbol': None, 'year_of_dataset_creation': 2019, 'last_updated': 'Tue Sep 10 2024', 'dataset_doi': '10.24432/C5H31Z', 'creators': [], 'intro_paper': {'ID': 358, 'type': 'NATIVE', 'title': 'Dataset for estimation of obesity levels based on eating habits and physical condition in individuals from Colombia, Peru and Mexico', 'authors': 'Fabio Mendoza Palechor, Alexis De la Hoz Manotas', 'venue': 'Data in Brief', 'year': 2019, 'journal': None, 'DOI': '10.1016/j.dib.2019.104344', 'URL': 'https://www.semanticscholar.org/paper/35b40bacd2ffa9370885b7a3004d88995fd1d011', 'sha': None, 'corpus': None, 'arxiv': None, 'mag': None, 'acl': None, 'pmid': None, 'pmcid': None}, 'additional_info': {'summary': 'This dataset include data for the estimation of obesity levels in individuals from the countries of Mexico, Peru and Colombia, based on their eating habits and physical condition. The data contains 17 attributes and 2111 records, the records are labeled with the class variable NObesity (Obesity Level), that allows classification of the data using the values of Insufficient Weight, Normal Weight, Overweight Level I, Overweight Level II, Obesity Type I, Obesity Type II and Obesity Type III. 77% of the data was generated synthetically using the Weka tool and the SMOTE filter, 23% of the data was collected directly from users through a web platform.', 'purpose': None, 'funded_by': None, 'instances_represent': None, 'recommended_data_splits': None, 'sensitive_data': None, 'preprocessing_description': None, 'variable_info': 'Read the article (https://doi.org/10.1016/j.dib.2019.104344) to see the description of the attributes.', 'citation': None}}\n",
      "                              name     role         type demographic  \\\n",
      "0                           Gender  Feature  Categorical      Gender   \n",
      "1                              Age  Feature   Continuous         Age   \n",
      "2                           Height  Feature   Continuous        None   \n",
      "3                           Weight  Feature   Continuous        None   \n",
      "4   family_history_with_overweight  Feature       Binary        None   \n",
      "5                             FAVC  Feature       Binary        None   \n",
      "6                             FCVC  Feature      Integer        None   \n",
      "7                              NCP  Feature   Continuous        None   \n",
      "8                             CAEC  Feature  Categorical        None   \n",
      "9                            SMOKE  Feature       Binary        None   \n",
      "10                            CH2O  Feature   Continuous        None   \n",
      "11                             SCC  Feature       Binary        None   \n",
      "12                             FAF  Feature   Continuous        None   \n",
      "13                             TUE  Feature      Integer        None   \n",
      "14                            CALC  Feature  Categorical        None   \n",
      "15                          MTRANS  Feature  Categorical        None   \n",
      "16                      NObeyesdad   Target  Categorical        None   \n",
      "\n",
      "                                          description units missing_values  \n",
      "0                                                None  None             no  \n",
      "1                                                None  None             no  \n",
      "2                                                None  None             no  \n",
      "3                                                None  None             no  \n",
      "4   Has a family member suffered or suffers from o...  None             no  \n",
      "5            Do you eat high caloric food frequently?  None             no  \n",
      "6        Do you usually eat vegetables in your meals?  None             no  \n",
      "7              How many main meals do you have daily?  None             no  \n",
      "8                  Do you eat any food between meals?  None             no  \n",
      "9                                       Do you smoke?  None             no  \n",
      "10                 How much water do you drink daily?  None             no  \n",
      "11         Do you monitor the calories you eat daily?  None             no  \n",
      "12           How often do you have physical activity?  None             no  \n",
      "13  How much time do you use technological devices...  None             no  \n",
      "14                    How often do you drink alcohol?  None             no  \n",
      "15           Which transportation do you usually use?  None             no  \n",
      "16                                      Obesity level  None             no  \n"
     ]
    }
   ],
   "source": [
    "from ucimlrepo import fetch_ucirepo \n",
    "\n",
    "# fetch dataset \n",
    "estimation_of_obesity_levels_based_on_eating_habits_and_physical_condition = fetch_ucirepo(id=544) \n",
    "  \n",
    "# data (as pandas dataframes) \n",
    "X = estimation_of_obesity_levels_based_on_eating_habits_and_physical_condition.data.features \n",
    "y = estimation_of_obesity_levels_based_on_eating_habits_and_physical_condition.data.targets.copy() \n",
    "  \n",
    "# metadata \n",
    "print(estimation_of_obesity_levels_based_on_eating_habits_and_physical_condition.metadata) \n",
    "  \n",
    "# variable information \n",
    "print(estimation_of_obesity_levels_based_on_eating_habits_and_physical_condition.variables) \n",
    "\n"
   ]
  },
  {
   "cell_type": "code",
   "execution_count": 4,
   "metadata": {},
   "outputs": [],
   "source": [
    "import pandas as pd\n",
    "import numpy as np\n",
    "import torch\n",
    "from torch import nn\n",
    "import matplotlib.pyplot as plt\n",
    "from sklearn.model_selection import train_test_split\n",
    "from tqdm import tqdm"
   ]
  },
  {
   "cell_type": "code",
   "execution_count": 5,
   "metadata": {},
   "outputs": [
    {
     "data": {
      "text/plain": [
       "torch.Size([2111, 23])"
      ]
     },
     "execution_count": 5,
     "metadata": {},
     "output_type": "execute_result"
    }
   ],
   "source": [
    "categorical_features = ['Gender', 'family_history_with_overweight', 'FAVC', 'CAEC', 'SMOKE', 'SCC','CALC','MTRANS']\n",
    "# One-hot encode categorical features, dropping the first category\n",
    "X_encoded = pd.get_dummies(X, columns=categorical_features, drop_first=True)\n",
    "X_encoded = X_encoded.astype({col: int for col in X_encoded.select_dtypes('bool').columns})\n",
    "\n",
    "# Convert X_encoded to a PyTorch tensor\n",
    "X_tensor = torch.tensor(X_encoded.values, dtype=torch.float32)\n",
    "X_tensor.shape"
   ]
  },
  {
   "cell_type": "code",
   "execution_count": 6,
   "metadata": {},
   "outputs": [],
   "source": [
    "y['NObeyesdad'] = y['NObeyesdad'].astype('category').cat.codes\n",
    "\n",
    "# Convert to tensor\n",
    "y_tensor = torch.tensor(y['NObeyesdad'].to_numpy(), dtype=torch.long)\n",
    "x_tr, x_te, y_tr, y_te = train_test_split(X_tensor, y_tensor, test_size=0.3, random_state=42)"
   ]
  },
  {
   "cell_type": "code",
   "execution_count": null,
   "metadata": {},
   "outputs": [],
   "source": [
    "class FullCovGaussianLayer(nn.Module):\n",
    "    def __init__(\n",
    "        self, \n",
    "        input_dim, \n",
    "        output_dim, \n",
    "        prior_var = 1, \n",
    "        pre_trained_values = None   \n",
    "        ):\n",
    "        super(FullCovGaussianLayer, self).__init__()\n",
    "        self.input_dim = input_dim\n",
    "        self.output_dim = output_dim\n",
    "        # Prior parameters p(theta)\n",
    "\n",
    "        # If no prior parameters are given, set them to zero mean and given variance\n",
    "        if pre_trained_values is None:\n",
    "            self.mu_p = torch.zeros(input_dim * output_dim + output_dim)\n",
    "            self.chol_p = torch.eye(input_dim * output_dim + output_dim) * torch.sqrt(torch.tensor(prior_var)) #* np.sqrt(2 / self.output_dim)\n",
    "            \n",
    "        else:\n",
    "            # Extract pre-trained values\n",
    "            w_pre_mean = pre_trained_values[0]\n",
    "            w_pre_log_var = pre_trained_values[1]\n",
    "            b_pre_mean = pre_trained_values[2]\n",
    "            b_pre_log_var = pre_trained_values[3]\n",
    "\n",
    "            # Set priors to pre-trained values\n",
    "            self.mu_p = torch.cat([w_pre_mean, b_pre_mean], dim=0)\n",
    "            combined_log_vars = torch.cat([w_pre_log_var, b_pre_log_var], dim=0)\n",
    "            self.chol_p = torch.diag(torch.exp(combined_log_vars / 2))\n",
    "           \n",
    "\n",
    "         # Variational parameters q(theta)\n",
    "        self.mu_q = nn.Parameter(torch.zeros(self.input_dim*self.output_dim + self.output_dim),requires_grad=True)\n",
    "        self.chol_q = nn.Parameter(torch.eye(self.input_dim*self.output_dim+self.output_dim)*torch.log((torch.tensor(prior_var/8))))\n",
    "        # self.chol_q = nn.Parameter(self.chol_p.clone(),requires_grad=True)\n",
    "\n",
    "\n",
    "    # def get_chol_q(self):\n",
    "    #     # Extract the lower triangular part of the parameter\n",
    "    #     L = torch.tril(self.chol_q, -1)        # Replace the diagonal with its softplus to ensure positivity\n",
    "    #     # L = torch.tanh(L_raw)  # Keeps values small, allows both signs\n",
    "\n",
    "    #     diag = torch.log1p(torch.exp(torch.diag(self.chol_q)))  # Softplus on original diagonal\n",
    "    #     return L + torch.diag(diag)\n",
    "\n",
    "    # the priors do not change so could be stored as attributes, but\n",
    "    # it feels cleaner to access them in the same way as the posteriors\n",
    "    def p(self):\n",
    "        \"\"\"Weight prior distribution\"\"\"\n",
    "        return torch.distributions.MultivariateNormal(self.mu_p, scale_tril=(self.chol_p))\n",
    "\n",
    "    def q(self):\n",
    "        \"\"\"Variational weight posterior\"\"\"\n",
    "        return torch.distributions.MultivariateNormal(self.mu_q, scale_tril=torch.tril(self.chol_q, -1) + torch.diag_embed(torch.exp(torch.diag(self.chol_q))))\n",
    "\n",
    "    # def q(self):\n",
    "    #     \"\"\"Variational weight posterior with a valid Cholesky factor\"\"\"\n",
    "    #     valid_chol = self.get_chol_q()\n",
    "    #     return torch.distributions.MultivariateNormal(self.mu_q, scale_tril=valid_chol)  \n",
    "    \n",
    "      \n",
    "    # KL divergence KL[q||p] between two Gaussians\n",
    "    def kl_divergence(self):\n",
    "        return torch.distributions.kl_divergence(self.q(), self.p()).sum()\n",
    "    # def kl(self, param_sample):\n",
    "    #     return (self.q().log_prob(param_sample) - self.p().log_prob(param_sample)).mean(0)\n",
    "    \n",
    "    def forward(self, x):\n",
    "        \"\"\"Propagates x through this layer by sampling weights from the posterior\"\"\"\n",
    "        assert (len(x.shape) == 3), \"x should be shape (num_samples, batch_size, input_dim).\"\n",
    "        assert x.shape[-1] == self.input_dim\n",
    "        num_samples = x.shape[0]\n",
    "\n",
    "        # Sample the parameters and detach them from the hyperparameters graph\n",
    "        param_sample = self.q().rsample((num_samples,))\n",
    "        weights = param_sample[:,:self.input_dim * self.output_dim]  # Shape: (num_samples, input_dim * output_dim)\n",
    "        weights = weights.view(num_samples, self.input_dim, self.output_dim)  # Reshape to (num_samples, input_dim, output_dim)\n",
    "\n",
    "        biases = param_sample[:,self.input_dim * self.output_dim:].unsqueeze(1)  # Shape: (output_dim, num_samples)\n",
    "\n",
    "        return x @ weights + biases, param_sample\n",
    "\n",
    "\n"
   ]
  },
  {
   "cell_type": "code",
   "execution_count": null,
   "metadata": {},
   "outputs": [],
   "source": [
    "class LayerCovBNN(nn.Module):\n",
    "    \"\"\"BNN with layer-wise block diagonal covariance Gaussian distributions.\"\"\"\n",
    "    def __init__(\n",
    "        self,\n",
    "        input_dim,\n",
    "        hidden_dims,\n",
    "        output_dim,\n",
    "        activation = nn.ReLU(),\n",
    "        noise_std=1.0,\n",
    "        prior_var = 1,\n",
    "        pre_trained_values = None\n",
    "    ):\n",
    "        super(LayerCovBNN, self).__init__()\n",
    "        self.input_dim = input_dim\n",
    "        self.hidden_dims = hidden_dims\n",
    "        self.output_dim = output_dim\n",
    "        self.activation = activation\n",
    "        self.noise_std = noise_std\n",
    "\n",
    "        self.network = nn.ModuleList()\n",
    "        for i in range(len(hidden_dims) + 1):\n",
    "            # If no pre trained parameters are given, set them to zero mean and given variance\n",
    "            if pre_trained_values is None:\n",
    "                if i == 0:\n",
    "                    self.network.append(FullCovGaussianLayer(self.input_dim, self.hidden_dims[i], prior_var = prior_var))\n",
    "                    self.network.append(self.activation)\n",
    "                elif i == len(hidden_dims):\n",
    "                    self.network.append(\n",
    "                        FullCovGaussianLayer(self.hidden_dims[i - 1], self.output_dim, prior_var = prior_var)\n",
    "                    )\n",
    "                    self.network.append(torch.nn.Softmax(dim=2))\n",
    "\n",
    "                else:\n",
    "                    self.network.append(\n",
    "                        FullCovGaussianLayer(self.hidden_dims[i - 1], self.hidden_dims[i], prior_var = prior_var)\n",
    "                    )\n",
    "                    self.network.append(self.activation) \n",
    "\n",
    "            # Set to pre trained values\n",
    "            else:\n",
    "                if i == 0:\n",
    "                    self.network.append(FullCovGaussianLayer(self.input_dim, self.hidden_dims[i], pre_trained_values = pre_trained_values[i]))\n",
    "                    self.network.append(self.activation)\n",
    "                elif i == len(hidden_dims):\n",
    "                    self.network.append(\n",
    "                        FullCovGaussianLayer(self.hidden_dims[i - 1], self.output_dim, pre_trained_values = pre_trained_values[i])\n",
    "                    )\n",
    "                else:\n",
    "                    self.network.append(\n",
    "                        FullCovGaussianLayer(self.hidden_dims[i - 1], self.hidden_dims[i], pre_trained_values = pre_trained_values[i])\n",
    "                    )\n",
    "                    self.network.append(self.activation)\n",
    "\n",
    "    def forward(self, x, num_samples=1):\n",
    "        \"\"\"Propagate the inputs through the network using num_samples weights.\n",
    "\n",
    "        Args:\n",
    "            x (torch.tensor): Inputs to the network.\n",
    "            num_samples (int, optional): Number of samples to use. Defaults to 1.\n",
    "        \"\"\"\n",
    "        assert len(x.shape) == 2, \"x.shape must be (batch_size, input_dim).\"\n",
    "        # Expand dimensions of x to (num_samples, batch_size, input_dim).\n",
    "        x = torch.unsqueeze(x, 0).repeat(num_samples, 1, 1)\n",
    "        param_samples =[]\n",
    "        # Propagate x through network\n",
    "        for layer in self.network:\n",
    "            if isinstance(layer, FullCovGaussianLayer):\n",
    "                x, param_sample = layer(x)\n",
    "                param_samples.append(param_sample)\n",
    "            else:\n",
    "                x = layer(x)\n",
    "\n",
    "        assert len(x.shape) == 3, \"x.shape must be (num_samples, batch_size, output_dim)\"\n",
    "        assert x.shape[-1] == self.output_dim\n",
    "\n",
    "        return x, param_samples\n",
    "    \n",
    "    def ll(self, y_obs, y_pred, num_samples=1):\n",
    "        \"\"\"Computes the log likelihood for a categorical model.\n",
    "        \n",
    "        y_pred: Tensor of shape (num_samples, n_points, output_size)\n",
    "        y_obs: Tensor of shape (n_points,)\n",
    "        \"\"\"\n",
    "\n",
    "        y_obs_expanded = y_obs.unsqueeze(0).expand(num_samples, -1)  # Shape: (num_samples, n_datapoints)\n",
    "\n",
    "        # Create the categorical distribution from predicted probabilities\n",
    "        l = torch.distributions.Categorical(probs=y_pred)\n",
    "        \n",
    "        log_likelihoods = l.log_prob(y_obs_expanded).sum(dim=1)  # Shape: (num_samples,)\n",
    "\n",
    "        # Mean over num_samples, sum over n_points, then squeeze extra dimensions\n",
    "        return log_likelihoods.mean()\n",
    "\n",
    "    def kl(self):\n",
    "        \"\"\"Computes the KL divergence between the approximate posterior and the prior for the network.\"\"\"\n",
    "        return sum([layer.kl_divergence() for layer in self.network if isinstance(layer, FullCovGaussianLayer)])\n",
    "\n",
    "    # def kl(self,param_samples):\n",
    "        # \"\"\"Computes the KL divergence between the approximate posterior and the prior for the network.\"\"\"\n",
    "        # return sum([layer.kl(param_samples[i//2]) for i, layer in enumerate(self.network) if isinstance(layer, FullCovGaussianLayer)])\n",
    "    \n",
    "    def q_log_prob(self, param_samples):\n",
    "        'computes the log probability under the variational posterior'\n",
    "        return sum([layer.q().log_prob(param_samples[i//2]).mean() for i, layer in enumerate(self.network) if isinstance(layer, FullCovGaussianLayer)])\n",
    "    \n",
    "    \n",
    "    def p_log_prob(self, param_samples):\n",
    "        'computes the log probability under the prior'\n",
    "        return sum([layer.p().log_prob(param_samples[i//2]).mean() for i, layer in enumerate(self.network) if isinstance(layer, FullCovGaussianLayer)])\n",
    "\n",
    "    def loss(self, x, y, num_samples=1):\n",
    "        \"\"\"Computes the ELBO and returns its negative\"\"\"\n",
    "\n",
    "        y_pred, param_samples = self.forward(x, num_samples=num_samples)\n",
    "        # q_log_prob = self.q_log_prob(param_samples)\n",
    "        # p_log_prob = self.p_log_prob(param_samples)\n",
    "        exp_ll = self.ll(y, y_pred, num_samples = num_samples)\n",
    "\n",
    "        # exp_ll = self.ll(y, y_pred, num_samples=num_samples)\n",
    "        # kl = self.kl(param_samples)\n",
    "        kl = self.kl()\n",
    "\n",
    "        return kl - exp_ll, exp_ll, kl\n",
    "   "
   ]
  },
  {
   "cell_type": "code",
   "execution_count": 20,
   "metadata": {},
   "outputs": [
    {
     "name": "stdout",
     "output_type": "stream",
     "text": [
      "LayerCovBNN(\n",
      "  (activation): ReLU()\n",
      "  (network): ModuleList(\n",
      "    (0): FullCovGaussianLayer()\n",
      "    (1): ReLU()\n",
      "    (2): FullCovGaussianLayer()\n",
      "    (3): ReLU()\n",
      "    (4): FullCovGaussianLayer()\n",
      "    (5): Softmax(dim=2)\n",
      "  )\n",
      ")\n"
     ]
    }
   ],
   "source": [
    "bnn_model = LayerCovBNN(23,[10,10], 7, noise_std=0.15)\n",
    "# find value of noise_std that works best by trial and error, but this is of course\n",
    "# inherently a bit contrived since we know we set input noise std to 0.15 in dataset generation\n",
    "print(bnn_model)\n",
    "\n",
    "opt = torch.optim.Adam(\n",
    "    bnn_model.parameters(),\n",
    "    lr = 1e-2\n",
    ")"
   ]
  },
  {
   "cell_type": "code",
   "execution_count": null,
   "metadata": {},
   "outputs": [],
   "source": []
  },
  {
   "cell_type": "code",
   "execution_count": null,
   "metadata": {},
   "outputs": [
    {
     "name": "stderr",
     "output_type": "stream",
     "text": [
      " 26%|██▌       | 258/1000 [00:25<01:08, 10.85it/s]"
     ]
    }
   ],
   "source": [
    "tr_loss_evo = []\n",
    "tr_ll_evo = []\n",
    "tr_kl_evo = []\n",
    "te_loss_evo = []\n",
    "\n",
    "tr_nll_loss_evo = []\n",
    "te_nll_loss_evo = []\n",
    "aux_loss = nn.NLLLoss()\n",
    "\n",
    "for epoch in tqdm(range(1000)):  # epochs\n",
    "    opt.zero_grad()\n",
    "\n",
    "    l, ll, kl = bnn_model.loss(x_tr, y_tr, num_samples = 100)\n",
    "    tr_loss_evo.append(l.item())\n",
    "    tr_ll_evo.append(ll.item())\n",
    "    tr_kl_evo.append(kl.item())\n",
    "    tr_nll_loss_evo.append(aux_loss(bnn_model(x_tr,num_samples=10)[0].mean(0), y_tr).item())\n",
    "\n",
    "    te_loss_evo.append(bnn_model.loss(x_te, y_te, num_samples = 10)[0].item())\n",
    "    te_nll_loss_evo.append(aux_loss(bnn_model(x_te,num_samples=10)[0].mean(0), y_te).item())\n",
    "\n",
    "    l.backward()\n",
    "    opt.step()\n",
    "    \n",
    "\n",
    "plt.rcParams[\"figure.figsize\"] = (10, 4)\n",
    "\n",
    "plt.plot(tr_loss_evo, label='Train dataset loss')\n",
    "plt.plot(te_loss_evo, label='Test dataset loss')\n",
    "plt.ylabel('ELBO loss')\n",
    "plt.xlabel('epoch')\n",
    "plt.legend()\n",
    "plt.title('Loss Evolution')\n",
    "plt.show()\n",
    "\n",
    "plt.plot(tr_ll_evo, label='Train dataset log-like evo')\n",
    "plt.ylabel('expected log likelihood')\n",
    "plt.xlabel('epoch')\n",
    "plt.legend()\n",
    "plt.title('Expected Log Likelihood Evolution')\n",
    "plt.show()\n",
    "\n",
    "plt.plot(tr_kl_evo, label='Train dataset kl evo')\n",
    "plt.ylabel('kl')\n",
    "plt.xlabel('epoch')\n",
    "plt.legend()\n",
    "plt.title('KL Evolution')\n",
    "plt.show()\n",
    "\n",
    "plt.plot(tr_nll_loss_evo, label='Train dataset')\n",
    "plt.plot(te_nll_loss_evo, label='Test dataset')\n",
    "plt.ylabel('NLL')\n",
    "plt.xlabel('epoch')\n",
    "plt.legend()\n",
    "plt.title('NLL Evolution')\n",
    "plt.show()"
   ]
  },
  {
   "cell_type": "code",
   "execution_count": null,
   "metadata": {},
   "outputs": [],
   "source": []
  },
  {
   "cell_type": "code",
   "execution_count": null,
   "metadata": {},
   "outputs": [],
   "source": []
  },
  {
   "cell_type": "code",
   "execution_count": null,
   "metadata": {},
   "outputs": [],
   "source": []
  },
  {
   "cell_type": "code",
   "execution_count": 13,
   "metadata": {},
   "outputs": [],
   "source": [
    "preds = bnn_model(x_te,1000)[0]\n",
    "mean_preds = preds.mean(0)"
   ]
  },
  {
   "cell_type": "code",
   "execution_count": null,
   "metadata": {},
   "outputs": [],
   "source": [
    "\n"
   ]
  },
  {
   "cell_type": "code",
   "execution_count": 14,
   "metadata": {},
   "outputs": [
    {
     "data": {
      "text/plain": [
       "tensor(0.7405, grad_fn=<NllLossBackward0>)"
      ]
     },
     "execution_count": 14,
     "metadata": {},
     "output_type": "execute_result"
    }
   ],
   "source": [
    "loss = nn.NLLLoss()\n",
    "loss(torch.log(mean_preds),y_te)"
   ]
  },
  {
   "cell_type": "code",
   "execution_count": 15,
   "metadata": {},
   "outputs": [
    {
     "data": {
      "text/plain": [
       "tensor([0, 4, 0, 0, 1, 0, 3, 5, 2, 0])"
      ]
     },
     "execution_count": 15,
     "metadata": {},
     "output_type": "execute_result"
    }
   ],
   "source": [
    "indices = mean_preds.argmax(dim=1)\n",
    "indices[:10]"
   ]
  },
  {
   "cell_type": "code",
   "execution_count": null,
   "metadata": {},
   "outputs": [
    {
     "data": {
      "text/plain": [
       "tensor([0, 4, 0, 0, 1, 0, 3, 5, 2, 0])"
      ]
     },
     "execution_count": 16,
     "metadata": {},
     "output_type": "execute_result"
    }
   ],
   "source": [
    "y_te[:10]"
   ]
  },
  {
   "cell_type": "code",
   "execution_count": 17,
   "metadata": {},
   "outputs": [
    {
     "data": {
      "text/plain": [
       "np.float64(0.7271293375394322)"
      ]
     },
     "execution_count": 17,
     "metadata": {},
     "output_type": "execute_result"
    }
   ],
   "source": [
    "accuracy = np.mean(np.array(indices) == np.array(y_te))\n",
    "accuracy"
   ]
  },
  {
   "cell_type": "code",
   "execution_count": 72,
   "metadata": {},
   "outputs": [
    {
     "data": {
      "text/plain": [
       "Parameter containing:\n",
       "tensor([-3.2299e-02, -8.5071e-03, -4.3256e-02, -1.8664e-01, -3.7080e-02,\n",
       "        -4.7215e-01, -1.9633e-01, -1.5093e-01, -1.9622e-01, -3.5978e-01,\n",
       "        -5.5346e-04, -3.6161e-03, -9.4387e-17,  1.0729e-15,  2.5368e-07,\n",
       "        -6.6807e-07, -9.4167e-03,  2.6774e-10, -1.5978e-18, -6.5171e-09,\n",
       "        -2.1822e-01, -2.2870e-01, -6.6202e-01, -1.1006e+00, -5.6345e-01,\n",
       "        -1.3579e+00, -1.0931e+00, -9.8062e-01, -1.1539e+00, -1.3337e+00,\n",
       "        -2.5782e-03, -6.3744e-03, -9.8576e-17,  6.5985e-10,  1.1238e-07,\n",
       "        -3.8531e-05, -8.5491e-03, -9.3149e-07, -4.9035e-11, -1.9131e-05,\n",
       "        -4.7527e-03, -5.0829e-03, -2.8563e-15,  4.4836e-09, -2.6762e-07,\n",
       "        -1.1925e-04, -9.0433e-03, -2.7106e-06, -1.0271e-09, -4.2346e-05,\n",
       "        -6.9768e-04, -4.7195e-03, -1.4834e-16,  5.2507e-13,  4.2437e-07,\n",
       "        -8.3628e-06, -8.7657e-03, -9.9521e-09, -3.1414e-14, -6.6340e-07,\n",
       "        -2.8045e-04,  5.6692e-04,  5.1838e-17, -8.0831e-17, -2.2567e-07,\n",
       "         1.4958e-10, -8.2877e-03, -1.1399e-09,  1.2979e-22,  5.2327e-10,\n",
       "        -1.2774e-04, -2.3259e-03,  1.4727e-17, -3.7479e-17,  2.3267e-08,\n",
       "        -9.9088e-11, -5.9828e-03, -1.0065e-09, -3.1879e-23,  3.5186e-10,\n",
       "         4.1755e-03,  4.1223e-03,  4.1274e-17,  5.3526e-18,  1.9642e-09,\n",
       "         8.1667e-11, -1.3751e-02, -5.1519e-10, -5.0428e-23,  7.4505e-11,\n",
       "         1.3974e-03, -6.7955e-03,  4.0669e-17,  5.6528e-17, -3.8658e-09,\n",
       "         1.4020e-10, -9.7394e-03,  1.3556e-09, -6.6472e-23, -1.5296e-10,\n",
       "         1.3604e-03, -4.9918e-03,  4.9670e-17,  1.7231e-17, -4.9862e-08,\n",
       "         5.9807e-12, -8.8992e-03,  8.4541e-10, -6.7383e-23,  1.1108e-10,\n",
       "        -2.6327e-03,  3.8859e-03,  1.4874e-17,  6.8465e-20, -3.1974e-09,\n",
       "         1.2283e-12, -5.9595e-05,  2.7271e-10,  3.2042e-23,  1.5144e-11,\n",
       "         1.5461e-03, -6.5095e-03,  4.9487e-17,  6.2737e-17, -1.1671e-08,\n",
       "         1.5389e-10, -9.7677e-03,  1.4664e-09, -5.0521e-24, -4.2296e-10,\n",
       "        -1.4285e-03,  1.5069e-04,  5.8637e-18, -1.8544e-26,  5.0385e-10,\n",
       "        -1.0200e-12,  1.3461e-03, -8.5514e-10,  3.4280e-24,  8.6191e-11,\n",
       "        -2.1295e-04, -8.1752e-04,  8.1353e-18,  1.5911e-24, -3.4152e-07,\n",
       "         1.3538e-11,  2.2506e-03,  2.5654e-10,  1.6088e-23, -3.0830e-11,\n",
       "        -7.2251e-04,  2.3119e-04,  1.0245e-17, -9.8523e-20, -2.7390e-07,\n",
       "         8.1259e-12,  1.7796e-04, -1.1842e-10, -7.6406e-24, -2.7220e-11,\n",
       "         4.3247e-05, -8.8476e-04,  8.8239e-18,  1.0314e-24, -3.5996e-07,\n",
       "         1.3618e-11,  1.5023e-03,  2.9809e-10,  1.8674e-23, -3.5260e-11,\n",
       "         1.3216e-03, -8.4492e-03,  5.8528e-17, -7.6246e-17,  7.1922e-09,\n",
       "         1.1693e-10, -7.9145e-03, -7.3463e-10, -6.9004e-23,  3.1718e-10,\n",
       "        -8.6677e-04,  5.5324e-03, -1.1363e-17, -8.6769e-19, -1.4882e-07,\n",
       "        -2.5786e-11, -5.3509e-03,  6.3931e-10, -1.2218e-23, -7.3451e-11,\n",
       "         1.2287e-04,  1.0794e-04, -2.6133e-18, -4.8850e-25, -4.9040e-12,\n",
       "        -8.3271e-13,  3.9876e-04, -1.8511e-10,  8.4712e-25,  2.6145e-11,\n",
       "        -4.2164e-06, -9.7897e-07, -2.6290e-18,  2.2772e-19,  3.5988e-11,\n",
       "        -5.1993e-13, -8.5883e-05,  5.4601e-11,  1.3126e-24,  1.1328e-12,\n",
       "         8.8446e-04, -6.3927e-03,  3.8880e-17, -1.4181e-17, -1.5827e-08,\n",
       "         1.2767e-10, -6.0921e-03,  1.1720e-09, -7.4180e-23, -3.4776e-10,\n",
       "        -5.3002e-04, -1.5801e-03, -9.0138e-18,  1.2134e-18,  7.7523e-11,\n",
       "        -7.8954e-12, -2.0206e-04, -4.0174e-10, -1.6175e-23,  3.2754e-11,\n",
       "         9.0558e-04, -3.3770e-03, -3.2892e-17, -3.5853e-17, -1.9934e-07,\n",
       "        -8.4227e-11, -8.4673e-03, -1.9767e-09, -1.1803e-22,  1.3496e-10],\n",
       "       requires_grad=True)"
      ]
     },
     "execution_count": 72,
     "metadata": {},
     "output_type": "execute_result"
    }
   ],
   "source": [
    "bnn_model.network[0].mu_q"
   ]
  },
  {
   "cell_type": "code",
   "execution_count": null,
   "metadata": {},
   "outputs": [],
   "source": []
  },
  {
   "cell_type": "code",
   "execution_count": null,
   "metadata": {},
   "outputs": [],
   "source": []
  },
  {
   "cell_type": "code",
   "execution_count": 106,
   "metadata": {},
   "outputs": [
    {
     "data": {
      "text/plain": [
       "Parameter containing:\n",
       "tensor([[-1.2293e+00,  0.0000e+00,  0.0000e+00,  ...,  0.0000e+00,\n",
       "          0.0000e+00,  0.0000e+00],\n",
       "        [ 1.1229e-02, -1.0863e+00,  0.0000e+00,  ...,  0.0000e+00,\n",
       "          0.0000e+00,  0.0000e+00],\n",
       "        [ 1.8669e-03,  1.0197e-03, -1.1707e+00,  ...,  0.0000e+00,\n",
       "          0.0000e+00,  0.0000e+00],\n",
       "        ...,\n",
       "        [ 3.7095e-04,  1.6747e-03,  6.9361e-03,  ..., -2.5135e+00,\n",
       "          0.0000e+00,  0.0000e+00],\n",
       "        [-3.1583e-03,  2.5103e-03, -3.0569e-03,  ...,  1.9066e-02,\n",
       "         -2.5019e+00,  0.0000e+00],\n",
       "        [-1.4950e-04,  1.6135e-03, -3.3732e-03,  ...,  8.5649e-03,\n",
       "          6.3635e-03, -2.5151e+00]], requires_grad=True)"
      ]
     },
     "execution_count": 106,
     "metadata": {},
     "output_type": "execute_result"
    }
   ],
   "source": [
    "bnn_model.network[4].chol_q"
   ]
  },
  {
   "cell_type": "code",
   "execution_count": null,
   "metadata": {},
   "outputs": [],
   "source": [
    "torch.Size([10, 634, 7])\n"
   ]
  }
 ],
 "metadata": {
  "kernelspec": {
   "display_name": "Python 3",
   "language": "python",
   "name": "python3"
  },
  "language_info": {
   "codemirror_mode": {
    "name": "ipython",
    "version": 3
   },
   "file_extension": ".py",
   "mimetype": "text/x-python",
   "name": "python",
   "nbconvert_exporter": "python",
   "pygments_lexer": "ipython3",
   "version": "3.9.0"
  }
 },
 "nbformat": 4,
 "nbformat_minor": 2
}
