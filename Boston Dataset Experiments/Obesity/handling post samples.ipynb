{
 "cells": [
  {
   "cell_type": "code",
   "execution_count": 1,
   "metadata": {},
   "outputs": [],
   "source": [
    "import pickle\n",
    "# Load dictionary from the pickle file\n",
    "with open('post_samples.pkl', 'rb') as f:\n",
    "    loaded_samples = pickle.load(f)"
   ]
  },
  {
   "cell_type": "code",
   "execution_count": 8,
   "metadata": {},
   "outputs": [
    {
     "data": {
      "text/plain": [
       "torch.Size([250, 10, 23])"
      ]
     },
     "execution_count": 8,
     "metadata": {},
     "output_type": "execute_result"
    }
   ],
   "source": [
    "loaded_samples['layers.0.weight'].shape"
   ]
  },
  {
   "cell_type": "code",
   "execution_count": null,
   "metadata": {},
   "outputs": [],
   "source": [
    "import torch\n",
    "\n",
    "def get_network_outputs(loaded_samples, input_data):\n",
    "    \"\"\"\n",
    "    Computes the outputs of the neural network for each of the 250 sampled weights and biases.\n",
    "\n",
    "    Parameters:\n",
    "    - loaded_samples (dict): Dictionary with keys like 'layers.0.bias', 'layers.0.weight', etc.\n",
    "    - input_data (torch.Tensor): Input data to feed into the network (shape [batch_size, input_dim]).\n",
    "\n",
    "    Returns:\n",
    "    - outputs (torch.Tensor): Network outputs for each sample (shape [250, batch_size, output_dim]).\n",
    "    \"\"\"\n",
    "    # Initialize list to store outputs for all 250 samples\n",
    "    outputs = []\n",
    "\n",
    "    # Loop over each sample\n",
    "    for i in range(loaded_samples['layers.0.bias'].shape[0]):  # 250 samples\n",
    "        # Sample weights and biases\n",
    "        layer_0_weight = loaded_samples['layers.0.weight'][i]  # Shape: [10, 23]\n",
    "        layer_0_bias = loaded_samples['layers.0.bias'][i]      # Shape: [23]\n",
    "        layer_1_weight = loaded_samples['layers.1.weight'][i]  # Shape: [23, X] (replace X with next layer size)\n",
    "        layer_1_bias = loaded_samples['layers.1.bias'][i]      # Shape: [X] (same as layer_1_weight's output size)\n",
    "        layer_2_weight = loaded_samples['layers.2.weight'][i]  # Shape: [X, output_dim]\n",
    "        layer_2_bias = loaded_samples['layers.2.bias'][i]      # Shape: [output_dim]\n",
    "\n",
    "        # Forward pass through the network for this sample\n",
    "        x = input_data\n",
    "        x = torch.matmul(x, layer_0_weight) + layer_0_bias  # First layer: shape [batch_size, 23]\n",
    "        x = torch.relu(x)  # Activation function (ReLU)\n",
    "        x = torch.matmul(x, layer_1_weight) + layer_1_bias  # Second layer\n",
    "        x = torch.relu(x)  # Activation function (ReLU)\n",
    "        x = torch.matmul(x, layer_2_weight) + layer_2_bias  # Third layer\n",
    "\n",
    "        # Store the output for this sample\n",
    "        outputs.append(x)\n",
    "\n",
    "    # Stack all outputs into a tensor (shape: [250, batch_size, output_dim])\n",
    "    outputs = torch.stack(outputs)\n",
    "\n",
    "    return outputs\n"
   ]
  }
 ],
 "metadata": {
  "kernelspec": {
   "display_name": "Python 3",
   "language": "python",
   "name": "python3"
  },
  "language_info": {
   "codemirror_mode": {
    "name": "ipython",
    "version": 3
   },
   "file_extension": ".py",
   "mimetype": "text/x-python",
   "name": "python",
   "nbconvert_exporter": "python",
   "pygments_lexer": "ipython3",
   "version": "3.11.0"
  }
 },
 "nbformat": 4,
 "nbformat_minor": 2
}
