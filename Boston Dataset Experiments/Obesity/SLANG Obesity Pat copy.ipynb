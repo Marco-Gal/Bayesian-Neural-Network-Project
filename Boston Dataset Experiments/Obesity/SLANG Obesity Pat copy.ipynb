{
 "cells": [
  {
   "cell_type": "code",
   "execution_count": 1,
   "metadata": {},
   "outputs": [
    {
     "ename": "ModuleNotFoundError",
     "evalue": "No module named 'torchutils'",
     "output_type": "error",
     "traceback": [
      "\u001b[1;31m---------------------------------------------------------------------------\u001b[0m",
      "\u001b[1;31mModuleNotFoundError\u001b[0m                       Traceback (most recent call last)",
      "Cell \u001b[1;32mIn[1], line 17\u001b[0m\n\u001b[0;32m     14\u001b[0m \u001b[38;5;28;01mif\u001b[39;00m module_path \u001b[38;5;129;01mnot\u001b[39;00m \u001b[38;5;129;01min\u001b[39;00m sys\u001b[38;5;241m.\u001b[39mpath:\n\u001b[0;32m     15\u001b[0m     sys\u001b[38;5;241m.\u001b[39mpath\u001b[38;5;241m.\u001b[39mappend(module_path)\n\u001b[1;32m---> 17\u001b[0m \u001b[38;5;28;01mimport\u001b[39;00m \u001b[38;5;21;01mtorchutils\u001b[39;00m \u001b[38;5;28;01mas\u001b[39;00m \u001b[38;5;21;01mtu\u001b[39;00m\n\u001b[0;32m     18\u001b[0m \u001b[38;5;28;01mfrom\u001b[39;00m \u001b[38;5;21;01mtorchutils\u001b[39;00m\u001b[38;5;21;01m.\u001b[39;00m\u001b[38;5;21;01mmodels\u001b[39;00m \u001b[38;5;28;01mimport\u001b[39;00m MLP \u001b[38;5;28;01mas\u001b[39;00m MultiSampleMLP\n\u001b[0;32m     20\u001b[0m \u001b[38;5;28;01mwith\u001b[39;00m \u001b[38;5;28mopen\u001b[39m(path, \u001b[38;5;124m'\u001b[39m\u001b[38;5;124mrb\u001b[39m\u001b[38;5;124m'\u001b[39m) \u001b[38;5;28;01mas\u001b[39;00m f:\n",
      "\u001b[1;31mModuleNotFoundError\u001b[0m: No module named 'torchutils'"
     ]
    }
   ],
   "source": [
    "import pickle\n",
    "import torch\n",
    "import matplotlib.pyplot as plt\n",
    "import numpy as np\n",
    "import torch\n",
    "from torch import nn\n",
    "import torch.nn.functional as F\n",
    "import sys\n",
    "import os\n",
    "import pandas as pd\n",
    "from sklearn.model_selection import train_test_split\n",
    "\n",
    "module_path = \"/Users/patrickgunn/Documents/Documents - iCloud Drive/Uni Fourth Year/Full Year/Group Project/Bayesian-Neural-Network-Project/Rebuilding_Slang\"\n",
    "if module_path not in sys.path:\n",
    "    sys.path.append(module_path)\n",
    "\n",
    "import torchutils as tu\n",
    "from torchutils.models import MLP as MultiSampleMLP\n",
    "\n",
    "with open(path, 'rb') as f:\n",
    "    results_dict = pickle.load(f)"
   ]
  },
  {
   "cell_type": "code",
   "execution_count": 30,
   "metadata": {},
   "outputs": [],
   "source": [
    "from ucimlrepo import fetch_ucirepo \n",
    "\n",
    "# fetch dataset \n",
    "estimation_of_obesity_levels_based_on_eating_habits_and_physical_condition = fetch_ucirepo(id=544) \n",
    "  \n",
    "# data (as pandas dataframes) \n",
    "X = estimation_of_obesity_levels_based_on_eating_habits_and_physical_condition.data.features \n",
    "y = estimation_of_obesity_levels_based_on_eating_habits_and_physical_condition.data.targets.copy() \n",
    "\n",
    "categorical_features = ['Gender', 'family_history_with_overweight', 'FAVC', 'CAEC', 'SMOKE', 'SCC','CALC','MTRANS']\n",
    "# One-hot encode categorical features, dropping the first category\n",
    "X_encoded = pd.get_dummies(X, columns=categorical_features, drop_first=True)\n",
    "X_encoded = X_encoded.astype({col: int for col in X_encoded.select_dtypes('bool').columns})\n",
    "\n",
    "# Convert X_encoded to a PyTorch tensor\n",
    "X_tensor = torch.tensor(X_encoded.values, dtype=torch.float32)\n",
    "\n",
    "y['NObeyesdad'] = y['NObeyesdad'].astype('category').cat.codes\n",
    "\n",
    "# Convert to tensor\n",
    "y_tensor = torch.tensor(y['NObeyesdad'].to_numpy(), dtype=torch.long)\n",
    "\n",
    "x_tr, x_te, y_tr, y_te = train_test_split(X_tensor, y_tensor, test_size=0.3, random_state=42)"
   ]
  },
  {
   "cell_type": "code",
   "execution_count": 31,
   "metadata": {},
   "outputs": [],
   "source": [
    "param_means = results_dict['optimizer']['state']['mean']\n",
    "prec_factor = results_dict['optimizer']['state']['prec_factor']\n",
    "prec_diag = results_dict['optimizer']['state']['prec_diag']"
   ]
  },
  {
   "cell_type": "code",
   "execution_count": 92,
   "metadata": {},
   "outputs": [
    {
     "data": {
      "text/plain": [
       "dict_keys(['mean', 'prec_factor', 'prec_diag', 'momentum_grad', 'step'])"
      ]
     },
     "execution_count": 92,
     "metadata": {},
     "output_type": "execute_result"
    }
   ],
   "source": [
    "results_dict['optimizer']['state'].keys()"
   ]
  },
  {
   "cell_type": "code",
   "execution_count": 42,
   "metadata": {},
   "outputs": [],
   "source": [
    "dist = tu.distributions.LowRankMultivariateNormal(\n",
    "            loc=param_means.view(-1,1),\n",
    "            prec_factor=prec_factor,\n",
    "            prec_diag=prec_diag\n",
    "        )\n",
    "\n",
    "model = MultiSampleMLP(input_size=23,\n",
    "                        hidden_sizes=[10,10],\n",
    "                        output_size=7,\n",
    "                        act_func=nn.ReLU())"
   ]
  },
  {
   "cell_type": "code",
   "execution_count": 94,
   "metadata": {},
   "outputs": [
    {
     "ename": "AttributeError",
     "evalue": "'MLP' object has no attribute 'count'",
     "output_type": "error",
     "traceback": [
      "\u001b[0;31m---------------------------------------------------------------------------\u001b[0m",
      "\u001b[0;31mAttributeError\u001b[0m                            Traceback (most recent call last)",
      "Cell \u001b[0;32mIn[94], line 1\u001b[0m\n\u001b[0;32m----> 1\u001b[0m \u001b[43mmodel\u001b[49m\u001b[38;5;241;43m.\u001b[39;49m\u001b[43mcpu\u001b[49m\u001b[43m(\u001b[49m\u001b[43m)\u001b[49m\u001b[38;5;241;43m.\u001b[39;49m\u001b[43mcount\u001b[49m()\n",
      "File \u001b[0;32m~/Documents/Documents - iCloud Drive/Uni Fourth Year/Full Year/Group Project/Bayesian-Neural-Network-Project/.venv/lib/python3.9/site-packages/torch/nn/modules/module.py:1928\u001b[0m, in \u001b[0;36mModule.__getattr__\u001b[0;34m(self, name)\u001b[0m\n\u001b[1;32m   1926\u001b[0m     \u001b[38;5;28;01mif\u001b[39;00m name \u001b[38;5;129;01min\u001b[39;00m modules:\n\u001b[1;32m   1927\u001b[0m         \u001b[38;5;28;01mreturn\u001b[39;00m modules[name]\n\u001b[0;32m-> 1928\u001b[0m \u001b[38;5;28;01mraise\u001b[39;00m \u001b[38;5;167;01mAttributeError\u001b[39;00m(\n\u001b[1;32m   1929\u001b[0m     \u001b[38;5;124mf\u001b[39m\u001b[38;5;124m\"\u001b[39m\u001b[38;5;124m'\u001b[39m\u001b[38;5;132;01m{\u001b[39;00m\u001b[38;5;28mtype\u001b[39m(\u001b[38;5;28mself\u001b[39m)\u001b[38;5;241m.\u001b[39m\u001b[38;5;18m__name__\u001b[39m\u001b[38;5;132;01m}\u001b[39;00m\u001b[38;5;124m'\u001b[39m\u001b[38;5;124m object has no attribute \u001b[39m\u001b[38;5;124m'\u001b[39m\u001b[38;5;132;01m{\u001b[39;00mname\u001b[38;5;132;01m}\u001b[39;00m\u001b[38;5;124m'\u001b[39m\u001b[38;5;124m\"\u001b[39m\n\u001b[1;32m   1930\u001b[0m )\n",
      "\u001b[0;31mAttributeError\u001b[0m: 'MLP' object has no attribute 'count'"
     ]
    }
   ],
   "source": [
    "model.cpu().count()"
   ]
  },
  {
   "cell_type": "code",
   "execution_count": 84,
   "metadata": {},
   "outputs": [],
   "source": [
    "def predict_fn(x, mc_samples):\n",
    "    noise = dist.rsample(mc_samples).t()\n",
    "    preds = model(x, noise, False)\n",
    "    return preds\n",
    "\n",
    "mc_samples=1000\n",
    "noise = dist.rsample(mc_samples).t()"
   ]
  },
  {
   "cell_type": "code",
   "execution_count": 90,
   "metadata": {},
   "outputs": [
    {
     "name": "stdout",
     "output_type": "stream",
     "text": [
      "tensor([[1.0378e-02, 9.8962e-01, 0.0000e+00, 2.0679e-39, 1.1070e-43, 5.1993e-18,\n",
      "         4.6839e-27],\n",
      "        [4.5275e-07, 1.0000e+00, 0.0000e+00, 0.0000e+00, 0.0000e+00, 8.9326e-22,\n",
      "         5.3395e-29],\n",
      "        [1.5346e-02, 9.8465e-01, 0.0000e+00, 6.5861e-43, 0.0000e+00, 4.7800e-19,\n",
      "         4.2183e-29],\n",
      "        [7.6717e-03, 9.9233e-01, 7.8473e-44, 8.6249e-30, 9.2035e-33, 9.8024e-14,\n",
      "         9.9572e-21],\n",
      "        [4.0616e-04, 9.9959e-01, 0.0000e+00, 1.5975e-43, 0.0000e+00, 5.8016e-19,\n",
      "         4.8150e-27]], grad_fn=<SliceBackward0>)\n",
      "tensor([0, 4, 0, 0, 1])\n"
     ]
    }
   ],
   "source": [
    "preds = predict_fn(x_te, mc_samples=100)\n",
    "preds_sm = nn.Softmax(dim=-1)(preds.mean(0))\n",
    "\n",
    "k=5\n",
    "\n",
    "print(preds_sm[0:k,:])\n",
    "\n",
    "print(y_te[0:k])"
   ]
  },
  {
   "cell_type": "code",
   "execution_count": null,
   "metadata": {},
   "outputs": [
    {
     "data": {
      "text/plain": [
       "tensor([-1.2802e-01, -3.8432e-02,  4.9038e-03, -6.5654e-02, -6.9623e-02,\n",
       "        -4.6733e-02,  2.7587e-02,  1.0059e-02,  1.9753e-02, -2.0383e-02,\n",
       "         5.4506e-02, -3.5569e-02, -1.3428e-02, -2.3779e-02, -2.8027e-02,\n",
       "         2.0245e-02, -2.9723e-02,  1.6405e-02,  7.0408e-02, -7.8313e-03,\n",
       "         1.0067e-03, -3.1169e-02, -1.0465e-02,  6.6321e-02, -1.4014e+00,\n",
       "         4.4184e-02,  3.8711e-01,  4.6440e-01,  7.8802e-01,  6.2009e-02,\n",
       "         1.6220e-01,  4.7683e-02,  2.2775e-01,  9.8003e-01, -1.5657e-01,\n",
       "         3.7853e-01, -5.9142e-02, -2.6754e-01,  4.3677e-01,  9.7200e-02,\n",
       "         5.1863e-01, -4.8553e-01,  1.2693e-01,  9.0965e-03, -3.3943e-01,\n",
       "         4.0662e-01,  3.7232e-02,  5.0053e-01,  4.1158e-01, -4.2452e-01,\n",
       "         1.2217e-01, -8.4335e-02,  1.9718e-01,  1.9423e-02,  2.6907e-01,\n",
       "        -8.4123e-01,  4.6182e-01, -4.7109e-01,  7.5039e-02,  3.3644e-02,\n",
       "        -1.9328e-01, -5.5566e-02, -8.0075e-02, -4.1906e-02,  1.3474e-01,\n",
       "         1.2716e-01, -1.1103e-01, -2.0119e-01,  1.9459e-01,  5.5071e-02,\n",
       "        -3.6859e+00,  1.3355e-01, -2.1507e-01, -1.2917e-01,  5.1638e-02,\n",
       "         2.5876e-01,  4.1926e-01,  1.9564e+00,  7.4399e-01, -1.2265e-01,\n",
       "        -1.0468e-01, -1.0381e-01, -2.4605e-01,  1.1018e-01, -1.9832e-01,\n",
       "         4.5158e-02, -4.6273e-01,  6.1279e-01, -4.2107e-02, -2.6223e-02,\n",
       "         1.3912e-01, -2.9273e-01,  3.0252e-02,  7.6058e+00, -6.7156e-02,\n",
       "         1.8137e-02,  1.9707e-02,  1.9612e-01,  1.7212e-01,  2.0643e-01,\n",
       "         1.1629e+00,  3.7625e-01,  2.1444e-01,  1.7205e-02, -9.9257e-02,\n",
       "        -2.7558e-01, -2.7578e-02, -1.5857e-01,  1.4212e-01,  1.1826e-01,\n",
       "         4.2064e-01, -1.6019e-01, -1.5795e-01, -1.1981e-01, -1.5980e-02,\n",
       "         3.0942e-02, -1.0260e-01,  1.0067e-01, -1.9797e-01,  1.4881e-01,\n",
       "         2.5567e-01, -6.4171e-02,  6.7340e-03, -1.1117e-01,  1.5980e-01,\n",
       "         4.3536e-01,  1.2532e-02,  6.2478e-02,  3.3263e-02,  2.6653e-02,\n",
       "        -1.6483e-01, -1.1320e-02, -2.4458e-01,  3.1904e-01, -5.8153e-03,\n",
       "         8.3748e-02, -2.4322e-01, -4.8596e-02, -1.6296e-02, -3.8281e-02,\n",
       "         1.2184e-01,  3.5981e-01,  4.0846e-01,  4.0355e-01, -1.5897e-01,\n",
       "         2.0256e-02, -4.4071e-01,  5.3415e-01, -4.5878e-01,  2.9897e-01,\n",
       "         8.3507e-02,  1.2858e-02,  1.7213e-01, -2.7624e-01,  5.3782e-02,\n",
       "        -2.0128e-01,  1.5321e-01, -2.8887e-02,  7.7717e-02,  4.9100e-01,\n",
       "        -2.6396e-01,  3.1896e-01, -1.6550e-01,  1.8107e-01,  4.5341e-01,\n",
       "        -4.6282e-02, -1.9235e-01,  9.4107e-02,  2.5449e-01,  1.5485e-01,\n",
       "         2.4361e-01, -6.9267e-01,  3.6563e-01, -1.8830e-01, -5.4343e-02,\n",
       "        -3.1928e-02,  1.6821e-01,  5.0144e-02,  4.2669e-02, -7.8379e-04,\n",
       "        -9.8919e-02,  1.1064e-02,  5.1432e-01, -6.0029e-02, -1.7582e-01,\n",
       "        -3.3602e-02, -3.0025e-01, -3.6564e-02,  1.9403e-02, -2.4107e-02,\n",
       "        -2.2339e-02,  2.0882e-02,  7.3430e-02,  1.5205e-03,  7.8441e-03,\n",
       "        -5.0219e-02, -4.4434e-03, -9.0478e-03, -3.6807e-02, -6.5195e-02,\n",
       "        -4.9339e-03,  3.8606e-02,  7.3000e-03, -4.7267e-03, -6.7697e-02,\n",
       "        -4.3356e-02, -3.8535e-02, -5.3570e-01, -6.6558e-02,  1.4488e-01,\n",
       "        -3.4058e-01,  2.4440e-01,  7.3982e-01, -5.5548e-01,  4.9870e-01,\n",
       "        -8.6890e-01,  2.1538e-02, -2.4859e-01,  9.4891e-02,  3.2747e-02,\n",
       "         2.4826e-02, -5.1690e-02, -5.9196e-03, -9.1662e-04, -2.8237e-01,\n",
       "         3.1700e-01, -2.4282e-02, -2.6414e-02,  7.9437e-02, -1.7461e-01,\n",
       "        -3.8060e+00,  8.6907e+00,  8.9605e-01,  4.7068e+00, -7.8300e-01,\n",
       "         3.7771e+00, -1.5257e+00, -7.1753e-01, -6.9649e+00, -4.0792e+00,\n",
       "         7.6100e-02, -1.0542e-01, -1.4106e-01, -8.2682e-01,  1.7792e+00,\n",
       "        -4.5558e-03, -4.1213e-02,  4.1857e-02, -2.9226e-02, -3.4289e-02,\n",
       "        -9.0600e-02, -3.0180e-01,  1.7344e-01, -5.7041e-02, -2.9712e-01,\n",
       "        -9.9671e-02,  4.1686e-02, -1.9855e-01,  1.3057e-02,  4.0915e-02,\n",
       "         3.5972e-02, -1.4635e-01, -1.3004e-01,  8.0979e-01, -1.0463e-01,\n",
       "         9.7758e-02, -1.7915e-02, -9.5399e-02, -1.0654e-02, -4.5731e-01,\n",
       "        -3.3875e-02, -1.6278e-01, -2.3251e-01, -2.4131e-01, -1.2747e-01,\n",
       "        -2.4326e-01, -1.6724e-01, -2.3270e-01, -1.3054e-02, -2.5878e-02,\n",
       "         5.2171e-03, -3.2769e-01,  1.4792e-01, -5.1418e-01,  1.3211e+00,\n",
       "         9.7714e-02, -2.1418e-02, -1.9883e-01, -2.9916e-02, -2.7564e-01,\n",
       "         1.1186e-01, -3.4997e-01,  1.6287e-01,  3.7110e-02,  1.1542e-01,\n",
       "        -8.8492e-02, -2.2802e-01,  1.8374e-01, -1.2139e-02, -4.7665e-01,\n",
       "        -1.6051e-02,  5.5722e-02, -8.2642e-03, -1.2816e-01,  8.9368e-01,\n",
       "         2.5260e-02, -1.8025e-01, -1.5218e-01, -1.5828e-02,  2.2618e-01,\n",
       "        -3.9270e-03, -2.9745e-02, -2.6243e-01,  4.7599e-02, -1.1514e-01,\n",
       "         4.0363e-02, -1.6846e-01, -1.9181e-01,  1.9377e-02,  9.8021e-03,\n",
       "        -6.0413e-02, -2.2094e-01,  3.0702e-03, -3.0647e-01,  1.0632e+00,\n",
       "        -7.1090e-02,  3.6394e-02,  5.7315e-04, -1.1072e-02,  1.3330e-01,\n",
       "         3.2183e-02, -8.3006e-02, -2.1528e-01,  2.5659e-01, -1.0932e-01,\n",
       "         8.4542e-02, -1.3006e-01, -1.5366e-01,  3.3204e-02,  4.5446e-02,\n",
       "        -2.7091e+00, -4.0378e+00,  2.3385e+00, -1.0463e+01, -5.2940e+00,\n",
       "        -4.0945e+00,  2.9328e+00, -6.9553e+00, -1.8263e+00, -9.2714e+00,\n",
       "         1.3349e+00, -1.1588e-02, -1.2558e-01,  6.6560e-03,  5.4784e-01,\n",
       "         5.9088e-02, -4.4669e-01, -7.9312e-02,  2.4105e-01,  5.8326e-02,\n",
       "         2.7730e-01,  1.1981e-02, -4.2127e-01, -7.6448e-02,  1.7530e-01,\n",
       "         2.7227e-01,  1.3664e-01,  2.5742e-02,  7.0987e-01, -1.6458e-01,\n",
       "        -2.9518e-01, -3.5238e-03,  2.5740e-01,  3.0760e-02, -7.6504e-01,\n",
       "        -1.8052e-01,  2.9592e-01,  2.7965e-02, -1.3702e+00,  1.0672e-02,\n",
       "         7.9509e-03, -1.9144e-02,  7.0667e-01,  6.2500e-03, -9.4450e-02,\n",
       "         2.8351e-01, -7.6783e-01,  8.9845e-03, -7.2284e-01, -4.4345e-02,\n",
       "        -1.7047e-02, -1.3248e-02,  1.4648e-03,  2.2543e-03, -7.9460e-02,\n",
       "        -4.9167e-01, -1.3540e+00, -3.2479e-03, -2.7936e-01, -5.8914e-02,\n",
       "        -1.6145e-01, -2.6106e-02, -4.8454e-01, -5.3649e-03, -1.4481e-01,\n",
       "         1.4282e-01,  5.5794e-01, -1.0486e-02,  2.4950e-01,  2.5960e-01,\n",
       "        -4.5623e-01,  1.5360e-02, -1.5171e-02,  5.9147e-02, -1.0725e+00,\n",
       "        -2.0921e-02,  4.0499e-01,  2.4102e-02,  1.9291e-01,  5.6714e-02,\n",
       "        -1.4192e+01, -3.6710e+00,  3.4956e+00,  2.1987e+00,  1.1995e+01,\n",
       "        -2.0798e+00,  7.6262e-02])"
      ]
     },
     "execution_count": 87,
     "metadata": {},
     "output_type": "execute_result"
    },
    {
     "data": {
      "image/png": "[encoded data removed]",
      "text/plain": [
       "<Figure size 640x480 with 1 Axes>"
      ]
     },
     "metadata": {},
     "output_type": "display_data"
    }
   ],
   "source": [
    "plt.hist(noise[:,1])"
   ]
  },
  {
   "cell_type": "code",
   "execution_count": 81,
   "metadata": {},
   "outputs": [
    {
     "data": {
      "image/png": "[encoded data removed]",
      "text/plain": [
       "<Figure size 640x480 with 1 Axes>"
      ]
     },
     "metadata": {},
     "output_type": "display_data"
    }
   ],
   "source": [
    "plt.hist(preds[:,1,1].detach().numpy())\n",
    "plt.show()"
   ]
  },
  {
   "cell_type": "code",
   "execution_count": null,
   "metadata": {},
   "outputs": [],
   "source": []
  }
 ],
 "metadata": {
  "kernelspec": {
   "display_name": "Python 3",
   "language": "python",
   "name": "python3"
  },
  "language_info": {
   "codemirror_mode": {
    "name": "ipython",
    "version": 3
   },
   "file_extension": ".py",
   "mimetype": "text/x-python",
   "name": "python",
   "nbconvert_exporter": "python",
   "pygments_lexer": "ipython3",
   "version": "3.12.7"
  }
 },
 "nbformat": 4,
 "nbformat_minor": 2
}
