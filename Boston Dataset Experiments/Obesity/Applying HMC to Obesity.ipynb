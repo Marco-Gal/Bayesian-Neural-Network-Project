{
 "cells": [
  {
   "cell_type": "code",
   "execution_count": 12,
   "metadata": {},
   "outputs": [],
   "source": []
  },
  {
   "cell_type": "code",
   "execution_count": null,
   "metadata": {},
   "outputs": [],
   "source": []
  },
  {
   "cell_type": "code",
   "execution_count": 2,
   "metadata": {},
   "outputs": [
    {
     "name": "stdout",
     "output_type": "stream",
     "text": [
      "{'uci_id': 544, 'name': 'Estimation of Obesity Levels Based On Eating Habits and Physical Condition ', 'repository_url': 'https://archive.ics.uci.edu/dataset/544/estimation+of+obesity+levels+based+on+eating+habits+and+physical+condition', 'data_url': 'https://archive.ics.uci.edu/static/public/544/data.csv', 'abstract': 'This dataset include data for the estimation of obesity levels in individuals from the countries of Mexico, Peru and Colombia, based on their eating habits and physical condition. ', 'area': 'Health and Medicine', 'tasks': ['Classification', 'Regression', 'Clustering'], 'characteristics': ['Multivariate'], 'num_instances': 2111, 'num_features': 16, 'feature_types': ['Integer'], 'demographics': ['Gender', 'Age'], 'target_col': ['NObeyesdad'], 'index_col': None, 'has_missing_values': 'no', 'missing_values_symbol': None, 'year_of_dataset_creation': 2019, 'last_updated': 'Tue Sep 10 2024', 'dataset_doi': '10.24432/C5H31Z', 'creators': [], 'intro_paper': {'ID': 358, 'type': 'NATIVE', 'title': 'Dataset for estimation of obesity levels based on eating habits and physical condition in individuals from Colombia, Peru and Mexico', 'authors': 'Fabio Mendoza Palechor, Alexis De la Hoz Manotas', 'venue': 'Data in Brief', 'year': 2019, 'journal': None, 'DOI': '10.1016/j.dib.2019.104344', 'URL': 'https://www.semanticscholar.org/paper/35b40bacd2ffa9370885b7a3004d88995fd1d011', 'sha': None, 'corpus': None, 'arxiv': None, 'mag': None, 'acl': None, 'pmid': None, 'pmcid': None}, 'additional_info': {'summary': 'This dataset include data for the estimation of obesity levels in individuals from the countries of Mexico, Peru and Colombia, based on their eating habits and physical condition. The data contains 17 attributes and 2111 records, the records are labeled with the class variable NObesity (Obesity Level), that allows classification of the data using the values of Insufficient Weight, Normal Weight, Overweight Level I, Overweight Level II, Obesity Type I, Obesity Type II and Obesity Type III. 77% of the data was generated synthetically using the Weka tool and the SMOTE filter, 23% of the data was collected directly from users through a web platform.', 'purpose': None, 'funded_by': None, 'instances_represent': None, 'recommended_data_splits': None, 'sensitive_data': None, 'preprocessing_description': None, 'variable_info': 'Read the article (https://doi.org/10.1016/j.dib.2019.104344) to see the description of the attributes.', 'citation': None}}\n",
      "                              name     role         type demographic  \\\n",
      "0                           Gender  Feature  Categorical      Gender   \n",
      "1                              Age  Feature   Continuous         Age   \n",
      "2                           Height  Feature   Continuous        None   \n",
      "3                           Weight  Feature   Continuous        None   \n",
      "4   family_history_with_overweight  Feature       Binary        None   \n",
      "5                             FAVC  Feature       Binary        None   \n",
      "6                             FCVC  Feature      Integer        None   \n",
      "7                              NCP  Feature   Continuous        None   \n",
      "8                             CAEC  Feature  Categorical        None   \n",
      "9                            SMOKE  Feature       Binary        None   \n",
      "10                            CH2O  Feature   Continuous        None   \n",
      "11                             SCC  Feature       Binary        None   \n",
      "12                             FAF  Feature   Continuous        None   \n",
      "13                             TUE  Feature      Integer        None   \n",
      "14                            CALC  Feature  Categorical        None   \n",
      "15                          MTRANS  Feature  Categorical        None   \n",
      "16                      NObeyesdad   Target  Categorical        None   \n",
      "\n",
      "                                          description units missing_values  \n",
      "0                                                None  None             no  \n",
      "1                                                None  None             no  \n",
      "2                                                None  None             no  \n",
      "3                                                None  None             no  \n",
      "4   Has a family member suffered or suffers from o...  None             no  \n",
      "5            Do you eat high caloric food frequently?  None             no  \n",
      "6        Do you usually eat vegetables in your meals?  None             no  \n",
      "7              How many main meals do you have daily?  None             no  \n",
      "8                  Do you eat any food between meals?  None             no  \n",
      "9                                       Do you smoke?  None             no  \n",
      "10                 How much water do you drink daily?  None             no  \n",
      "11         Do you monitor the calories you eat daily?  None             no  \n",
      "12           How often do you have physical activity?  None             no  \n",
      "13  How much time do you use technological devices...  None             no  \n",
      "14                    How often do you drink alcohol?  None             no  \n",
      "15           Which transportation do you usually use?  None             no  \n",
      "16                                      Obesity level  None             no  \n"
     ]
    }
   ],
   "source": [
    "from ucimlrepo import fetch_ucirepo \n",
    "\n",
    "# fetch dataset \n",
    "estimation_of_obesity_levels_based_on_eating_habits_and_physical_condition = fetch_ucirepo(id=544) \n",
    "  \n",
    "# data (as pandas dataframes) \n",
    "X = estimation_of_obesity_levels_based_on_eating_habits_and_physical_condition.data.features \n",
    "y = estimation_of_obesity_levels_based_on_eating_habits_and_physical_condition.data.targets.copy() \n",
    "  \n",
    "# metadata \n",
    "print(estimation_of_obesity_levels_based_on_eating_habits_and_physical_condition.metadata) \n",
    "  \n",
    "# variable information \n",
    "print(estimation_of_obesity_levels_based_on_eating_habits_and_physical_condition.variables) \n"
   ]
  },
  {
   "cell_type": "code",
   "execution_count": 3,
   "metadata": {},
   "outputs": [
    {
     "name": "stderr",
     "output_type": "stream",
     "text": [
      "c:\\Users\\peter\\AppData\\Local\\Programs\\Python\\Python311\\Lib\\site-packages\\tqdm\\auto.py:21: TqdmWarning: IProgress not found. Please update jupyter and ipywidgets. See https://ipywidgets.readthedocs.io/en/stable/user_install.html\n",
      "  from .autonotebook import tqdm as notebook_tqdm\n"
     ]
    }
   ],
   "source": [
    "import pandas as pd\n",
    "import numpy as np\n",
    "import torch\n",
    "from torch import nn\n",
    "import matplotlib.pyplot as plt\n",
    "from sklearn.model_selection import train_test_split\n",
    "from tqdm import tqdm\n",
    "import pyro\n",
    "import pyro.distributions as dist\n",
    "from pyro.nn import PyroModule, PyroSample\n",
    "import torch.nn as nn\n",
    "\n",
    "from pyro.infer import MCMC, NUTS\n",
    "from pyro.infer import Predictive"
   ]
  },
  {
   "cell_type": "code",
   "execution_count": 4,
   "metadata": {},
   "outputs": [],
   "source": [
    "categorical_features = ['Gender', 'family_history_with_overweight', 'FAVC', 'CAEC', 'SMOKE', 'SCC','CALC','MTRANS']\n",
    "# One-hot encode categorical features, dropping the first category\n",
    "X_encoded = pd.get_dummies(X, columns=categorical_features, drop_first=True)\n",
    "X_encoded = X_encoded.astype({col: int for col in X_encoded.select_dtypes('bool').columns})\n",
    "\n",
    "# Convert X_encoded to a PyTorch tensor\n",
    "X_tensor = torch.tensor(X_encoded.values, dtype=torch.float32)\n"
   ]
  },
  {
   "cell_type": "code",
   "execution_count": 5,
   "metadata": {},
   "outputs": [],
   "source": [
    "y['NObeyesdad'] = y['NObeyesdad'].astype('category').cat.codes\n",
    "\n",
    "# Convert to tensor\n",
    "y_tensor = torch.tensor(y['NObeyesdad'].to_numpy(), dtype=torch.long)"
   ]
  },
  {
   "cell_type": "code",
   "execution_count": 6,
   "metadata": {},
   "outputs": [],
   "source": [
    "x_tr, x_te, y_tr, y_te = train_test_split(X_tensor, y_tensor, test_size=0.3, random_state=42)"
   ]
  },
  {
   "cell_type": "code",
   "execution_count": 8,
   "metadata": {},
   "outputs": [],
   "source": [
    "class BNN(PyroModule):\n",
    "    def __init__(self, in_dim=1, out_dim=1, hid_dim=10, n_hid_layers=2, prior_scale=5.):\n",
    "        super().__init__()\n",
    "        self.in_dim = in_dim\n",
    "\n",
    "        self.activation = nn.ReLU()  # could also be ReLU or LeakyReLU\n",
    "        assert in_dim > 0 and out_dim > 0 and hid_dim > 0 and n_hid_layers > 0  # make sure the dimensions are valid\n",
    "\n",
    "        # Define the layer sizes and the PyroModule layer list\n",
    "        self.layer_sizes = [in_dim] + n_hid_layers * [hid_dim] + [out_dim]\n",
    "        layer_list = [PyroModule[nn.Linear](self.layer_sizes[idx - 1], self.layer_sizes[idx]) for idx in\n",
    "                      range(1, len(self.layer_sizes))]\n",
    "        self.layers = PyroModule[torch.nn.ModuleList](layer_list)\n",
    "\n",
    "        for layer_idx, layer in enumerate(self.layers):\n",
    "            layer.weight = PyroSample(dist.Normal(0., prior_scale * np.sqrt(2 / self.layer_sizes[layer_idx])).expand(\n",
    "                [self.layer_sizes[layer_idx + 1], self.layer_sizes[layer_idx]]).to_event(2))\n",
    "            layer.bias = PyroSample(dist.Normal(0., prior_scale).expand([self.layer_sizes[layer_idx + 1]]).to_event(1))\n",
    "\n",
    "    def forward(self, x, y=None):\n",
    "        x = x.reshape(-1, self.in_dim)\n",
    "        x = self.activation(self.layers[0](x))  # input --> hidden\n",
    "        for layer in self.layers[1:-1]:\n",
    "            x = self.activation(layer(x))  # hidden --> hidden\n",
    "        x = self.layers[-1](x).squeeze()  # hidden --> output\n",
    "        x = torch.softmax(x, dim=1) # softmax activation\n",
    "        \n",
    "        with pyro.plate(\"data\", x.shape[0]):\n",
    "            obs = pyro.sample(\"obs\", dist.Categorical(x), obs=y)\n",
    "        return x"
   ]
  },
  {
   "cell_type": "code",
   "execution_count": 20,
   "metadata": {},
   "outputs": [
    {
     "name": "stderr",
     "output_type": "stream",
     "text": [
      "Sample: 100%|██████████| 750/750 [14:45,  1.18s/it, step size=1.02e-03, acc. prob=0.929]\n"
     ]
    }
   ],
   "source": [
    "# Define Hamiltonian Monte Carlo (HMC) kernel\n",
    "# NUTS = \"No-U-Turn Sampler\" (https://arxiv.org/abs/1111.4246), gives HMC an adaptive step size\n",
    "model = BNN(in_dim = x_tr.shape[1], out_dim = 7, hid_dim=10, n_hid_layers=2, prior_scale=1)\n",
    "#in_dim=1, out_dim=1, hid_dim=10, n_hid_layers=5, prior_scale=5.\n",
    "\n",
    "nuts_kernel = NUTS(model, jit_compile=False)  # jit_compile=True is faster but requires PyTorch 1.6+\n",
    "\n",
    "# define model and data\n",
    "\n",
    "# define MCMC sampler\n",
    "nuts_kernel = NUTS(model, jit_compile=False)\n",
    "mcmc = MCMC(nuts_kernel, num_samples=250, warmup_steps=500)\n",
    "mcmc.run(x_tr, y_tr)\n"
   ]
  },
  {
   "cell_type": "code",
   "execution_count": 21,
   "metadata": {},
   "outputs": [
    {
     "name": "stdout",
     "output_type": "stream",
     "text": [
      "['layers.0.bias', 'layers.0.weight', 'layers.1.bias', 'layers.1.weight', 'layers.2.bias', 'layers.2.weight']\n"
     ]
    },
    {
     "data": {
      "text/plain": [
       "torch.Size([250, 10, 23])"
      ]
     },
     "execution_count": 21,
     "metadata": {},
     "output_type": "execute_result"
    }
   ],
   "source": [
    "post_samples = mcmc.get_samples()\n",
    "\n",
    "keys = list(post_samples.keys())\n",
    "print(keys)\n",
    "\n",
    "post_samples[keys[1]].shape"
   ]
  },
  {
   "cell_type": "code",
   "execution_count": 3,
   "metadata": {},
   "outputs": [],
   "source": [
    "import pickle\n",
    "\n",
    "\n",
    "# # Save dictionary to a pickle file\n",
    "# with open('post_samples.pkl', 'wb') as f:\n",
    "#     pickle.dump(post_samples, f)"
   ]
  },
  {
   "cell_type": "code",
   "execution_count": 4,
   "metadata": {},
   "outputs": [],
   "source": [
    "# Load dictionary from the pickle file\n",
    "with open('post_samples.pkl', 'rb') as f:\n",
    "    loaded_samples = pickle.load(f)"
   ]
  },
  {
   "cell_type": "code",
   "execution_count": 24,
   "metadata": {},
   "outputs": [],
   "source": [
    "y_te = y_te.float()"
   ]
  },
  {
   "cell_type": "code",
   "execution_count": 18,
   "metadata": {},
   "outputs": [
    {
     "data": {
      "text/plain": [
       "{'obs': tensor([[0, 4, 0,  ..., 5, 1, 3],\n",
       "         [0, 4, 0,  ..., 5, 1, 3],\n",
       "         [0, 4, 0,  ..., 5, 1, 3],\n",
       "         ...,\n",
       "         [0, 4, 0,  ..., 5, 1, 3],\n",
       "         [0, 4, 1,  ..., 5, 1, 3],\n",
       "         [0, 4, 0,  ..., 5, 1, 3]])}"
      ]
     },
     "execution_count": 18,
     "metadata": {},
     "output_type": "execute_result"
    }
   ],
   "source": [
    "predictive(x_te)"
   ]
  },
  {
   "cell_type": "code",
   "execution_count": 29,
   "metadata": {},
   "outputs": [
    {
     "ename": "TypeError",
     "evalue": "BNN.forward() got an unexpected keyword argument 'posterior_samples'",
     "output_type": "error",
     "traceback": [
      "\u001b[1;31m---------------------------------------------------------------------------\u001b[0m",
      "\u001b[1;31mTypeError\u001b[0m                                 Traceback (most recent call last)",
      "Cell \u001b[1;32mIn[29], line 1\u001b[0m\n\u001b[1;32m----> 1\u001b[0m \u001b[43mmodel\u001b[49m\u001b[43m(\u001b[49m\u001b[43mx_te\u001b[49m\u001b[43m,\u001b[49m\u001b[43mposterior_samples\u001b[49m\u001b[43m \u001b[49m\u001b[38;5;241;43m=\u001b[39;49m\u001b[43m \u001b[49m\u001b[43mloaded_samples\u001b[49m\u001b[43m)\u001b[49m[\u001b[38;5;241m0\u001b[39m,:]\n",
      "File \u001b[1;32mc:\\Users\\peter\\AppData\\Local\\Programs\\Python\\Python311\\Lib\\site-packages\\pyro\\nn\\module.py:520\u001b[0m, in \u001b[0;36mPyroModule.__call__\u001b[1;34m(self, *args, **kwargs)\u001b[0m\n\u001b[0;32m    518\u001b[0m \u001b[38;5;28;01mdef\u001b[39;00m\u001b[38;5;250m \u001b[39m\u001b[38;5;21m__call__\u001b[39m(\u001b[38;5;28mself\u001b[39m, \u001b[38;5;241m*\u001b[39margs: Any, \u001b[38;5;241m*\u001b[39m\u001b[38;5;241m*\u001b[39mkwargs: Any) \u001b[38;5;241m-\u001b[39m\u001b[38;5;241m>\u001b[39m Any:\n\u001b[0;32m    519\u001b[0m     \u001b[38;5;28;01mwith\u001b[39;00m \u001b[38;5;28mself\u001b[39m\u001b[38;5;241m.\u001b[39m_pyro_context:\n\u001b[1;32m--> 520\u001b[0m         result \u001b[38;5;241m=\u001b[39m \u001b[38;5;28;43msuper\u001b[39;49m\u001b[43m(\u001b[49m\u001b[43m)\u001b[49m\u001b[38;5;241;43m.\u001b[39;49m\u001b[38;5;21;43m__call__\u001b[39;49m\u001b[43m(\u001b[49m\u001b[38;5;241;43m*\u001b[39;49m\u001b[43margs\u001b[49m\u001b[43m,\u001b[49m\u001b[43m \u001b[49m\u001b[38;5;241;43m*\u001b[39;49m\u001b[38;5;241;43m*\u001b[39;49m\u001b[43mkwargs\u001b[49m\u001b[43m)\u001b[49m\n\u001b[0;32m    521\u001b[0m     \u001b[38;5;28;01mif\u001b[39;00m (\n\u001b[0;32m    522\u001b[0m         pyro\u001b[38;5;241m.\u001b[39msettings\u001b[38;5;241m.\u001b[39mget(\u001b[38;5;124m\"\u001b[39m\u001b[38;5;124mvalidate_poutine\u001b[39m\u001b[38;5;124m\"\u001b[39m)\n\u001b[0;32m    523\u001b[0m         \u001b[38;5;129;01mand\u001b[39;00m \u001b[38;5;129;01mnot\u001b[39;00m \u001b[38;5;28mself\u001b[39m\u001b[38;5;241m.\u001b[39m_pyro_context\u001b[38;5;241m.\u001b[39mactive\n\u001b[0;32m    524\u001b[0m         \u001b[38;5;129;01mand\u001b[39;00m _is_module_local_param_enabled()\n\u001b[0;32m    525\u001b[0m     ):\n\u001b[0;32m    526\u001b[0m         \u001b[38;5;28mself\u001b[39m\u001b[38;5;241m.\u001b[39m_check_module_local_param_usage()\n",
      "File \u001b[1;32mc:\\Users\\peter\\AppData\\Local\\Programs\\Python\\Python311\\Lib\\site-packages\\torch\\nn\\modules\\module.py:1739\u001b[0m, in \u001b[0;36mModule._wrapped_call_impl\u001b[1;34m(self, *args, **kwargs)\u001b[0m\n\u001b[0;32m   1737\u001b[0m     \u001b[38;5;28;01mreturn\u001b[39;00m \u001b[38;5;28mself\u001b[39m\u001b[38;5;241m.\u001b[39m_compiled_call_impl(\u001b[38;5;241m*\u001b[39margs, \u001b[38;5;241m*\u001b[39m\u001b[38;5;241m*\u001b[39mkwargs)  \u001b[38;5;66;03m# type: ignore[misc]\u001b[39;00m\n\u001b[0;32m   1738\u001b[0m \u001b[38;5;28;01melse\u001b[39;00m:\n\u001b[1;32m-> 1739\u001b[0m     \u001b[38;5;28;01mreturn\u001b[39;00m \u001b[38;5;28;43mself\u001b[39;49m\u001b[38;5;241;43m.\u001b[39;49m\u001b[43m_call_impl\u001b[49m\u001b[43m(\u001b[49m\u001b[38;5;241;43m*\u001b[39;49m\u001b[43margs\u001b[49m\u001b[43m,\u001b[49m\u001b[43m \u001b[49m\u001b[38;5;241;43m*\u001b[39;49m\u001b[38;5;241;43m*\u001b[39;49m\u001b[43mkwargs\u001b[49m\u001b[43m)\u001b[49m\n",
      "File \u001b[1;32mc:\\Users\\peter\\AppData\\Local\\Programs\\Python\\Python311\\Lib\\site-packages\\torch\\nn\\modules\\module.py:1750\u001b[0m, in \u001b[0;36mModule._call_impl\u001b[1;34m(self, *args, **kwargs)\u001b[0m\n\u001b[0;32m   1745\u001b[0m \u001b[38;5;66;03m# If we don't have any hooks, we want to skip the rest of the logic in\u001b[39;00m\n\u001b[0;32m   1746\u001b[0m \u001b[38;5;66;03m# this function, and just call forward.\u001b[39;00m\n\u001b[0;32m   1747\u001b[0m \u001b[38;5;28;01mif\u001b[39;00m \u001b[38;5;129;01mnot\u001b[39;00m (\u001b[38;5;28mself\u001b[39m\u001b[38;5;241m.\u001b[39m_backward_hooks \u001b[38;5;129;01mor\u001b[39;00m \u001b[38;5;28mself\u001b[39m\u001b[38;5;241m.\u001b[39m_backward_pre_hooks \u001b[38;5;129;01mor\u001b[39;00m \u001b[38;5;28mself\u001b[39m\u001b[38;5;241m.\u001b[39m_forward_hooks \u001b[38;5;129;01mor\u001b[39;00m \u001b[38;5;28mself\u001b[39m\u001b[38;5;241m.\u001b[39m_forward_pre_hooks\n\u001b[0;32m   1748\u001b[0m         \u001b[38;5;129;01mor\u001b[39;00m _global_backward_pre_hooks \u001b[38;5;129;01mor\u001b[39;00m _global_backward_hooks\n\u001b[0;32m   1749\u001b[0m         \u001b[38;5;129;01mor\u001b[39;00m _global_forward_hooks \u001b[38;5;129;01mor\u001b[39;00m _global_forward_pre_hooks):\n\u001b[1;32m-> 1750\u001b[0m     \u001b[38;5;28;01mreturn\u001b[39;00m \u001b[43mforward_call\u001b[49m\u001b[43m(\u001b[49m\u001b[38;5;241;43m*\u001b[39;49m\u001b[43margs\u001b[49m\u001b[43m,\u001b[49m\u001b[43m \u001b[49m\u001b[38;5;241;43m*\u001b[39;49m\u001b[38;5;241;43m*\u001b[39;49m\u001b[43mkwargs\u001b[49m\u001b[43m)\u001b[49m\n\u001b[0;32m   1752\u001b[0m result \u001b[38;5;241m=\u001b[39m \u001b[38;5;28;01mNone\u001b[39;00m\n\u001b[0;32m   1753\u001b[0m called_always_called_hooks \u001b[38;5;241m=\u001b[39m \u001b[38;5;28mset\u001b[39m()\n",
      "\u001b[1;31mTypeError\u001b[0m: BNN.forward() got an unexpected keyword argument 'posterior_samples'"
     ]
    }
   ],
   "source": [
    "model(x_te,posterior_samples = loaded_samples)[0,:]"
   ]
  },
  {
   "cell_type": "code",
   "execution_count": 15,
   "metadata": {},
   "outputs": [
    {
     "ename": "RuntimeError",
     "evalue": "mean(): could not infer output dtype. Input dtype must be either a floating point or complex dtype. Got: Long",
     "output_type": "error",
     "traceback": [
      "\u001b[1;31m---------------------------------------------------------------------------\u001b[0m",
      "\u001b[1;31mRuntimeError\u001b[0m                              Traceback (most recent call last)",
      "Cell \u001b[1;32mIn[15], line 3\u001b[0m\n\u001b[0;32m      1\u001b[0m predictive \u001b[38;5;241m=\u001b[39m Predictive(model\u001b[38;5;241m=\u001b[39mmodel, posterior_samples\u001b[38;5;241m=\u001b[39mloaded_samples)\n\u001b[0;32m      2\u001b[0m preds \u001b[38;5;241m=\u001b[39m predictive(x_te)[\u001b[38;5;124m'\u001b[39m\u001b[38;5;124mobs\u001b[39m\u001b[38;5;124m'\u001b[39m]\n\u001b[1;32m----> 3\u001b[0m mean_preds \u001b[38;5;241m=\u001b[39m \u001b[43mpreds\u001b[49m\u001b[38;5;241;43m.\u001b[39;49m\u001b[43mmean\u001b[49m\u001b[43m(\u001b[49m\u001b[38;5;241;43m0\u001b[39;49m\u001b[43m)\u001b[49m\n\u001b[0;32m      4\u001b[0m loss \u001b[38;5;241m=\u001b[39m nn\u001b[38;5;241m.\u001b[39mNLLLoss()\n\u001b[0;32m      5\u001b[0m loss(mean_preds, y_te)\n",
      "\u001b[1;31mRuntimeError\u001b[0m: mean(): could not infer output dtype. Input dtype must be either a floating point or complex dtype. Got: Long"
     ]
    }
   ],
   "source": [
    "predictive = Predictive(model=model, posterior_samples=loaded_samples)\n",
    "preds = predictive(x_te)['obs']\n",
    "mean_preds = preds.mean(0)\n",
    "loss = nn.NLLLoss()\n",
    "loss(mean_preds, y_te)"
   ]
  },
  {
   "cell_type": "code",
   "execution_count": 24,
   "metadata": {},
   "outputs": [
    {
     "data": {
      "text/plain": [
       "tensor(0)"
      ]
     },
     "execution_count": 24,
     "metadata": {},
     "output_type": "execute_result"
    }
   ],
   "source": [
    "y_te[0]"
   ]
  },
  {
   "cell_type": "code",
   "execution_count": 27,
   "metadata": {},
   "outputs": [
    {
     "data": {
      "text/plain": [
       "tensor([[0.9480, 0.0000, 0.8240,  ..., 0.0000, 0.0000, 0.0000],\n",
       "        [0.0520, 0.0000, 0.1720,  ..., 0.1240, 0.9240, 0.0000],\n",
       "        [0.0000, 0.0000, 0.0000,  ..., 0.0000, 0.0000, 0.0200],\n",
       "        ...,\n",
       "        [0.0000, 0.9920, 0.0000,  ..., 0.0000, 0.0000, 0.0320],\n",
       "        [0.0000, 0.0000, 0.0040,  ..., 0.8760, 0.0760, 0.0000],\n",
       "        [0.0000, 0.0000, 0.0000,  ..., 0.0000, 0.0000, 0.0000]])"
      ]
     },
     "execution_count": 27,
     "metadata": {},
     "output_type": "execute_result"
    }
   ],
   "source": [
    "relative_frequencies = torch.zeros(7, 634)\n",
    "for j in range(preds.shape[1]):\n",
    "    # Count the occurrences of each label in column j\n",
    "    label_counts = torch.bincount(preds[:, j], minlength=7)\n",
    "    # Calculate the relative frequency by dividing by the total number of predictions (50)\n",
    "    relative_frequencies[:, j] = label_counts.float() / preds.shape[0]\n",
    "\n",
    "relative_frequencies"
   ]
  },
  {
   "cell_type": "code",
   "execution_count": null,
   "metadata": {},
   "outputs": [],
   "source": []
  },
  {
   "cell_type": "code",
   "execution_count": 89,
   "metadata": {},
   "outputs": [],
   "source": []
  },
  {
   "cell_type": "code",
   "execution_count": null,
   "metadata": {},
   "outputs": [],
   "source": []
  },
  {
   "cell_type": "code",
   "execution_count": 91,
   "metadata": {},
   "outputs": [],
   "source": []
  },
  {
   "cell_type": "code",
   "execution_count": 23,
   "metadata": {},
   "outputs": [],
   "source": [
    "import torch\n",
    "\n",
    "def get_network_outputs(net_samples, input_data):\n",
    "    \"\"\"\n",
    "    Computes the outputs of the neural network for each of the 250 sampled weights and biases.\n",
    "\n",
    "    Parameters:\n",
    "    - loaded_samples (dict): Dictionary with keys like 'layers.0.bias', 'layers.0.weight', etc.\n",
    "    - input_data (torch.Tensor): Input data to feed into the network (shape [batch_size, input_dim]).\n",
    "\n",
    "    Returns:\n",
    "    - outputs (torch.Tensor): Network outputs for each sample (shape [250, batch_size, output_dim]).\n",
    "    \"\"\"\n",
    "    # Initialize list to store outputs for all 250 samples\n",
    "    outputs = []\n",
    "\n",
    "    # Loop over each sample\n",
    "    for i in range(loaded_samples['layers.0.bias'].shape[0]):  # 250 samples\n",
    "        # Sample weights and biases\n",
    "        layer_0_weight = loaded_samples['layers.0.weight'][i]  # Shape: [10, 23]\n",
    "        layer_0_bias = loaded_samples['layers.0.bias'][i]      # Shape: [10]\n",
    "        layer_1_weight = loaded_samples['layers.1.weight'][i]  # Shape: [23, X] (replace X with next layer size)\n",
    "        layer_1_bias = loaded_samples['layers.1.bias'][i]      # Shape: [X] (same as layer_1_weight's output size)\n",
    "        layer_2_weight = loaded_samples['layers.2.weight'][i]  # Shape: [X, output_dim]\n",
    "        layer_2_bias = loaded_samples['layers.2.bias'][i]      # Shape: [output_dim]\n",
    "\n",
    "        # Forward pass through the network for this sample\n",
    "        x = input_data\n",
    "        x = torch.matmul(x, layer_0_weight.T) + layer_0_bias  # First layer: shape [batch_size, 10]\n",
    "        x = torch.relu(x)  # Activation function (ReLU)\n",
    "        x = torch.matmul(x, layer_1_weight.T) + layer_1_bias  # Second layer\n",
    "        x = torch.relu(x)  # Activation function (ReLU)\n",
    "        x = torch.matmul(x, layer_2_weight.T) + layer_2_bias  # Third layer\n",
    "        x = torch.softmax(x,dim=-1)\n",
    "        # Store the output for this sample\n",
    "        outputs.append(x)\n",
    "\n",
    "    # Stack all outputs into a tensor (shape: [250, batch_size, output_dim])\n",
    "    outputs = torch.stack(outputs)\n",
    "\n",
    "    return outputs\n"
   ]
  },
  {
   "cell_type": "code",
   "execution_count": 45,
   "metadata": {},
   "outputs": [],
   "source": [
    "preds = get_network_outputs(loaded_samples, x_te)"
   ]
  },
  {
   "cell_type": "code",
   "execution_count": 46,
   "metadata": {},
   "outputs": [
    {
     "data": {
      "text/plain": [
       "torch.Size([634, 7])"
      ]
     },
     "execution_count": 46,
     "metadata": {},
     "output_type": "execute_result"
    }
   ],
   "source": [
    "mean_preds = preds.mean(0)\n",
    "mean_preds.shape"
   ]
  },
  {
   "cell_type": "code",
   "execution_count": 47,
   "metadata": {},
   "outputs": [],
   "source": [
    "mean_preds_numpy = mean_preds.detach().numpy()"
   ]
  },
  {
   "cell_type": "code",
   "execution_count": 48,
   "metadata": {},
   "outputs": [],
   "source": [
    "df = pd.DataFrame(\n",
    "    mean_preds_numpy,  # Each column will be one of the 7 confidence values\n",
    "    columns=[f'confidence_{i}' for i in range(mean_preds.shape[1])]\n",
    ")\n",
    "df['true_label'] = y_te  # Add the true labels\n",
    "df.to_csv('obesity_preds_hmc.csv', index=False)"
   ]
  },
  {
   "cell_type": "code",
   "execution_count": 33,
   "metadata": {},
   "outputs": [],
   "source": [
    "df = pd.read_csv('obesity_preds_hmc.csv')\n",
    "plot_name = 'calibration_data_hmc'\n"
   ]
  },
  {
   "cell_type": "code",
   "execution_count": 34,
   "metadata": {},
   "outputs": [],
   "source": [
    "df_melted = df.melt(id_vars=[\"true_label\"], \n",
    "                    value_vars=[\"confidence_0\", \"confidence_1\", \"confidence_2\", \"confidence_3\", \n",
    "                                \"confidence_4\", \"confidence_5\", \"confidence_6\"], \n",
    "                    var_name=\"pred_label\", value_name=\"confidence\")\n",
    "\n",
    "# Extract the numerical part of the pred_label\n",
    "df_melted[\"pred_label\"] = df_melted[\"pred_label\"].str.extract(\"(\\d+)\").astype(int)\n",
    "\n",
    "# Reorder the columns to match the desired format\n",
    "df_final = df_melted[[\"pred_label\", \"true_label\", \"confidence\"]]"
   ]
  },
  {
   "cell_type": "code",
   "execution_count": 36,
   "metadata": {},
   "outputs": [],
   "source": [
    "y_true = df_final.true_label.values\n",
    "y_pred = df_final.pred_label.values\n",
    "y_conf = df_final.confidence.values"
   ]
  },
  {
   "cell_type": "code",
   "execution_count": 37,
   "metadata": {},
   "outputs": [],
   "source": [
    "# Override matplotlib default styling.\n",
    "# plt.style.use(\"seaborn\")\n",
    "\n",
    "plt.rc(\"font\", size=12)\n",
    "plt.rc(\"axes\", labelsize=12)\n",
    "plt.rc(\"xtick\", labelsize=12)\n",
    "plt.rc(\"ytick\", labelsize=12)\n",
    "plt.rc(\"legend\", fontsize=12)\n",
    "\n",
    "plt.rc(\"axes\", titlesize=16)\n",
    "plt.rc(\"figure\", titlesize=16)"
   ]
  },
  {
   "cell_type": "code",
   "execution_count": 38,
   "metadata": {},
   "outputs": [],
   "source": [
    "def compute_calibration(true_labels, pred_labels, confidences, num_bins=10):\n",
    "    \"\"\"Collects predictions into bins used to draw a reliability diagram.\n",
    "\n",
    "    Arguments:\n",
    "        true_labels: the true labels for the test examples\n",
    "        pred_labels: the predicted labels for the test examples\n",
    "        confidences: the predicted confidences for the test examples\n",
    "        num_bins: number of bins\n",
    "\n",
    "    The true_labels, pred_labels, confidences arguments must be NumPy arrays;\n",
    "    pred_labels and true_labels may contain numeric or string labels.\n",
    "\n",
    "    For a multi-class model, the predicted label and confidence should be those\n",
    "    of the highest scoring class.\n",
    "\n",
    "    Returns a dictionary containing the following NumPy arrays:\n",
    "        accuracies: the average accuracy for each bin\n",
    "        confidences: the average confidence for each bin\n",
    "        counts: the number of examples in each bin\n",
    "        bins: the confidence thresholds for each bin\n",
    "        avg_accuracy: the accuracy over the entire test set\n",
    "        avg_confidence: the average confidence over the entire test set\n",
    "        expected_calibration_error: a weighted average of all calibration gaps\n",
    "        max_calibration_error: the largest calibration gap across all bins\n",
    "    \"\"\"\n",
    "    assert(len(confidences) == len(pred_labels))\n",
    "    assert(len(confidences) == len(true_labels))\n",
    "    assert(num_bins > 0)\n",
    "\n",
    "    bin_size = 1.0 / num_bins\n",
    "    bins = np.linspace(0.0, 1.0, num_bins + 1)\n",
    "    indices = np.digitize(confidences, bins, right=True)\n",
    "\n",
    "    bin_accuracies = np.zeros(num_bins, dtype=np.float64)\n",
    "    bin_confidences = np.zeros(num_bins, dtype=np.float64)\n",
    "    bin_counts = np.zeros(num_bins, dtype=int)\n",
    "\n",
    "    for b in range(num_bins):\n",
    "        selected = np.where(indices == b + 1)[0]\n",
    "        if len(selected) > 0:\n",
    "            bin_accuracies[b] = np.mean(true_labels[selected] == pred_labels[selected])\n",
    "            bin_confidences[b] = np.mean(confidences[selected])\n",
    "            bin_counts[b] = len(selected)\n",
    "\n",
    "    avg_acc = np.sum(bin_accuracies * bin_counts) / np.sum(bin_counts)\n",
    "    avg_conf = np.sum(bin_confidences * bin_counts) / np.sum(bin_counts)\n",
    "\n",
    "    gaps = np.abs(bin_accuracies - bin_confidences)\n",
    "    ece = np.sum(gaps * bin_counts) / np.sum(bin_counts)\n",
    "    mce = np.max(gaps)\n",
    "\n",
    "    return { \"accuracies\": bin_accuracies, \n",
    "             \"confidences\": bin_confidences, \n",
    "             \"counts\": bin_counts, \n",
    "             \"bins\": bins,\n",
    "             \"avg_accuracy\": avg_acc,\n",
    "             \"avg_confidence\": avg_conf,\n",
    "             \"expected_calibration_error\": ece,\n",
    "             \"max_calibration_error\": mce }"
   ]
  },
  {
   "cell_type": "code",
   "execution_count": 39,
   "metadata": {},
   "outputs": [],
   "source": [
    "def reliability_diagram(true_labels, pred_labels, confidences, num_bins=10,\n",
    "                        draw_ece=True, draw_bin_importance=False, \n",
    "                        draw_averages=True, title=\"Reliability Diagram\", \n",
    "                        figsize=(6, 6), dpi=72, return_fig=False):\n",
    "    \"\"\"Draws a reliability diagram and confidence histogram in a single plot.\n",
    "    \n",
    "    First, the model's predictions are divided up into bins based on their\n",
    "    confidence scores.\n",
    "\n",
    "    The reliability diagram shows the gap between average accuracy and average \n",
    "    confidence in each bin. These are the red bars.\n",
    "\n",
    "    The black line is the accuracy, the other end of the bar is the confidence.\n",
    "\n",
    "    Ideally, there is no gap and the black line is on the dotted diagonal.\n",
    "    In that case, the model is properly calibrated and we can interpret the\n",
    "    confidence scores as probabilities.\n",
    "\n",
    "    The confidence histogram visualizes how many examples are in each bin. \n",
    "    This is useful for judging how much each bin contributes to the calibration\n",
    "    error.\n",
    "\n",
    "    The confidence histogram also shows the overall accuracy and confidence. \n",
    "    The closer these two lines are together, the better the calibration.\n",
    "    \n",
    "    The ECE or Expected Calibration Error is a summary statistic that gives the\n",
    "    difference in expectation between confidence and accuracy. In other words,\n",
    "    it's a weighted average of the gaps across all bins. A lower ECE is better.\n",
    "\n",
    "    Arguments:\n",
    "        true_labels: the true labels for the test examples\n",
    "        pred_labels: the predicted labels for the test examples\n",
    "        confidences: the predicted confidences for the test examples\n",
    "        num_bins: number of bins\n",
    "        draw_ece: whether to include the Expected Calibration Error\n",
    "        draw_bin_importance: whether to represent how much each bin contributes\n",
    "            to the total accuracy: False, \"alpha\", \"widths\"\n",
    "        draw_averages: whether to draw the overall accuracy and confidence in\n",
    "            the confidence histogram\n",
    "        title: optional title for the plot\n",
    "        figsize: setting for matplotlib; height is ignored\n",
    "        dpi: setting for matplotlib\n",
    "        return_fig: if True, returns the matplotlib Figure object\n",
    "    \"\"\"\n",
    "    bin_data = compute_calibration(true_labels, pred_labels, confidences, num_bins)\n",
    "    return _reliability_diagram_combined(bin_data, draw_ece, draw_bin_importance,\n",
    "                                         draw_averages, title, figsize=figsize, \n",
    "                                         dpi=dpi, return_fig=return_fig)\n"
   ]
  },
  {
   "cell_type": "code",
   "execution_count": 40,
   "metadata": {},
   "outputs": [],
   "source": [
    "def _reliability_diagram_combined(bin_data, \n",
    "                                  draw_ece, draw_bin_importance, draw_averages, \n",
    "                                  title, figsize, dpi, return_fig):\n",
    "    \"\"\"Draws a reliability diagram and confidence histogram using the output\n",
    "    from compute_calibration().\"\"\"\n",
    "    figsize = (figsize[0], figsize[0] * 1.4)\n",
    "\n",
    "    fig, ax = plt.subplots(nrows=2, ncols=1, sharex=True, figsize=figsize, dpi=dpi, \n",
    "                           gridspec_kw={\"height_ratios\": [4, 1]})\n",
    "\n",
    "    plt.tight_layout()\n",
    "    plt.subplots_adjust(hspace=-0.1)\n",
    "\n",
    "    _reliability_diagram_subplot(ax[0], bin_data, draw_ece, draw_bin_importance, \n",
    "                                 title=title, xlabel=\"\")\n",
    "\n",
    "    # Draw the confidence histogram upside down.\n",
    "    orig_counts = bin_data[\"counts\"]\n",
    "    bin_data[\"counts\"] = -bin_data[\"counts\"]\n",
    "    _confidence_histogram_subplot(ax[1], bin_data, draw_averages, title=\"\")\n",
    "    bin_data[\"counts\"] = orig_counts\n",
    "\n",
    "    # Also negate the ticks for the upside-down histogram.\n",
    "    new_ticks = np.abs(ax[1].get_yticks()).astype(int)\n",
    "    ax[1].set_yticklabels(new_ticks)    \n",
    "\n",
    "    plt.show()\n",
    "\n",
    "    if return_fig: return fig"
   ]
  },
  {
   "cell_type": "code",
   "execution_count": 41,
   "metadata": {},
   "outputs": [],
   "source": [
    "def _reliability_diagram_subplot(ax, bin_data, \n",
    "                                 draw_ece=True, \n",
    "                                 draw_bin_importance=False,\n",
    "                                 title=\"Reliability Diagram\", \n",
    "                                 xlabel=\"Confidence\", \n",
    "                                 ylabel=\"Expected Accuracy\"):\n",
    "    \"\"\"Draws a reliability diagram into a subplot.\"\"\"\n",
    "    accuracies = bin_data[\"accuracies\"]\n",
    "    confidences = bin_data[\"confidences\"]\n",
    "    counts = bin_data[\"counts\"]\n",
    "    bins = bin_data[\"bins\"]\n",
    "\n",
    "    bin_size = 1.0 / len(counts)\n",
    "    positions = bins[:-1] + bin_size/2.0\n",
    "\n",
    "    widths = bin_size\n",
    "    alphas = 0.3\n",
    "    min_count = np.min(counts)\n",
    "    max_count = np.max(counts)\n",
    "    normalized_counts = (counts - min_count) / (max_count - min_count)\n",
    "\n",
    "    if draw_bin_importance == \"alpha\":\n",
    "        alphas = 0.2 + 0.8*normalized_counts\n",
    "    elif draw_bin_importance == \"width\":\n",
    "        widths = 0.1*bin_size + 0.9*bin_size*normalized_counts\n",
    "\n",
    "    colors = np.zeros((len(counts), 4))\n",
    "    colors[:, 0] = 240 / 255.\n",
    "    colors[:, 1] = 60 / 255.\n",
    "    colors[:, 2] = 60 / 255.\n",
    "    colors[:, 3] = alphas\n",
    "\n",
    "    gap_plt = ax.bar(positions, np.abs(accuracies - confidences), \n",
    "                     bottom=np.minimum(accuracies, confidences), width=widths,\n",
    "                     edgecolor=colors, color=colors, linewidth=1, label=\"Gap\")\n",
    "\n",
    "    acc_plt = ax.bar(positions, 0, bottom=accuracies, width=widths,\n",
    "                     edgecolor=\"black\", color=\"black\", alpha=1.0, linewidth=3,\n",
    "                     label=\"Accuracy\")\n",
    "\n",
    "    ax.set_aspect(\"equal\")\n",
    "    ax.plot([0,1], [0,1], linestyle = \"--\", color=\"gray\")\n",
    "    \n",
    "    if draw_ece:\n",
    "        ece = (bin_data[\"expected_calibration_error\"] * 100)\n",
    "        ax.text(0.98, 0.02, \"ECE=%.2f\" % ece, color=\"black\", \n",
    "                ha=\"right\", va=\"bottom\", transform=ax.transAxes)\n",
    "\n",
    "    ax.set_xlim(0, 1)\n",
    "    ax.set_ylim(0, 1)\n",
    "    #ax.set_xticks(bins)\n",
    "\n",
    "    ax.set_title(title)\n",
    "    ax.set_xlabel(xlabel)\n",
    "    ax.set_ylabel(ylabel)\n",
    "\n",
    "    ax.legend(handles=[gap_plt, acc_plt])\n"
   ]
  },
  {
   "cell_type": "code",
   "execution_count": 42,
   "metadata": {},
   "outputs": [],
   "source": [
    "\n",
    "def _confidence_histogram_subplot(ax, bin_data, \n",
    "                                  draw_averages=True,\n",
    "                                  title=\"Examples per bin\", \n",
    "                                  xlabel=\"Confidence\",\n",
    "                                  ylabel=\"Count\"):\n",
    "    \"\"\"Draws a confidence histogram into a subplot.\"\"\"\n",
    "    counts = bin_data[\"counts\"]\n",
    "    bins = bin_data[\"bins\"]\n",
    "\n",
    "    bin_size = 1.0 / len(counts)\n",
    "    positions = bins[:-1] + bin_size/2.0\n",
    "\n",
    "    ax.bar(positions, counts, width=bin_size * 0.9)\n",
    "   \n",
    "    ax.set_xlim(0, 1)\n",
    "    ax.set_title(title)\n",
    "    ax.set_xlabel(xlabel)\n",
    "    ax.set_ylabel(ylabel)\n",
    "\n",
    "    if draw_averages:\n",
    "        acc_plt = ax.axvline(x=bin_data[\"avg_accuracy\"], ls=\"solid\", lw=3, \n",
    "                             c=\"black\", label=\"Accuracy\")\n",
    "        conf_plt = ax.axvline(x=bin_data[\"avg_confidence\"], ls=\"dotted\", lw=3, \n",
    "                              c=\"#444\", label=\"Avg. confidence\")\n",
    "        ax.legend(handles=[acc_plt, conf_plt])"
   ]
  },
  {
   "cell_type": "code",
   "execution_count": 43,
   "metadata": {},
   "outputs": [
    {
     "name": "stderr",
     "output_type": "stream",
     "text": [
      "C:\\Users\\peter\\AppData\\Local\\Temp\\ipykernel_20156\\1827701276.py:25: UserWarning: set_ticklabels() should only be used with a fixed number of ticks, i.e. after set_ticks() or using a FixedLocator.\n",
      "  ax[1].set_yticklabels(new_ticks)\n"
     ]
    },
    {
     "data": {
      "image/png": "[encoded data removed]",
      "text/plain": [
       "<Figure size 600x840 with 2 Axes>"
      ]
     },
     "metadata": {},
     "output_type": "display_data"
    }
   ],
   "source": [
    "title = \"\\n\".join(plot_name.split())\n",
    "\n",
    "fig = reliability_diagram(y_true, y_pred, y_conf, num_bins=10, draw_ece=True,\n",
    "                          draw_bin_importance=\"alpha\", draw_averages=True,\n",
    "                          title=title, figsize=(6, 6), dpi=100, \n",
    "                          return_fig=True)"
   ]
  },
  {
   "cell_type": "code",
   "execution_count": 49,
   "metadata": {},
   "outputs": [
    {
     "data": {
      "text/plain": [
       "tensor(0.2131)"
      ]
     },
     "execution_count": 49,
     "metadata": {},
     "output_type": "execute_result"
    }
   ],
   "source": [
    "loss = nn.NLLLoss()\n",
    "loss(torch.log(mean_preds),y_te)"
   ]
  },
  {
   "cell_type": "code",
   "execution_count": null,
   "metadata": {},
   "outputs": [],
   "source": []
  },
  {
   "cell_type": "code",
   "execution_count": null,
   "metadata": {},
   "outputs": [],
   "source": []
  },
  {
   "cell_type": "code",
   "execution_count": null,
   "metadata": {},
   "outputs": [],
   "source": []
  },
  {
   "cell_type": "code",
   "execution_count": null,
   "metadata": {},
   "outputs": [],
   "source": []
  },
  {
   "cell_type": "code",
   "execution_count": null,
   "metadata": {},
   "outputs": [],
   "source": []
  }
 ],
 "metadata": {
  "kernelspec": {
   "display_name": "Python 3",
   "language": "python",
   "name": "python3"
  },
  "language_info": {
   "codemirror_mode": {
    "name": "ipython",
    "version": 3
   },
   "file_extension": ".py",
   "mimetype": "text/x-python",
   "name": "python",
   "nbconvert_exporter": "python",
   "pygments_lexer": "ipython3",
   "version": "3.11.0"
  }
 },
 "nbformat": 4,
 "nbformat_minor": 2
}
