{
 "cells": [
  {
   "cell_type": "code",
   "execution_count": null,
   "metadata": {},
   "outputs": [],
   "source": []
  },
  {
   "cell_type": "code",
   "execution_count": null,
   "metadata": {},
   "outputs": [],
   "source": []
  },
  {
   "cell_type": "code",
   "execution_count": 8,
   "metadata": {},
   "outputs": [
    {
     "name": "stdout",
     "output_type": "stream",
     "text": [
      "{'uci_id': 544, 'name': 'Estimation of Obesity Levels Based On Eating Habits and Physical Condition ', 'repository_url': 'https://archive.ics.uci.edu/dataset/544/estimation+of+obesity+levels+based+on+eating+habits+and+physical+condition', 'data_url': 'https://archive.ics.uci.edu/static/public/544/data.csv', 'abstract': 'This dataset include data for the estimation of obesity levels in individuals from the countries of Mexico, Peru and Colombia, based on their eating habits and physical condition. ', 'area': 'Health and Medicine', 'tasks': ['Classification', 'Regression', 'Clustering'], 'characteristics': ['Multivariate'], 'num_instances': 2111, 'num_features': 16, 'feature_types': ['Integer'], 'demographics': ['Gender', 'Age'], 'target_col': ['NObeyesdad'], 'index_col': None, 'has_missing_values': 'no', 'missing_values_symbol': None, 'year_of_dataset_creation': 2019, 'last_updated': 'Tue Sep 10 2024', 'dataset_doi': '10.24432/C5H31Z', 'creators': [], 'intro_paper': {'ID': 358, 'type': 'NATIVE', 'title': 'Dataset for estimation of obesity levels based on eating habits and physical condition in individuals from Colombia, Peru and Mexico', 'authors': 'Fabio Mendoza Palechor, Alexis De la Hoz Manotas', 'venue': 'Data in Brief', 'year': 2019, 'journal': None, 'DOI': '10.1016/j.dib.2019.104344', 'URL': 'https://www.semanticscholar.org/paper/35b40bacd2ffa9370885b7a3004d88995fd1d011', 'sha': None, 'corpus': None, 'arxiv': None, 'mag': None, 'acl': None, 'pmid': None, 'pmcid': None}, 'additional_info': {'summary': 'This dataset include data for the estimation of obesity levels in individuals from the countries of Mexico, Peru and Colombia, based on their eating habits and physical condition. The data contains 17 attributes and 2111 records, the records are labeled with the class variable NObesity (Obesity Level), that allows classification of the data using the values of Insufficient Weight, Normal Weight, Overweight Level I, Overweight Level II, Obesity Type I, Obesity Type II and Obesity Type III. 77% of the data was generated synthetically using the Weka tool and the SMOTE filter, 23% of the data was collected directly from users through a web platform.', 'purpose': None, 'funded_by': None, 'instances_represent': None, 'recommended_data_splits': None, 'sensitive_data': None, 'preprocessing_description': None, 'variable_info': 'Read the article (https://doi.org/10.1016/j.dib.2019.104344) to see the description of the attributes.', 'citation': None}}\n",
      "                              name     role         type demographic  \\\n",
      "0                           Gender  Feature  Categorical      Gender   \n",
      "1                              Age  Feature   Continuous         Age   \n",
      "2                           Height  Feature   Continuous        None   \n",
      "3                           Weight  Feature   Continuous        None   \n",
      "4   family_history_with_overweight  Feature       Binary        None   \n",
      "5                             FAVC  Feature       Binary        None   \n",
      "6                             FCVC  Feature      Integer        None   \n",
      "7                              NCP  Feature   Continuous        None   \n",
      "8                             CAEC  Feature  Categorical        None   \n",
      "9                            SMOKE  Feature       Binary        None   \n",
      "10                            CH2O  Feature   Continuous        None   \n",
      "11                             SCC  Feature       Binary        None   \n",
      "12                             FAF  Feature   Continuous        None   \n",
      "13                             TUE  Feature      Integer        None   \n",
      "14                            CALC  Feature  Categorical        None   \n",
      "15                          MTRANS  Feature  Categorical        None   \n",
      "16                      NObeyesdad   Target  Categorical        None   \n",
      "\n",
      "                                          description units missing_values  \n",
      "0                                                None  None             no  \n",
      "1                                                None  None             no  \n",
      "2                                                None  None             no  \n",
      "3                                                None  None             no  \n",
      "4   Has a family member suffered or suffers from o...  None             no  \n",
      "5            Do you eat high caloric food frequently?  None             no  \n",
      "6        Do you usually eat vegetables in your meals?  None             no  \n",
      "7              How many main meals do you have daily?  None             no  \n",
      "8                  Do you eat any food between meals?  None             no  \n",
      "9                                       Do you smoke?  None             no  \n",
      "10                 How much water do you drink daily?  None             no  \n",
      "11         Do you monitor the calories you eat daily?  None             no  \n",
      "12           How often do you have physical activity?  None             no  \n",
      "13  How much time do you use technological devices...  None             no  \n",
      "14                    How often do you drink alcohol?  None             no  \n",
      "15           Which transportation do you usually use?  None             no  \n",
      "16                                      Obesity level  None             no  \n"
     ]
    }
   ],
   "source": [
    "from ucimlrepo import fetch_ucirepo \n",
    "\n",
    "# fetch dataset \n",
    "estimation_of_obesity_levels_based_on_eating_habits_and_physical_condition = fetch_ucirepo(id=544) \n",
    "  \n",
    "# data (as pandas dataframes) \n",
    "X = estimation_of_obesity_levels_based_on_eating_habits_and_physical_condition.data.features \n",
    "y = estimation_of_obesity_levels_based_on_eating_habits_and_physical_condition.data.targets.copy() \n",
    "  \n",
    "# metadata \n",
    "print(estimation_of_obesity_levels_based_on_eating_habits_and_physical_condition.metadata) \n",
    "  \n",
    "# variable information \n",
    "print(estimation_of_obesity_levels_based_on_eating_habits_and_physical_condition.variables) \n"
   ]
  },
  {
   "cell_type": "code",
   "execution_count": 9,
   "metadata": {},
   "outputs": [],
   "source": [
    "import pandas as pd\n",
    "import numpy as np\n",
    "import torch\n",
    "from torch import nn\n",
    "import matplotlib.pyplot as plt\n",
    "from sklearn.model_selection import train_test_split\n",
    "from tqdm import tqdm\n",
    "import pyro\n",
    "import pyro.distributions as dist\n",
    "from pyro.nn import PyroModule, PyroSample\n",
    "import torch.nn as nn\n",
    "\n",
    "from pyro.infer import MCMC, NUTS\n",
    "from pyro.infer import Predictive"
   ]
  },
  {
   "cell_type": "code",
   "execution_count": 10,
   "metadata": {},
   "outputs": [],
   "source": [
    "categorical_features = ['Gender', 'family_history_with_overweight', 'FAVC', 'CAEC', 'SMOKE', 'SCC','CALC','MTRANS']\n",
    "# One-hot encode categorical features, dropping the first category\n",
    "X_encoded = pd.get_dummies(X, columns=categorical_features, drop_first=True)\n",
    "X_encoded = X_encoded.astype({col: int for col in X_encoded.select_dtypes('bool').columns})\n",
    "\n",
    "# Convert X_encoded to a PyTorch tensor\n",
    "X_tensor = torch.tensor(X_encoded.values, dtype=torch.float32)\n"
   ]
  },
  {
   "cell_type": "code",
   "execution_count": 11,
   "metadata": {},
   "outputs": [],
   "source": [
    "y['NObeyesdad'] = y['NObeyesdad'].astype('category').cat.codes\n",
    "\n",
    "# Convert to tensor\n",
    "y_tensor = torch.tensor(y['NObeyesdad'].to_numpy(), dtype=torch.long)"
   ]
  },
  {
   "cell_type": "code",
   "execution_count": 12,
   "metadata": {},
   "outputs": [],
   "source": [
    "x_tr, x_te, y_tr, y_te = train_test_split(X_tensor, y_tensor, test_size=0.3, random_state=42)"
   ]
  },
  {
   "cell_type": "code",
   "execution_count": 13,
   "metadata": {},
   "outputs": [],
   "source": [
    "class BNN(PyroModule):\n",
    "    def __init__(self, in_dim=1, out_dim=1, hid_dim=10, n_hid_layers=2, prior_scale=5.):\n",
    "        super().__init__()\n",
    "        self.in_dim = in_dim\n",
    "\n",
    "        self.activation = nn.ReLU()  # could also be ReLU or LeakyReLU\n",
    "        assert in_dim > 0 and out_dim > 0 and hid_dim > 0 and n_hid_layers > 0  # make sure the dimensions are valid\n",
    "\n",
    "        # Define the layer sizes and the PyroModule layer list\n",
    "        self.layer_sizes = [in_dim] + n_hid_layers * [hid_dim] + [out_dim]\n",
    "        layer_list = [PyroModule[nn.Linear](self.layer_sizes[idx - 1], self.layer_sizes[idx]) for idx in\n",
    "                      range(1, len(self.layer_sizes))]\n",
    "        self.layers = PyroModule[torch.nn.ModuleList](layer_list)\n",
    "\n",
    "        for layer_idx, layer in enumerate(self.layers):\n",
    "            layer.weight = PyroSample(dist.Normal(0., prior_scale * np.sqrt(2 / self.layer_sizes[layer_idx])).expand(\n",
    "                [self.layer_sizes[layer_idx + 1], self.layer_sizes[layer_idx]]).to_event(2))\n",
    "            layer.bias = PyroSample(dist.Normal(0., prior_scale).expand([self.layer_sizes[layer_idx + 1]]).to_event(1))\n",
    "\n",
    "    def forward(self, x, y=None):\n",
    "        x = x.reshape(-1, self.in_dim)\n",
    "        x = self.activation(self.layers[0](x))  # input --> hidden\n",
    "        for layer in self.layers[1:-1]:\n",
    "            x = self.activation(layer(x))  # hidden --> hidden\n",
    "        x = self.layers[-1](x).squeeze()  # hidden --> output\n",
    "        x = torch.softmax(x, dim=1) # softmax activation\n",
    "        \n",
    "        with pyro.plate(\"data\", x.shape[0]):\n",
    "            obs = pyro.sample(\"obs\", dist.Categorical(x), obs=y)\n",
    "        return x"
   ]
  },
  {
   "cell_type": "code",
   "execution_count": null,
   "metadata": {},
   "outputs": [
    {
     "name": "stderr",
     "output_type": "stream",
     "text": [
      "Sample: 100%|██████████| 25000/25000 [8:50:59,  1.27s/it, step size=4.39e-04, acc. prob=0.937]\n"
     ]
    }
   ],
   "source": [
    "# Define Hamiltonian Monte Carlo (HMC) kernel\n",
    "# NUTS = \"No-U-Turn Sampler\" (https://arxiv.org/abs/1111.4246), gives HMC an adaptive step size\n",
    "model = BNN(in_dim = x_tr.shape[1], out_dim = 7, hid_dim=10, n_hid_layers=2, prior_scale=1)\n",
    "#in_dim=1, out_dim=1, hid_dim=10, n_hid_layers=5, prior_scale=5.\n",
    "\n",
    "nuts_kernel = NUTS(model, jit_compile=False)  # jit_compile=True is faster but requires PyTorch 1.6+\n",
    "\n",
    "# define model and data\n",
    "\n",
    "# define MCMC sampler\n",
    "nuts_kernel = NUTS(model, jit_compile=False)\n",
    "mcmc = MCMC(nuts_kernel, num_samples=10000, warmup_steps=15000)\n",
    "mcmc.run(x_tr, y_tr)\n"
   ]
  },
  {
   "cell_type": "code",
   "execution_count": 15,
   "metadata": {},
   "outputs": [
    {
     "name": "stdout",
     "output_type": "stream",
     "text": [
      "['layers.0.bias', 'layers.0.weight', 'layers.1.bias', 'layers.1.weight', 'layers.2.bias', 'layers.2.weight']\n"
     ]
    },
    {
     "data": {
      "text/plain": [
       "torch.Size([10000, 10, 23])"
      ]
     },
     "execution_count": 15,
     "metadata": {},
     "output_type": "execute_result"
    }
   ],
   "source": [
    "post_samples = mcmc.get_samples()\n",
    "\n",
    "keys = list(post_samples.keys())\n",
    "print(keys)\n",
    "\n",
    "post_samples[keys[1]].shape"
   ]
  },
  {
   "cell_type": "code",
   "execution_count": 16,
   "metadata": {},
   "outputs": [
    {
     "data": {
      "text/plain": [
       "tensor([2.2508e-09, 7.1756e-10, 1.7541e-05, 9.5555e-01, 4.7436e-08, 4.4424e-02,\n",
       "        1.0686e-05])"
      ]
     },
     "execution_count": 16,
     "metadata": {},
     "output_type": "execute_result"
    }
   ],
   "source": [
    "model.forward(x_te)[1,]"
   ]
  },
  {
   "cell_type": "code",
   "execution_count": null,
   "metadata": {},
   "outputs": [],
   "source": [
    "import pickle\n",
    "\n",
    "\n",
    "# # Save dictionary to a pickle file\n",
    "# with open('post_samples.pkl', 'wb') as f:\n",
    "#     pickle.dump(post_samples, f)\n"
   ]
  },
  {
   "cell_type": "code",
   "execution_count": 67,
   "metadata": {},
   "outputs": [],
   "source": [
    "# Load dictionary from the pickle file\n",
    "import pickle\n",
    "with open('post_samples.pkl', 'rb') as f:\n",
    "    loaded_samples = pickle.load(f)"
   ]
  },
  {
   "cell_type": "code",
   "execution_count": 36,
   "metadata": {},
   "outputs": [],
   "source": [
    "y_te = y_te.float()"
   ]
  },
  {
   "cell_type": "code",
   "execution_count": 71,
   "metadata": {},
   "outputs": [
    {
     "data": {
      "text/plain": [
       "torch.Size([10000, 10])"
      ]
     },
     "execution_count": 72,
     "metadata": {},
     "output_type": "execute_result"
    }
   ],
   "source": [
    "loaded_samples['layers.0.bias'].shape"
   ]
  },
  {
   "cell_type": "code",
   "execution_count": 37,
   "metadata": {},
   "outputs": [],
   "source": [
    "import torch\n",
    "\n",
    "def get_network_outputs(loaded_samples, input_data):\n",
    "    \"\"\"\n",
    "    Computes the outputs of the neural network for each of the 250 sampled weights and biases.\n",
    "\n",
    "    Parameters:\n",
    "    - loaded_samples (dict): Dictionary with keys like 'layers.0.bias', 'layers.0.weight', etc.\n",
    "    - input_data (torch.Tensor): Input data to feed into the network (shape [batch_size, input_dim]).\n",
    "\n",
    "    Returns:\n",
    "    - outputs (torch.Tensor): Network outputs for each sample (shape [250, batch_size, output_dim]).\n",
    "    \"\"\"\n",
    "    # Initialize list to store outputs for all 250 samples\n",
    "    outputs = []\n",
    "\n",
    "    # Loop over each sample\n",
    "    for i in range(loaded_samples['layers.0.bias'].shape[0]):  # 250 samples\n",
    "        # Sample weights and biases\n",
    "        layer_0_weight = loaded_samples['layers.0.weight'][i]  # Shape: [10, 23]\n",
    "        layer_0_bias = loaded_samples['layers.0.bias'][i]      # Shape: [23]\n",
    "        layer_1_weight = loaded_samples['layers.1.weight'][i]  # Shape: [23, X] (replace X with next layer size)\n",
    "        layer_1_bias = loaded_samples['layers.1.bias'][i]      # Shape: [X] (same as layer_1_weight's output size)\n",
    "        layer_2_weight = loaded_samples['layers.2.weight'][i]  # Shape: [X, output_dim]\n",
    "        layer_2_bias = loaded_samples['layers.2.bias'][i]      # Shape: [output_dim]\n",
    "\n",
    "        # Forward pass through the network for this sample\n",
    "        x = input_data\n",
    "        x = torch.matmul(x, layer_0_weight.T) + layer_0_bias  # First layer: shape [batch_size, 23]\n",
    "        x = torch.relu(x)  # Activation function (ReLU)\n",
    "        x = torch.matmul(x, layer_1_weight.T) + layer_1_bias  # Second layer\n",
    "        x = torch.relu(x)  # Activation function (ReLU)\n",
    "        x = torch.matmul(x, layer_2_weight.T) + layer_2_bias  # Third layer\n",
    "        x = torch.softmax(x,dim=1)\n",
    "        # Store the output for this sample\n",
    "        outputs.append(x)\n",
    "\n",
    "    # Stack all outputs into a tensor (shape: [250, batch_size, output_dim])\n",
    "    outputs = torch.stack(outputs)\n",
    "\n",
    "    return outputs\n"
   ]
  },
  {
   "cell_type": "code",
   "execution_count": 38,
   "metadata": {},
   "outputs": [],
   "source": [
    "y_preds = get_network_outputs(loaded_samples,x_te)"
   ]
  },
  {
   "cell_type": "code",
   "execution_count": 42,
   "metadata": {},
   "outputs": [],
   "source": [
    "mean_preds = y_preds.mean(0)"
   ]
  },
  {
   "cell_type": "code",
   "execution_count": 43,
   "metadata": {},
   "outputs": [
    {
     "name": "stdout",
     "output_type": "stream",
     "text": [
      "Accuracy: 92.74447949526814%\n",
      "Percentage Error: 7.255520504731862%\n"
     ]
    }
   ],
   "source": [
    "max_preds = torch.argmax(mean_preds, dim=1)\n",
    "\n",
    "# Calculate the percentage of correct predictions\n",
    "correct_predictions = torch.sum(max_preds == y_te)\n",
    "percentage_correct = (correct_predictions.item() / len(y_te)) * 100\n",
    "\n",
    "print(f\"Accuracy: {percentage_correct}%\")\n",
    "print(f\"Percentage Error: {100 - percentage_correct}%\")"
   ]
  },
  {
   "cell_type": "code",
   "execution_count": null,
   "metadata": {},
   "outputs": [],
   "source": []
  },
  {
   "cell_type": "code",
   "execution_count": 44,
   "metadata": {},
   "outputs": [
    {
     "data": {
      "text/html": [
       "<div>\n",
       "<style scoped>\n",
       "    .dataframe tbody tr th:only-of-type {\n",
       "        vertical-align: middle;\n",
       "    }\n",
       "\n",
       "    .dataframe tbody tr th {\n",
       "        vertical-align: top;\n",
       "    }\n",
       "\n",
       "    .dataframe thead th {\n",
       "        text-align: right;\n",
       "    }\n",
       "</style>\n",
       "<table border=\"1\" class=\"dataframe\">\n",
       "  <thead>\n",
       "    <tr style=\"text-align: right;\">\n",
       "      <th></th>\n",
       "      <th>Age</th>\n",
       "      <th>Height</th>\n",
       "      <th>Weight</th>\n",
       "      <th>FCVC</th>\n",
       "      <th>NCP</th>\n",
       "      <th>CH2O</th>\n",
       "      <th>FAF</th>\n",
       "      <th>TUE</th>\n",
       "      <th>Gender_Male</th>\n",
       "      <th>family_history_with_overweight_yes</th>\n",
       "      <th>...</th>\n",
       "      <th>CAEC_no</th>\n",
       "      <th>SMOKE_yes</th>\n",
       "      <th>SCC_yes</th>\n",
       "      <th>CALC_Frequently</th>\n",
       "      <th>CALC_Sometimes</th>\n",
       "      <th>CALC_no</th>\n",
       "      <th>MTRANS_Bike</th>\n",
       "      <th>MTRANS_Motorbike</th>\n",
       "      <th>MTRANS_Public_Transportation</th>\n",
       "      <th>MTRANS_Walking</th>\n",
       "    </tr>\n",
       "  </thead>\n",
       "  <tbody>\n",
       "    <tr>\n",
       "      <th>0</th>\n",
       "      <td>21.0</td>\n",
       "      <td>1.62</td>\n",
       "      <td>64.0</td>\n",
       "      <td>2.0</td>\n",
       "      <td>3.0</td>\n",
       "      <td>2.0</td>\n",
       "      <td>0.0</td>\n",
       "      <td>1.0</td>\n",
       "      <td>0</td>\n",
       "      <td>1</td>\n",
       "      <td>...</td>\n",
       "      <td>0</td>\n",
       "      <td>0</td>\n",
       "      <td>0</td>\n",
       "      <td>0</td>\n",
       "      <td>0</td>\n",
       "      <td>1</td>\n",
       "      <td>0</td>\n",
       "      <td>0</td>\n",
       "      <td>1</td>\n",
       "      <td>0</td>\n",
       "    </tr>\n",
       "    <tr>\n",
       "      <th>1</th>\n",
       "      <td>21.0</td>\n",
       "      <td>1.52</td>\n",
       "      <td>56.0</td>\n",
       "      <td>3.0</td>\n",
       "      <td>3.0</td>\n",
       "      <td>3.0</td>\n",
       "      <td>3.0</td>\n",
       "      <td>0.0</td>\n",
       "      <td>0</td>\n",
       "      <td>1</td>\n",
       "      <td>...</td>\n",
       "      <td>0</td>\n",
       "      <td>1</td>\n",
       "      <td>1</td>\n",
       "      <td>0</td>\n",
       "      <td>1</td>\n",
       "      <td>0</td>\n",
       "      <td>0</td>\n",
       "      <td>0</td>\n",
       "      <td>1</td>\n",
       "      <td>0</td>\n",
       "    </tr>\n",
       "    <tr>\n",
       "      <th>2</th>\n",
       "      <td>23.0</td>\n",
       "      <td>1.80</td>\n",
       "      <td>77.0</td>\n",
       "      <td>2.0</td>\n",
       "      <td>3.0</td>\n",
       "      <td>2.0</td>\n",
       "      <td>2.0</td>\n",
       "      <td>1.0</td>\n",
       "      <td>1</td>\n",
       "      <td>1</td>\n",
       "      <td>...</td>\n",
       "      <td>0</td>\n",
       "      <td>0</td>\n",
       "      <td>0</td>\n",
       "      <td>1</td>\n",
       "      <td>0</td>\n",
       "      <td>0</td>\n",
       "      <td>0</td>\n",
       "      <td>0</td>\n",
       "      <td>1</td>\n",
       "      <td>0</td>\n",
       "    </tr>\n",
       "    <tr>\n",
       "      <th>3</th>\n",
       "      <td>27.0</td>\n",
       "      <td>1.80</td>\n",
       "      <td>87.0</td>\n",
       "      <td>3.0</td>\n",
       "      <td>3.0</td>\n",
       "      <td>2.0</td>\n",
       "      <td>2.0</td>\n",
       "      <td>0.0</td>\n",
       "      <td>1</td>\n",
       "      <td>0</td>\n",
       "      <td>...</td>\n",
       "      <td>0</td>\n",
       "      <td>0</td>\n",
       "      <td>0</td>\n",
       "      <td>1</td>\n",
       "      <td>0</td>\n",
       "      <td>0</td>\n",
       "      <td>0</td>\n",
       "      <td>0</td>\n",
       "      <td>0</td>\n",
       "      <td>1</td>\n",
       "    </tr>\n",
       "    <tr>\n",
       "      <th>4</th>\n",
       "      <td>22.0</td>\n",
       "      <td>1.78</td>\n",
       "      <td>89.8</td>\n",
       "      <td>2.0</td>\n",
       "      <td>1.0</td>\n",
       "      <td>2.0</td>\n",
       "      <td>0.0</td>\n",
       "      <td>0.0</td>\n",
       "      <td>1</td>\n",
       "      <td>0</td>\n",
       "      <td>...</td>\n",
       "      <td>0</td>\n",
       "      <td>0</td>\n",
       "      <td>0</td>\n",
       "      <td>0</td>\n",
       "      <td>1</td>\n",
       "      <td>0</td>\n",
       "      <td>0</td>\n",
       "      <td>0</td>\n",
       "      <td>1</td>\n",
       "      <td>0</td>\n",
       "    </tr>\n",
       "  </tbody>\n",
       "</table>\n",
       "<p>5 rows × 23 columns</p>\n",
       "</div>"
      ],
      "text/plain": [
       "    Age  Height  Weight  FCVC  NCP  CH2O  FAF  TUE  Gender_Male  \\\n",
       "0  21.0    1.62    64.0   2.0  3.0   2.0  0.0  1.0            0   \n",
       "1  21.0    1.52    56.0   3.0  3.0   3.0  3.0  0.0            0   \n",
       "2  23.0    1.80    77.0   2.0  3.0   2.0  2.0  1.0            1   \n",
       "3  27.0    1.80    87.0   3.0  3.0   2.0  2.0  0.0            1   \n",
       "4  22.0    1.78    89.8   2.0  1.0   2.0  0.0  0.0            1   \n",
       "\n",
       "   family_history_with_overweight_yes  ...  CAEC_no  SMOKE_yes  SCC_yes  \\\n",
       "0                                   1  ...        0          0        0   \n",
       "1                                   1  ...        0          1        1   \n",
       "2                                   1  ...        0          0        0   \n",
       "3                                   0  ...        0          0        0   \n",
       "4                                   0  ...        0          0        0   \n",
       "\n",
       "   CALC_Frequently  CALC_Sometimes  CALC_no  MTRANS_Bike  MTRANS_Motorbike  \\\n",
       "0                0               0        1            0                 0   \n",
       "1                0               1        0            0                 0   \n",
       "2                1               0        0            0                 0   \n",
       "3                1               0        0            0                 0   \n",
       "4                0               1        0            0                 0   \n",
       "\n",
       "   MTRANS_Public_Transportation  MTRANS_Walking  \n",
       "0                             1               0  \n",
       "1                             1               0  \n",
       "2                             1               0  \n",
       "3                             0               1  \n",
       "4                             1               0  \n",
       "\n",
       "[5 rows x 23 columns]"
      ]
     },
     "execution_count": 44,
     "metadata": {},
     "output_type": "execute_result"
    }
   ],
   "source": [
    "X_encoded.head()"
   ]
  },
  {
   "cell_type": "code",
   "execution_count": 47,
   "metadata": {},
   "outputs": [
    {
     "name": "stdout",
     "output_type": "stream",
     "text": [
      "dict_keys(['layers.0.bias', 'layers.0.weight', 'layers.1.bias', 'layers.1.weight', 'layers.2.bias', 'layers.2.weight'])\n"
     ]
    },
    {
     "data": {
      "image/png": "[encoded data removed]",
      "text/plain": [
       "<Figure size 640x480 with 1 Axes>"
      ]
     },
     "metadata": {},
     "output_type": "display_data"
    }
   ],
   "source": [
    "print(loaded_samples.keys())\n",
    "w1_name, w2_name = 'layers.1.weight', 'layers.1.weight'\n",
    "\n",
    "# for i in range(10):\n",
    "#     w1 = loaded_samples[w1_name][:,i,1]\n",
    "#     w2 = loaded_samples[w2_name][:,i,2]\n",
    "\n",
    "#     plt.scatter(w1, w2)\n",
    "#     plt.show()\n",
    "\n",
    "w1 = loaded_samples[w1_name][:,4,9]\n",
    "w2 = loaded_samples[w2_name][:,7,9]\n",
    "\n",
    "plt.scatter(w1, w2)\n",
    "plt.show()\n",
    "\n",
    "# plt.hist(w1, bins=15)\n",
    "# plt.show()\n",
    "# plt.hist(w2, bins=15)\n",
    "# plt.show()"
   ]
  },
  {
   "cell_type": "code",
   "execution_count": 46,
   "metadata": {},
   "outputs": [
    {
     "name": "stdout",
     "output_type": "stream",
     "text": [
      "Best dataset pair: ((4, 9), (7, 9)) with R^2 = 0.5625\n"
     ]
    }
   ],
   "source": [
    "import torch\n",
    "import numpy as np\n",
    "from sklearn.linear_model import LinearRegression\n",
    "from sklearn.metrics import r2_score\n",
    "from itertools import product\n",
    "\n",
    "def find_best_r2_pair(tensor):\n",
    "    \"\"\"\n",
    "    Finds the pair of (x, y) indices with the highest R^2 coefficient.\n",
    "    \n",
    "    Parameters:\n",
    "    tensor (torch.Tensor): A tensor of shape [250, n1, n2] containing the data.\n",
    "    \n",
    "    Returns:\n",
    "    tuple: The best ((x_i, x_j), (y_i, y_j)) pair with the highest R^2 value and the corresponding R^2 score.\n",
    "    \"\"\"\n",
    "    num_samples, n1, n2 = tensor.shape\n",
    "    best_pair = None\n",
    "    best_r2 = float('-inf')\n",
    "    \n",
    "    for (x_i, x_j), (y_i, y_j) in product(product(range(n1), range(n2)), repeat=2):\n",
    "        if (x_i, x_j) == (y_i, y_j):\n",
    "            continue\n",
    "        \n",
    "        x = tensor[:, x_i, x_j].numpy().reshape(-1, 1)  # Convert to NumPy and reshape for sklearn\n",
    "        y = tensor[:, y_i, y_j].numpy()\n",
    "        \n",
    "        model = LinearRegression()\n",
    "        model.fit(x, y)\n",
    "        y_pred = model.predict(x)\n",
    "        r2 = r2_score(y, y_pred)\n",
    "        \n",
    "        if r2 > best_r2:\n",
    "            best_r2 = r2\n",
    "            best_pair = ((x_i, x_j), (y_i, y_j))\n",
    "    \n",
    "    return best_pair, best_r2\n",
    "\n",
    "# Example usage\n",
    "tensor = loaded_samples['layers.1.weight']  # Example tensor with random values\n",
    "best_pair, best_r2 = find_best_r2_pair(tensor)\n",
    "print(f\"Best dataset pair: {best_pair} with R^2 = {best_r2:.4f}\")\n"
   ]
  },
  {
   "cell_type": "code",
   "execution_count": 48,
   "metadata": {},
   "outputs": [],
   "source": [
    "def compute_calibration(true_labels, pred_labels, confidences, num_bins=10):\n",
    "    \"\"\"Collects predictions into bins used to draw a reliability diagram.\n",
    "\n",
    "    Arguments:\n",
    "        true_labels: the true labels for the test examples\n",
    "        pred_labels: the predicted labels for the test examples\n",
    "        confidences: the predicted confidences for the test examples\n",
    "        num_bins: number of bins\n",
    "\n",
    "    The true_labels, pred_labels, confidences arguments must be NumPy arrays;\n",
    "    pred_labels and true_labels may contain numeric or string labels.\n",
    "\n",
    "    For a multi-class model, the predicted label and confidence should be those\n",
    "    of the highest scoring class.\n",
    "\n",
    "    Returns a dictionary containing the following NumPy arrays:\n",
    "        accuracies: the average accuracy for each bin\n",
    "        confidences: the average confidence for each bin\n",
    "        counts: the number of examples in each bin\n",
    "        bins: the confidence thresholds for each bin\n",
    "        avg_accuracy: the accuracy over the entire test set\n",
    "        avg_confidence: the average confidence over the entire test set\n",
    "        expected_calibration_error: a weighted average of all calibration gaps\n",
    "        max_calibration_error: the largest calibration gap across all bins\n",
    "    \"\"\"\n",
    "    assert(len(confidences) == len(pred_labels))\n",
    "    assert(len(confidences) == len(true_labels))\n",
    "    assert(num_bins > 0)\n",
    "\n",
    "    bin_size = 1.0 / num_bins\n",
    "    bins = np.linspace(0.0, 1.0, num_bins + 1)\n",
    "    indices = np.digitize(confidences, bins, right=True)\n",
    "\n",
    "    bin_accuracies = np.zeros(num_bins, dtype=np.float64)\n",
    "    bin_confidences = np.zeros(num_bins, dtype=np.float64)\n",
    "    bin_counts = np.zeros(num_bins, dtype=int)\n",
    "\n",
    "    for b in range(num_bins):\n",
    "        selected = np.where(indices == b + 1)[0]\n",
    "        if len(selected) > 0:\n",
    "            bin_accuracies[b] = np.mean(true_labels[selected] == pred_labels[selected])\n",
    "            bin_confidences[b] = np.mean(confidences[selected])\n",
    "            bin_counts[b] = len(selected)\n",
    "\n",
    "    avg_acc = np.sum(bin_accuracies * bin_counts) / np.sum(bin_counts)\n",
    "    avg_conf = np.sum(bin_confidences * bin_counts) / np.sum(bin_counts)\n",
    "\n",
    "    gaps = np.abs(bin_accuracies - bin_confidences)\n",
    "    ece = np.sum(gaps * bin_counts) / np.sum(bin_counts)\n",
    "    mce = np.max(gaps)\n",
    "\n",
    "    return { \"accuracies\": bin_accuracies, \n",
    "             \"confidences\": bin_confidences, \n",
    "             \"counts\": bin_counts, \n",
    "             \"bins\": bins,\n",
    "             \"avg_accuracy\": avg_acc,\n",
    "             \"avg_confidence\": avg_conf,\n",
    "             \"expected_calibration_error\": ece,\n",
    "             \"max_calibration_error\": mce }"
   ]
  },
  {
   "cell_type": "code",
   "execution_count": 49,
   "metadata": {},
   "outputs": [],
   "source": [
    "def reliability_diagram(true_labels, pred_labels, confidences, num_bins=10,\n",
    "                        draw_ece=True, draw_bin_importance=False, \n",
    "                        draw_averages=True, title=\"Reliability Diagram\", \n",
    "                        figsize=(6, 6), dpi=72, return_fig=False):\n",
    "    \"\"\"Draws a reliability diagram and confidence histogram in a single plot.\n",
    "    \n",
    "    First, the model's predictions are divided up into bins based on their\n",
    "    confidence scores.\n",
    "\n",
    "    The reliability diagram shows the gap between average accuracy and average \n",
    "    confidence in each bin. These are the red bars.\n",
    "\n",
    "    The black line is the accuracy, the other end of the bar is the confidence.\n",
    "\n",
    "    Ideally, there is no gap and the black line is on the dotted diagonal.\n",
    "    In that case, the model is properly calibrated and we can interpret the\n",
    "    confidence scores as probabilities.\n",
    "\n",
    "    The confidence histogram visualizes how many examples are in each bin. \n",
    "    This is useful for judging how much each bin contributes to the calibration\n",
    "    error.\n",
    "\n",
    "    The confidence histogram also shows the overall accuracy and confidence. \n",
    "    The closer these two lines are together, the better the calibration.\n",
    "    \n",
    "    The ECE or Expected Calibration Error is a summary statistic that gives the\n",
    "    difference in expectation between confidence and accuracy. In other words,\n",
    "    it's a weighted average of the gaps across all bins. A lower ECE is better.\n",
    "\n",
    "    Arguments:\n",
    "        true_labels: the true labels for the test examples\n",
    "        pred_labels: the predicted labels for the test examples\n",
    "        confidences: the predicted confidences for the test examples\n",
    "        num_bins: number of bins\n",
    "        draw_ece: whether to include the Expected Calibration Error\n",
    "        draw_bin_importance: whether to represent how much each bin contributes\n",
    "            to the total accuracy: False, \"alpha\", \"widths\"\n",
    "        draw_averages: whether to draw the overall accuracy and confidence in\n",
    "            the confidence histogram\n",
    "        title: optional title for the plot\n",
    "        figsize: setting for matplotlib; height is ignored\n",
    "        dpi: setting for matplotlib\n",
    "        return_fig: if True, returns the matplotlib Figure object\n",
    "    \"\"\"\n",
    "    bin_data = compute_calibration(true_labels, pred_labels, confidences, num_bins)\n",
    "    return _reliability_diagram_combined(bin_data, draw_ece, draw_bin_importance,\n",
    "                                         draw_averages, title, figsize=figsize, \n",
    "                                         dpi=dpi, return_fig=return_fig)\n"
   ]
  },
  {
   "cell_type": "code",
   "execution_count": 50,
   "metadata": {},
   "outputs": [],
   "source": [
    "def _reliability_diagram_combined(bin_data, \n",
    "                                  draw_ece, draw_bin_importance, draw_averages, \n",
    "                                  title, figsize, dpi, return_fig):\n",
    "    \"\"\"Draws a reliability diagram and confidence histogram using the output\n",
    "    from compute_calibration().\"\"\"\n",
    "    figsize = (figsize[0], figsize[0] * 1.4)\n",
    "\n",
    "    fig, ax = plt.subplots(nrows=2, ncols=1, sharex=True, figsize=figsize, dpi=dpi, \n",
    "                           gridspec_kw={\"height_ratios\": [4, 1]})\n",
    "\n",
    "    plt.tight_layout()\n",
    "    plt.subplots_adjust(hspace=-0.1)\n",
    "\n",
    "    _reliability_diagram_subplot(ax[0], bin_data, draw_ece, draw_bin_importance, \n",
    "                                 title=title, xlabel=\"\")\n",
    "\n",
    "    # Draw the confidence histogram upside down.\n",
    "    orig_counts = bin_data[\"counts\"]\n",
    "    bin_data[\"counts\"] = -bin_data[\"counts\"]\n",
    "    _confidence_histogram_subplot(ax[1], bin_data, draw_averages, title=\"\")\n",
    "    bin_data[\"counts\"] = orig_counts\n",
    "\n",
    "    # Also negate the ticks for the upside-down histogram.\n",
    "    new_ticks = np.abs(ax[1].get_yticks()).astype(int)\n",
    "    ax[1].set_yticklabels(new_ticks)    \n",
    "\n",
    "    plt.show()\n",
    "\n",
    "    if return_fig: return fig"
   ]
  },
  {
   "cell_type": "code",
   "execution_count": 51,
   "metadata": {},
   "outputs": [],
   "source": [
    "def _reliability_diagram_subplot(ax, bin_data, \n",
    "                                 draw_ece=True, \n",
    "                                 draw_bin_importance=False,\n",
    "                                 title=\"Reliability Diagram\", \n",
    "                                 xlabel=\"Confidence\", \n",
    "                                 ylabel=\"Expected Accuracy\"):\n",
    "    \"\"\"Draws a reliability diagram into a subplot.\"\"\"\n",
    "    accuracies = bin_data[\"accuracies\"]\n",
    "    confidences = bin_data[\"confidences\"]\n",
    "    counts = bin_data[\"counts\"]\n",
    "    bins = bin_data[\"bins\"]\n",
    "\n",
    "    bin_size = 1.0 / len(counts)\n",
    "    positions = bins[:-1] + bin_size/2.0\n",
    "\n",
    "    widths = bin_size\n",
    "    alphas = 0.3\n",
    "    min_count = np.min(counts)\n",
    "    max_count = np.max(counts)\n",
    "    normalized_counts = (counts - min_count) / (max_count - min_count)\n",
    "\n",
    "    if draw_bin_importance == \"alpha\":\n",
    "        alphas = 0.2 + 0.8*normalized_counts\n",
    "    elif draw_bin_importance == \"width\":\n",
    "        widths = 0.1*bin_size + 0.9*bin_size*normalized_counts\n",
    "\n",
    "    colors = np.zeros((len(counts), 4))\n",
    "    colors[:, 0] = 240 / 255.\n",
    "    colors[:, 1] = 60 / 255.\n",
    "    colors[:, 2] = 60 / 255.\n",
    "    colors[:, 3] = alphas\n",
    "\n",
    "    gap_plt = ax.bar(positions, np.abs(accuracies - confidences), \n",
    "                     bottom=np.minimum(accuracies, confidences), width=widths,\n",
    "                     edgecolor=colors, color=colors, linewidth=1, label=\"Gap\")\n",
    "\n",
    "    acc_plt = ax.bar(positions, 0, bottom=accuracies, width=widths,\n",
    "                     edgecolor=\"black\", color=\"black\", alpha=1.0, linewidth=3,\n",
    "                     label=\"Accuracy\")\n",
    "\n",
    "    ax.set_aspect(\"equal\")\n",
    "    ax.plot([0,1], [0,1], linestyle = \"--\", color=\"gray\")\n",
    "    \n",
    "    if draw_ece:\n",
    "        ece = (bin_data[\"expected_calibration_error\"] * 100)\n",
    "        ax.text(0.98, 0.02, \"ECE=%.2f\" % ece, color=\"black\", \n",
    "                ha=\"right\", va=\"bottom\", transform=ax.transAxes)\n",
    "\n",
    "    ax.set_xlim(0, 1)\n",
    "    ax.set_ylim(0, 1)\n",
    "    #ax.set_xticks(bins)\n",
    "\n",
    "    ax.set_title(title)\n",
    "    ax.set_xlabel(xlabel)\n",
    "    ax.set_ylabel(ylabel)\n",
    "\n",
    "    ax.legend(handles=[gap_plt, acc_plt])\n"
   ]
  },
  {
   "cell_type": "code",
   "execution_count": 52,
   "metadata": {},
   "outputs": [],
   "source": [
    "\n",
    "def _confidence_histogram_subplot(ax, bin_data, \n",
    "                                  draw_averages=True,\n",
    "                                  title=\"Examples per bin\", \n",
    "                                  xlabel=\"Confidence\",\n",
    "                                  ylabel=\"Count\"):\n",
    "    \"\"\"Draws a confidence histogram into a subplot.\"\"\"\n",
    "    counts = bin_data[\"counts\"]\n",
    "    bins = bin_data[\"bins\"]\n",
    "\n",
    "    bin_size = 1.0 / len(counts)\n",
    "    positions = bins[:-1] + bin_size/2.0\n",
    "\n",
    "    ax.bar(positions, counts, width=bin_size * 0.9)\n",
    "   \n",
    "    ax.set_xlim(0, 1)\n",
    "    ax.set_title(title)\n",
    "    ax.set_xlabel(xlabel)\n",
    "    ax.set_ylabel(ylabel)\n",
    "\n",
    "    if draw_averages:\n",
    "        acc_plt = ax.axvline(x=bin_data[\"avg_accuracy\"], ls=\"solid\", lw=3, \n",
    "                             c=\"black\", label=\"Accuracy\")\n",
    "        conf_plt = ax.axvline(x=bin_data[\"avg_confidence\"], ls=\"dotted\", lw=3, \n",
    "                              c=\"#444\", label=\"Avg. confidence\")\n",
    "        ax.legend(handles=[acc_plt, conf_plt])"
   ]
  },
  {
   "cell_type": "code",
   "execution_count": 53,
   "metadata": {},
   "outputs": [
    {
     "ename": "NameError",
     "evalue": "name 'y_true' is not defined",
     "output_type": "error",
     "traceback": [
      "\u001b[0;31m---------------------------------------------------------------------------\u001b[0m",
      "\u001b[0;31mNameError\u001b[0m                                 Traceback (most recent call last)",
      "Cell \u001b[0;32mIn[53], line 5\u001b[0m\n\u001b[1;32m      1\u001b[0m plot_name \u001b[38;5;241m=\u001b[39m \u001b[38;5;124m\"\u001b[39m\u001b[38;5;124mMy Plot Title\u001b[39m\u001b[38;5;124m\"\u001b[39m\n\u001b[1;32m      3\u001b[0m title \u001b[38;5;241m=\u001b[39m \u001b[38;5;124m\"\u001b[39m\u001b[38;5;130;01m\\n\u001b[39;00m\u001b[38;5;124m\"\u001b[39m\u001b[38;5;241m.\u001b[39mjoin(plot_name\u001b[38;5;241m.\u001b[39msplit())\n\u001b[0;32m----> 5\u001b[0m fig \u001b[38;5;241m=\u001b[39m reliability_diagram(\u001b[43my_true\u001b[49m, y_pred, y_conf, num_bins\u001b[38;5;241m=\u001b[39m\u001b[38;5;241m10\u001b[39m, draw_ece\u001b[38;5;241m=\u001b[39m\u001b[38;5;28;01mTrue\u001b[39;00m,\n\u001b[1;32m      6\u001b[0m                           draw_bin_importance\u001b[38;5;241m=\u001b[39m\u001b[38;5;124m\"\u001b[39m\u001b[38;5;124malpha\u001b[39m\u001b[38;5;124m\"\u001b[39m, draw_averages\u001b[38;5;241m=\u001b[39m\u001b[38;5;28;01mTrue\u001b[39;00m,\n\u001b[1;32m      7\u001b[0m                           title\u001b[38;5;241m=\u001b[39mtitle, figsize\u001b[38;5;241m=\u001b[39m(\u001b[38;5;241m6\u001b[39m, \u001b[38;5;241m6\u001b[39m), dpi\u001b[38;5;241m=\u001b[39m\u001b[38;5;241m100\u001b[39m, \n\u001b[1;32m      8\u001b[0m                           return_fig\u001b[38;5;241m=\u001b[39m\u001b[38;5;28;01mTrue\u001b[39;00m)\n",
      "\u001b[0;31mNameError\u001b[0m: name 'y_true' is not defined"
     ]
    }
   ],
   "source": [
    "plot_name = \"My Plot Title\"\n",
    "\n",
    "title = \"\\n\".join(plot_name.split())\n",
    "\n",
    "fig = reliability_diagram(y_true, y_pred, y_conf, num_bins=10, draw_ece=True,\n",
    "                          draw_bin_importance=\"alpha\", draw_averages=True,\n",
    "                          title=title, figsize=(6, 6), dpi=100, \n",
    "                          return_fig=True)"
   ]
  },
  {
   "cell_type": "code",
   "execution_count": 55,
   "metadata": {},
   "outputs": [
    {
     "ename": "RuntimeError",
     "evalue": "expected scalar type Long but found Float",
     "output_type": "error",
     "traceback": [
      "\u001b[0;31m---------------------------------------------------------------------------\u001b[0m",
      "\u001b[0;31mRuntimeError\u001b[0m                              Traceback (most recent call last)",
      "Cell \u001b[0;32mIn[55], line 2\u001b[0m\n\u001b[1;32m      1\u001b[0m loss \u001b[38;5;241m=\u001b[39m nn\u001b[38;5;241m.\u001b[39mNLLLoss()\n\u001b[0;32m----> 2\u001b[0m \u001b[43mloss\u001b[49m\u001b[43m(\u001b[49m\u001b[43mtorch\u001b[49m\u001b[38;5;241;43m.\u001b[39;49m\u001b[43mlog\u001b[49m\u001b[43m(\u001b[49m\u001b[43mmean_preds\u001b[49m\u001b[43m)\u001b[49m\u001b[43m,\u001b[49m\u001b[43my_te\u001b[49m\u001b[43m)\u001b[49m\n",
      "File \u001b[0;32m~/Documents/Documents - iCloud Drive/Uni Fourth Year/Full Year/Group Project/Bayesian-Neural-Network-Project/.venv/lib/python3.9/site-packages/torch/nn/modules/module.py:1739\u001b[0m, in \u001b[0;36mModule._wrapped_call_impl\u001b[0;34m(self, *args, **kwargs)\u001b[0m\n\u001b[1;32m   1737\u001b[0m     \u001b[38;5;28;01mreturn\u001b[39;00m \u001b[38;5;28mself\u001b[39m\u001b[38;5;241m.\u001b[39m_compiled_call_impl(\u001b[38;5;241m*\u001b[39margs, \u001b[38;5;241m*\u001b[39m\u001b[38;5;241m*\u001b[39mkwargs)  \u001b[38;5;66;03m# type: ignore[misc]\u001b[39;00m\n\u001b[1;32m   1738\u001b[0m \u001b[38;5;28;01melse\u001b[39;00m:\n\u001b[0;32m-> 1739\u001b[0m     \u001b[38;5;28;01mreturn\u001b[39;00m \u001b[38;5;28;43mself\u001b[39;49m\u001b[38;5;241;43m.\u001b[39;49m\u001b[43m_call_impl\u001b[49m\u001b[43m(\u001b[49m\u001b[38;5;241;43m*\u001b[39;49m\u001b[43margs\u001b[49m\u001b[43m,\u001b[49m\u001b[43m \u001b[49m\u001b[38;5;241;43m*\u001b[39;49m\u001b[38;5;241;43m*\u001b[39;49m\u001b[43mkwargs\u001b[49m\u001b[43m)\u001b[49m\n",
      "File \u001b[0;32m~/Documents/Documents - iCloud Drive/Uni Fourth Year/Full Year/Group Project/Bayesian-Neural-Network-Project/.venv/lib/python3.9/site-packages/torch/nn/modules/module.py:1750\u001b[0m, in \u001b[0;36mModule._call_impl\u001b[0;34m(self, *args, **kwargs)\u001b[0m\n\u001b[1;32m   1745\u001b[0m \u001b[38;5;66;03m# If we don't have any hooks, we want to skip the rest of the logic in\u001b[39;00m\n\u001b[1;32m   1746\u001b[0m \u001b[38;5;66;03m# this function, and just call forward.\u001b[39;00m\n\u001b[1;32m   1747\u001b[0m \u001b[38;5;28;01mif\u001b[39;00m \u001b[38;5;129;01mnot\u001b[39;00m (\u001b[38;5;28mself\u001b[39m\u001b[38;5;241m.\u001b[39m_backward_hooks \u001b[38;5;129;01mor\u001b[39;00m \u001b[38;5;28mself\u001b[39m\u001b[38;5;241m.\u001b[39m_backward_pre_hooks \u001b[38;5;129;01mor\u001b[39;00m \u001b[38;5;28mself\u001b[39m\u001b[38;5;241m.\u001b[39m_forward_hooks \u001b[38;5;129;01mor\u001b[39;00m \u001b[38;5;28mself\u001b[39m\u001b[38;5;241m.\u001b[39m_forward_pre_hooks\n\u001b[1;32m   1748\u001b[0m         \u001b[38;5;129;01mor\u001b[39;00m _global_backward_pre_hooks \u001b[38;5;129;01mor\u001b[39;00m _global_backward_hooks\n\u001b[1;32m   1749\u001b[0m         \u001b[38;5;129;01mor\u001b[39;00m _global_forward_hooks \u001b[38;5;129;01mor\u001b[39;00m _global_forward_pre_hooks):\n\u001b[0;32m-> 1750\u001b[0m     \u001b[38;5;28;01mreturn\u001b[39;00m \u001b[43mforward_call\u001b[49m\u001b[43m(\u001b[49m\u001b[38;5;241;43m*\u001b[39;49m\u001b[43margs\u001b[49m\u001b[43m,\u001b[49m\u001b[43m \u001b[49m\u001b[38;5;241;43m*\u001b[39;49m\u001b[38;5;241;43m*\u001b[39;49m\u001b[43mkwargs\u001b[49m\u001b[43m)\u001b[49m\n\u001b[1;32m   1752\u001b[0m result \u001b[38;5;241m=\u001b[39m \u001b[38;5;28;01mNone\u001b[39;00m\n\u001b[1;32m   1753\u001b[0m called_always_called_hooks \u001b[38;5;241m=\u001b[39m \u001b[38;5;28mset\u001b[39m()\n",
      "File \u001b[0;32m~/Documents/Documents - iCloud Drive/Uni Fourth Year/Full Year/Group Project/Bayesian-Neural-Network-Project/.venv/lib/python3.9/site-packages/torch/nn/modules/loss.py:251\u001b[0m, in \u001b[0;36mNLLLoss.forward\u001b[0;34m(self, input, target)\u001b[0m\n\u001b[1;32m    250\u001b[0m \u001b[38;5;28;01mdef\u001b[39;00m\u001b[38;5;250m \u001b[39m\u001b[38;5;21mforward\u001b[39m(\u001b[38;5;28mself\u001b[39m, \u001b[38;5;28minput\u001b[39m: Tensor, target: Tensor) \u001b[38;5;241m-\u001b[39m\u001b[38;5;241m>\u001b[39m Tensor:\n\u001b[0;32m--> 251\u001b[0m     \u001b[38;5;28;01mreturn\u001b[39;00m \u001b[43mF\u001b[49m\u001b[38;5;241;43m.\u001b[39;49m\u001b[43mnll_loss\u001b[49m\u001b[43m(\u001b[49m\n\u001b[1;32m    252\u001b[0m \u001b[43m        \u001b[49m\u001b[38;5;28;43minput\u001b[39;49m\u001b[43m,\u001b[49m\n\u001b[1;32m    253\u001b[0m \u001b[43m        \u001b[49m\u001b[43mtarget\u001b[49m\u001b[43m,\u001b[49m\n\u001b[1;32m    254\u001b[0m \u001b[43m        \u001b[49m\u001b[43mweight\u001b[49m\u001b[38;5;241;43m=\u001b[39;49m\u001b[38;5;28;43mself\u001b[39;49m\u001b[38;5;241;43m.\u001b[39;49m\u001b[43mweight\u001b[49m\u001b[43m,\u001b[49m\n\u001b[1;32m    255\u001b[0m \u001b[43m        \u001b[49m\u001b[43mignore_index\u001b[49m\u001b[38;5;241;43m=\u001b[39;49m\u001b[38;5;28;43mself\u001b[39;49m\u001b[38;5;241;43m.\u001b[39;49m\u001b[43mignore_index\u001b[49m\u001b[43m,\u001b[49m\n\u001b[1;32m    256\u001b[0m \u001b[43m        \u001b[49m\u001b[43mreduction\u001b[49m\u001b[38;5;241;43m=\u001b[39;49m\u001b[38;5;28;43mself\u001b[39;49m\u001b[38;5;241;43m.\u001b[39;49m\u001b[43mreduction\u001b[49m\u001b[43m,\u001b[49m\n\u001b[1;32m    257\u001b[0m \u001b[43m    \u001b[49m\u001b[43m)\u001b[49m\n",
      "File \u001b[0;32m~/Documents/Documents - iCloud Drive/Uni Fourth Year/Full Year/Group Project/Bayesian-Neural-Network-Project/.venv/lib/python3.9/site-packages/torch/nn/functional.py:3158\u001b[0m, in \u001b[0;36mnll_loss\u001b[0;34m(input, target, weight, size_average, ignore_index, reduce, reduction)\u001b[0m\n\u001b[1;32m   3156\u001b[0m \u001b[38;5;28;01mif\u001b[39;00m size_average \u001b[38;5;129;01mis\u001b[39;00m \u001b[38;5;129;01mnot\u001b[39;00m \u001b[38;5;28;01mNone\u001b[39;00m \u001b[38;5;129;01mor\u001b[39;00m reduce \u001b[38;5;129;01mis\u001b[39;00m \u001b[38;5;129;01mnot\u001b[39;00m \u001b[38;5;28;01mNone\u001b[39;00m:\n\u001b[1;32m   3157\u001b[0m     reduction \u001b[38;5;241m=\u001b[39m _Reduction\u001b[38;5;241m.\u001b[39mlegacy_get_string(size_average, reduce)\n\u001b[0;32m-> 3158\u001b[0m \u001b[38;5;28;01mreturn\u001b[39;00m \u001b[43mtorch\u001b[49m\u001b[38;5;241;43m.\u001b[39;49m\u001b[43m_C\u001b[49m\u001b[38;5;241;43m.\u001b[39;49m\u001b[43m_nn\u001b[49m\u001b[38;5;241;43m.\u001b[39;49m\u001b[43mnll_loss_nd\u001b[49m\u001b[43m(\u001b[49m\n\u001b[1;32m   3159\u001b[0m \u001b[43m    \u001b[49m\u001b[38;5;28;43minput\u001b[39;49m\u001b[43m,\u001b[49m\u001b[43m \u001b[49m\u001b[43mtarget\u001b[49m\u001b[43m,\u001b[49m\u001b[43m \u001b[49m\u001b[43mweight\u001b[49m\u001b[43m,\u001b[49m\u001b[43m \u001b[49m\u001b[43m_Reduction\u001b[49m\u001b[38;5;241;43m.\u001b[39;49m\u001b[43mget_enum\u001b[49m\u001b[43m(\u001b[49m\u001b[43mreduction\u001b[49m\u001b[43m)\u001b[49m\u001b[43m,\u001b[49m\u001b[43m \u001b[49m\u001b[43mignore_index\u001b[49m\n\u001b[1;32m   3160\u001b[0m \u001b[43m\u001b[49m\u001b[43m)\u001b[49m\n",
      "\u001b[0;31mRuntimeError\u001b[0m: expected scalar type Long but found Float"
     ]
    }
   ],
   "source": [
    "loss = nn.NLLLoss()\n",
    "loss(torch.log(mean_preds),y_te)"
   ]
  },
  {
   "cell_type": "code",
   "execution_count": 56,
   "metadata": {},
   "outputs": [
    {
     "ename": "RuntimeError",
     "evalue": "gather(): Expected dtype int64 for index",
     "output_type": "error",
     "traceback": [
      "\u001b[0;31m---------------------------------------------------------------------------\u001b[0m",
      "\u001b[0;31mRuntimeError\u001b[0m                              Traceback (most recent call last)",
      "Cell \u001b[0;32mIn[56], line 52\u001b[0m\n\u001b[1;32m     47\u001b[0m     \u001b[38;5;28;01mreturn\u001b[39;00m ace\n\u001b[1;32m     51\u001b[0m \u001b[38;5;66;03m# Compute ACE\u001b[39;00m\n\u001b[0;32m---> 52\u001b[0m ace \u001b[38;5;241m=\u001b[39m \u001b[43madaptive_calibration_error\u001b[49m\u001b[43m(\u001b[49m\u001b[43mmean_preds\u001b[49m\u001b[43m,\u001b[49m\u001b[43m \u001b[49m\u001b[43my_te\u001b[49m\u001b[43m)\u001b[49m\n\u001b[1;32m     53\u001b[0m \u001b[38;5;28mprint\u001b[39m(\u001b[38;5;124mf\u001b[39m\u001b[38;5;124m\"\u001b[39m\u001b[38;5;124mAdaptive Calibration Error: \u001b[39m\u001b[38;5;132;01m{\u001b[39;00mace\u001b[38;5;132;01m}\u001b[39;00m\u001b[38;5;124m\"\u001b[39m)\n",
      "Cell \u001b[0;32mIn[56], line 18\u001b[0m, in \u001b[0;36madaptive_calibration_error\u001b[0;34m(mean_preds, y_te, num_bins)\u001b[0m\n\u001b[1;32m      5\u001b[0m \u001b[38;5;250m\u001b[39m\u001b[38;5;124;03m\"\"\"\u001b[39;00m\n\u001b[1;32m      6\u001b[0m \u001b[38;5;124;03mCompute the Adaptive Calibration Error (ACE) for a classification task.\u001b[39;00m\n\u001b[1;32m      7\u001b[0m \u001b[38;5;124;03m\u001b[39;00m\n\u001b[0;32m   (...)\u001b[0m\n\u001b[1;32m     15\u001b[0m \u001b[38;5;124;03m- ace (float): The Adaptive Calibration Error (ACE).\u001b[39;00m\n\u001b[1;32m     16\u001b[0m \u001b[38;5;124;03m\"\"\"\u001b[39;00m\n\u001b[1;32m     17\u001b[0m \u001b[38;5;66;03m# Get predicted probabilities for the correct class\u001b[39;00m\n\u001b[0;32m---> 18\u001b[0m predicted_probs \u001b[38;5;241m=\u001b[39m \u001b[43mmean_preds\u001b[49m\u001b[38;5;241;43m.\u001b[39;49m\u001b[43mgather\u001b[49m\u001b[43m(\u001b[49m\u001b[38;5;241;43m1\u001b[39;49m\u001b[43m,\u001b[49m\u001b[43m \u001b[49m\u001b[43my_te\u001b[49m\u001b[38;5;241;43m.\u001b[39;49m\u001b[43mview\u001b[49m\u001b[43m(\u001b[49m\u001b[38;5;241;43m-\u001b[39;49m\u001b[38;5;241;43m1\u001b[39;49m\u001b[43m,\u001b[49m\u001b[43m \u001b[49m\u001b[38;5;241;43m1\u001b[39;49m\u001b[43m)\u001b[49m\u001b[43m)\u001b[49m  \u001b[38;5;66;03m# (N, 1) tensor of probabilities for the correct class\u001b[39;00m\n\u001b[1;32m     20\u001b[0m \u001b[38;5;66;03m# Flatten the tensor\u001b[39;00m\n\u001b[1;32m     21\u001b[0m predicted_probs \u001b[38;5;241m=\u001b[39m predicted_probs\u001b[38;5;241m.\u001b[39mview(\u001b[38;5;241m-\u001b[39m\u001b[38;5;241m1\u001b[39m)\n",
      "\u001b[0;31mRuntimeError\u001b[0m: gather(): Expected dtype int64 for index"
     ]
    }
   ],
   "source": [
    "import torch\n",
    "import numpy as np\n",
    "\n",
    "def adaptive_calibration_error(mean_preds, y_te, num_bins=10):\n",
    "    \"\"\"\n",
    "    Compute the Adaptive Calibration Error (ACE) for a classification task.\n",
    "    \n",
    "    Parameters:\n",
    "    - mean_preds (torch.Tensor): Tensor of predicted probabilities with shape (N, C),\n",
    "                                  where N is the number of samples and C is the number of classes.\n",
    "    - y_te (torch.Tensor): Tensor of true labels with shape (N,) where N is the number of samples.\n",
    "    - num_bins (int): The number of bins to use for calibration. Default is 10.\n",
    "    \n",
    "    Returns:\n",
    "    - ace (float): The Adaptive Calibration Error (ACE).\n",
    "    \"\"\"\n",
    "    # Get predicted probabilities for the correct class\n",
    "    predicted_probs = mean_preds.gather(1, y_te.view(-1, 1))  # (N, 1) tensor of probabilities for the correct class\n",
    "    \n",
    "    # Flatten the tensor\n",
    "    predicted_probs = predicted_probs.view(-1)\n",
    "    \n",
    "    # Create bins for predicted probabilities\n",
    "    bins = torch.linspace(0, 1, num_bins + 1)\n",
    "    bin_indices = torch.bucketize(predicted_probs, bins) - 1  # Map probabilities to bin indices\n",
    "    \n",
    "    ace = 0\n",
    "    for bin_idx in range(num_bins):\n",
    "        # Get the indices of samples falling in this bin\n",
    "        bin_mask = bin_indices == bin_idx\n",
    "        bin_preds = predicted_probs[bin_mask]\n",
    "        bin_labels = y_te[bin_mask]\n",
    "        \n",
    "        if bin_preds.numel() == 0:\n",
    "            continue\n",
    "        \n",
    "        # Compute the observed accuracy within this bin\n",
    "        observed_accuracy = (bin_preds == bin_labels.float()).float().mean().item()\n",
    "        \n",
    "        # Compute the expected accuracy (mean of bin_preds)\n",
    "        expected_accuracy = bin_preds.mean().item()\n",
    "        \n",
    "        # Compute the absolute difference between observed and expected accuracy\n",
    "        ace += abs(observed_accuracy - expected_accuracy)\n",
    "    \n",
    "    ace /= num_bins  # Average over all bins\n",
    "    return ace\n",
    "\n",
    "\n",
    "\n",
    "# Compute ACE\n",
    "ace = adaptive_calibration_error(mean_preds, y_te)\n",
    "print(f\"Adaptive Calibration Error: {ace}\")\n"
   ]
  },
  {
   "cell_type": "code",
   "execution_count": 57,
   "metadata": {},
   "outputs": [
    {
     "name": "stdout",
     "output_type": "stream",
     "text": [
      "Static Calibration Error: 0.3112594213336706\n"
     ]
    }
   ],
   "source": [
    "import torch\n",
    "import numpy as np\n",
    "\n",
    "def static_calibration_error(mean_preds, y_te, num_bins=10):\n",
    "    \"\"\"\n",
    "    Compute the Static Calibration Error (SCE) for a classification task.\n",
    "    \n",
    "    Parameters:\n",
    "    - mean_preds (torch.Tensor): Tensor of predicted probabilities with shape (N, C),\n",
    "                                  where N is the number of samples and C is the number of classes.\n",
    "    - y_te (torch.Tensor): Tensor of true labels with shape (N,) where N is the number of samples.\n",
    "    - num_bins (int): The number of bins to use for calibration. Default is 10.\n",
    "    \n",
    "    Returns:\n",
    "    - sce (float): The Static Calibration Error (SCE).\n",
    "    \"\"\"\n",
    "    # Get predicted probabilities for the correct class\n",
    "    predicted_probs = mean_preds.gather(1, y_te.view(-1, 1))  # (N, 1) tensor of probabilities for the correct class\n",
    "    \n",
    "    # Flatten the tensor\n",
    "    predicted_probs = predicted_probs.view(-1)\n",
    "    \n",
    "    # Create bins for predicted probabilities\n",
    "    bins = torch.linspace(0, 1, num_bins + 1)\n",
    "    bin_indices = torch.bucketize(predicted_probs, bins) - 1  # Map probabilities to bin indices\n",
    "    \n",
    "    sce = 0\n",
    "    for bin_idx in range(num_bins):\n",
    "        # Get the indices of samples falling in this bin\n",
    "        bin_mask = bin_indices == bin_idx\n",
    "        bin_preds = predicted_probs[bin_mask]\n",
    "        bin_labels = y_te[bin_mask]\n",
    "        \n",
    "        if bin_preds.numel() == 0:\n",
    "            continue\n",
    "        \n",
    "        # Compute the observed accuracy within this bin\n",
    "        observed_accuracy = (bin_preds == bin_labels.float()).float().mean().item()\n",
    "        \n",
    "        # Compute the expected accuracy (mean of bin_preds)\n",
    "        expected_accuracy = bin_preds.mean().item()\n",
    "        \n",
    "        # Compute the absolute difference between observed and expected accuracy\n",
    "        sce += abs(observed_accuracy - expected_accuracy)\n",
    "    \n",
    "    sce /= num_bins  # Average over all bins\n",
    "    return sce\n",
    "\n",
    "# Example usage\n",
    "# mean_preds is a tensor of shape (N, C), y_te is a tensor of shape (N,)\n",
    "# Example: 640 samples, 7 classes\n",
    "mean_preds = torch.randn(640, 7).softmax(dim=1)  # Example probabilities from a softmax output\n",
    "y_te = torch.randint(0, 7, (640,))  # Example true labels (integers from 0 to 6)\n",
    "\n",
    "# Compute SCE\n",
    "sce = static_calibration_error(mean_preds, y_te)\n",
    "print(f\"Static Calibration Error: {sce}\")\n"
   ]
  },
  {
   "cell_type": "code",
   "execution_count": null,
   "metadata": {},
   "outputs": [],
   "source": []
  },
  {
   "cell_type": "code",
   "execution_count": null,
   "metadata": {},
   "outputs": [],
   "source": []
  },
  {
   "cell_type": "code",
   "execution_count": 58,
   "metadata": {},
   "outputs": [],
   "source": [
    "df = pd.DataFrame(\n",
    "    mean_preds,  # Each column will be one of the 7 confidence values\n",
    "    columns=[f'confidence_{i}' for i in range(mean_preds.shape[1])]\n",
    ")\n",
    "df['true_label'] = y_te  # Add the true labels\n",
    "df.to_csv('obesity_preds_more_hmc.csv', index=False)"
   ]
  },
  {
   "cell_type": "code",
   "execution_count": 59,
   "metadata": {},
   "outputs": [],
   "source": [
    "df = pd.read_csv('obesity_preds_more_hmc.csv')\n",
    "plot_name = 'calibration_data'\n"
   ]
  },
  {
   "cell_type": "code",
   "execution_count": 60,
   "metadata": {},
   "outputs": [],
   "source": [
    "df_melted = df.melt(id_vars=[\"true_label\"], \n",
    "                    value_vars=[\"confidence_0\", \"confidence_1\", \"confidence_2\", \"confidence_3\", \n",
    "                                \"confidence_4\", \"confidence_5\", \"confidence_6\"], \n",
    "                    var_name=\"pred_label\", value_name=\"confidence\")\n",
    "\n",
    "# Extract the numerical part of the pred_label\n",
    "df_melted[\"pred_label\"] = df_melted[\"pred_label\"].str.extract(\"(\\d+)\").astype(int)\n",
    "\n",
    "# Reorder the columns to match the desired format\n",
    "df_final = df_melted[[\"pred_label\", \"true_label\", \"confidence\"]]"
   ]
  },
  {
   "cell_type": "code",
   "execution_count": 61,
   "metadata": {},
   "outputs": [],
   "source": [
    "y_true = df_final.true_label.values\n",
    "y_pred = df_final.pred_label.values\n",
    "y_conf = df_final.confidence.values"
   ]
  },
  {
   "cell_type": "code",
   "execution_count": 64,
   "metadata": {},
   "outputs": [
    {
     "data": {
      "image/png": "[encoded data removed]",
      "text/plain": [
       "<Figure size 1200x600 with 2 Axes>"
      ]
     },
     "metadata": {},
     "output_type": "display_data"
    }
   ],
   "source": [
    "import pickle\n",
    "import matplotlib.pyplot as plt\n",
    "from sklearn.calibration import calibration_curve\n",
    "\n",
    "#load the data \n",
    "df1 = pd.read_csv('obesity_preds.csv')\n",
    "plot_name = 'calibration_data'\n",
    "df_melted1 = df1.melt(id_vars=[\"true_label\"], \n",
    "                    value_vars=[\"confidence_0\", \"confidence_1\", \"confidence_2\", \"confidence_3\", \n",
    "                                \"confidence_4\", \"confidence_5\", \"confidence_6\"], \n",
    "                    var_name=\"pred_label\", value_name=\"confidence\")\n",
    "# Extract the numerical part of the pred_label\n",
    "df_melted1[\"pred_label\"] = df_melted1[\"pred_label\"].str.extract(\"(\\d+)\").astype(int)\n",
    "\n",
    "# Reorder the columns to match the desired format\n",
    "df_final1 = df_melted1[[\"pred_label\", \"true_label\", \"confidence\"]]\n",
    "y_true1 = df_final1.true_label.values\n",
    "y_pred1 = df_final1.pred_label.values\n",
    "y_conf1 = df_final1.confidence.values\n",
    "# Define the plot function\n",
    "def plot_calibration_curve(y_conf, y_te, ax):\n",
    "    prob_true, prob_pred = calibration_curve(y_te, y_conf, n_bins=10)\n",
    "    ax.plot(prob_pred, prob_true, marker='o', label='Calibration Curve')\n",
    "    ax.plot([0, 1], [0, 1], linestyle='--', label='Perfectly Calibrated')\n",
    "    ax.set_xlabel('Model Confidence')\n",
    "    ax.set_ylabel('Fraction of Positives')\n",
    "    ax.legend()\n",
    "\n",
    "# Create subplots\n",
    "fig, axes = plt.subplots(1, 2, figsize=(12, 6))\n",
    "\n",
    "# Plot the two calibration curves side by side\n",
    "plot_calibration_curve(y_conf1, y_true1==y_pred1, axes[0])\n",
    "plot_calibration_curve(y_conf, y_true == y_pred, axes[1])\n",
    "axes[0].set_title('BBB')\n",
    "axes[1].set_title('NUTS')\n",
    "plt.tight_layout()\n",
    "plt.savefig('calibration_plot_example.png')\n",
    "\n",
    "plt.show()\n",
    "\n"
   ]
  },
  {
   "cell_type": "code",
   "execution_count": 65,
   "metadata": {},
   "outputs": [
    {
     "data": {
      "text/plain": [
       "(4438,)"
      ]
     },
     "execution_count": 65,
     "metadata": {},
     "output_type": "execute_result"
    }
   ],
   "source": [
    "y_conf1.shape"
   ]
  },
  {
   "cell_type": "code",
   "execution_count": 66,
   "metadata": {},
   "outputs": [
    {
     "data": {
      "image/png": "[encoded data removed]",
      "text/plain": [
       "<Figure size 640x480 with 1 Axes>"
      ]
     },
     "metadata": {},
     "output_type": "display_data"
    }
   ],
   "source": [
    "from sklearn.calibration import calibration_curve\n",
    "import matplotlib.pyplot as plt\n",
    "\n",
    "def plot_calibration_curve(y_conf, y_te):\n",
    "    # Compute calibration curve\n",
    "    prob_true, prob_pred = calibration_curve(y_te, y_conf , n_bins=10)\n",
    "\n",
    "    # Plot calibration curve\n",
    "    plt.plot(prob_pred, prob_true, marker='o', label='Calibration Curve')\n",
    "    plt.plot([0, 1], [0, 1], linestyle='--', label='Perfectly Calibrated')\n",
    "    plt.xlabel('Mean Predicted Probability')\n",
    "    plt.ylabel('Fraction of Positives')\n",
    "    plt.legend()\n",
    "    plt.show()\n",
    "\n",
    "# Example usage:\n",
    "# mean_preds is the output of your model (probabilities for each class)\n",
    "# y_te is the true labels\n",
    "plot_calibration_curve(y_conf,y_true==y_pred)"
   ]
  },
  {
   "cell_type": "code",
   "execution_count": null,
   "metadata": {},
   "outputs": [],
   "source": []
  }
 ],
 "metadata": {
  "kernelspec": {
   "display_name": ".venv",
   "language": "python",
   "name": "python3"
  },
  "language_info": {
   "codemirror_mode": {
    "name": "ipython",
    "version": 3
   },
   "file_extension": ".py",
   "mimetype": "text/x-python",
   "name": "python",
   "nbconvert_exporter": "python",
   "pygments_lexer": "ipython3",
   "version": "3.9.6"
  }
 },
 "nbformat": 4,
 "nbformat_minor": 2
}
