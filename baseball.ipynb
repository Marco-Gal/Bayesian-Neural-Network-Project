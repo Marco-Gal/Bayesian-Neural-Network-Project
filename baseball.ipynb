{
 "cells": [
  {
   "cell_type": "code",
   "execution_count": 4,
   "metadata": {},
   "outputs": [
    {
     "name": "stderr",
     "output_type": "stream",
     "text": [
      "usage: ipykernel_launcher.py [-h] [--num-samples NUM_SAMPLES]\n",
      "                             [--num-chains NUM_CHAINS]\n",
      "                             [--warmup-steps WARMUP_STEPS] [--jit]\n",
      "ipykernel_launcher.py: error: unrecognized arguments: --f=c:\\Users\\peter\\AppData\\Roaming\\jupyter\\runtime\\kernel-v34bc3be5bd31da0329848ef06180f0b05c44adad7.json\n"
     ]
    },
    {
     "ename": "SystemExit",
     "evalue": "2",
     "output_type": "error",
     "traceback": [
      "An exception has occurred, use %tb to see the full traceback.\n",
      "\u001b[1;31mSystemExit\u001b[0m\u001b[1;31m:\u001b[0m 2\n"
     ]
    }
   ],
   "source": [
    "# Copyright (c) 2017-2019 Uber Technologies, Inc.\n",
    "# SPDX-License-Identifier: Apache-2.0\n",
    "\n",
    "import argparse\n",
    "import logging\n",
    "\n",
    "import data\n",
    "import torch\n",
    "\n",
    "import pyro\n",
    "import pyro.distributions as dist\n",
    "import pyro.poutine as poutine\n",
    "from pyro.infer import MCMC, NUTS\n",
    "\n",
    "logging.basicConfig(format=\"%(message)s\", level=logging.INFO)\n",
    "pyro.set_rng_seed(0)\n",
    "\n",
    "\n",
    "def model(sigma):\n",
    "    eta = pyro.sample(\"eta\", dist.Normal(torch.zeros(data.J), torch.ones(data.J)))\n",
    "    mu = pyro.sample(\"mu\", dist.Normal(torch.zeros(1), 10 * torch.ones(1)))\n",
    "    tau = pyro.sample(\"tau\", dist.HalfCauchy(scale=25 * torch.ones(1)))\n",
    "\n",
    "    theta = mu + tau * eta\n",
    "\n",
    "    return pyro.sample(\"obs\", dist.Normal(theta, sigma))\n",
    "\n",
    "\n",
    "def conditioned_model(model, sigma, y):\n",
    "    return poutine.condition(model, data={\"obs\": y})(sigma)\n",
    "\n",
    "\n",
    "def main(args):\n",
    "    nuts_kernel = NUTS(conditioned_model, jit_compile=args.jit)\n",
    "    mcmc = MCMC(\n",
    "        nuts_kernel,\n",
    "        num_samples=args.num_samples,\n",
    "        warmup_steps=args.warmup_steps,\n",
    "        num_chains=args.num_chains,\n",
    "    )\n",
    "    mcmc.run(model, data.sigma, data.y)\n",
    "    mcmc.summary(prob=0.5)\n",
    "\n",
    "\n",
    "if __name__ == \"__main__\":\n",
    "    assert pyro.__version__.startswith(\"1.9.1\")\n",
    "    parser = argparse.ArgumentParser(description=\"Eight Schools MCMC\")\n",
    "    parser.add_argument(\n",
    "        \"--num-samples\",\n",
    "        type=int,\n",
    "        default=1000,\n",
    "        help=\"number of MCMC samples (default: 1000)\",\n",
    "    )\n",
    "    parser.add_argument(\n",
    "        \"--num-chains\",\n",
    "        type=int,\n",
    "        default=1,\n",
    "        help=\"number of parallel MCMC chains (default: 1)\",\n",
    "    )\n",
    "    parser.add_argument(\n",
    "        \"--warmup-steps\",\n",
    "        type=int,\n",
    "        default=1000,\n",
    "        help=\"number of MCMC samples for warmup (default: 1000)\",\n",
    "    )\n",
    "    parser.add_argument(\"--jit\", action=\"store_true\", default=False)\n",
    "    args = parser.parse_args()\n",
    "\n",
    "    main(args)"
   ]
  },
  {
   "cell_type": "code",
   "execution_count": null,
   "metadata": {},
   "outputs": [],
   "source": []
  },
  {
   "cell_type": "code",
   "execution_count": null,
   "metadata": {},
   "outputs": [],
   "source": []
  },
  {
   "cell_type": "code",
   "execution_count": null,
   "metadata": {},
   "outputs": [],
   "source": []
  },
  {
   "cell_type": "code",
   "execution_count": null,
   "metadata": {},
   "outputs": [],
   "source": []
  }
 ],
 "metadata": {
  "kernelspec": {
   "display_name": "Python 3",
   "language": "python",
   "name": "python3"
  },
  "language_info": {
   "codemirror_mode": {
    "name": "ipython",
    "version": 3
   },
   "file_extension": ".py",
   "mimetype": "text/x-python",
   "name": "python",
   "nbconvert_exporter": "python",
   "pygments_lexer": "ipython3",
   "version": "3.11.0"
  }
 },
 "nbformat": 4,
 "nbformat_minor": 2
}
